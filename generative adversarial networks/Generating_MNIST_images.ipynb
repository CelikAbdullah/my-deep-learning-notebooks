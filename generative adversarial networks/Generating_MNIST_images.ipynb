{
  "nbformat": 4,
  "nbformat_minor": 0,
  "metadata": {
    "colab": {
      "name": "Generating MNIST images.ipynb",
      "provenance": [],
      "collapsed_sections": [],
      "authorship_tag": "ABX9TyNSHU643ZdUkbXNM12DujWe",
      "include_colab_link": true
    },
    "kernelspec": {
      "name": "python3",
      "display_name": "Python 3"
    },
    "language_info": {
      "name": "python"
    },
    "gpuClass": "standard"
  },
  "cells": [
    {
      "cell_type": "markdown",
      "metadata": {
        "id": "view-in-github",
        "colab_type": "text"
      },
      "source": [
        "<a href=\"https://colab.research.google.com/github/CelikAbdullah/my-deep-learning-notebooks/blob/main/generative%20adversarial%20networks/Generating_MNIST_images.ipynb\" target=\"_parent\"><img src=\"https://colab.research.google.com/assets/colab-badge.svg\" alt=\"Open In Colab\"/></a>"
      ]
    },
    {
      "cell_type": "markdown",
      "source": [
        "# Imports"
      ],
      "metadata": {
        "id": "y39U7-z9qLCv"
      }
    },
    {
      "cell_type": "code",
      "execution_count": 7,
      "metadata": {
        "id": "naWBlrz2IM-r"
      },
      "outputs": [],
      "source": [
        "from tensorflow import keras\n",
        "import numpy as np\n",
        "import tensorflow as tf\n",
        "from PIL import Image\n",
        "from numpy import asarray\n",
        "import matplotlib.pyplot as plt"
      ]
    },
    {
      "cell_type": "markdown",
      "source": [
        "# Get the MNIST data"
      ],
      "metadata": {
        "id": "H4O9qIEpqP06"
      }
    },
    {
      "cell_type": "code",
      "source": [
        "(x_train, _), _ = keras.datasets.mnist.load_data()"
      ],
      "metadata": {
        "id": "L-M7OMH7KvfJ"
      },
      "execution_count": null,
      "outputs": []
    },
    {
      "cell_type": "code",
      "source": [
        "x_train = x_train.astype(\"float32\") / 255\n",
        "x_train.shape"
      ],
      "metadata": {
        "colab": {
          "base_uri": "https://localhost:8080/"
        },
        "id": "kxGM5gmlKQ9Z",
        "outputId": "404ed546-d0e4-4f0a-f4a1-5ab339754dfc"
      },
      "execution_count": null,
      "outputs": [
        {
          "output_type": "execute_result",
          "data": {
            "text/plain": [
              "(60000, 28, 28)"
            ]
          },
          "metadata": {},
          "execution_count": 15
        }
      ]
    },
    {
      "cell_type": "code",
      "source": [
        "x_train = np.expand_dims(x_train, -1)"
      ],
      "metadata": {
        "id": "Ks04ju8YKYs_"
      },
      "execution_count": null,
      "outputs": []
    },
    {
      "cell_type": "code",
      "source": [
        "x_train.shape"
      ],
      "metadata": {
        "colab": {
          "base_uri": "https://localhost:8080/"
        },
        "id": "2wrDITQxKfYz",
        "outputId": "7918e1fb-1127-468a-f185-500395d80a35"
      },
      "execution_count": null,
      "outputs": [
        {
          "output_type": "execute_result",
          "data": {
            "text/plain": [
              "(60000, 28, 28, 1)"
            ]
          },
          "metadata": {},
          "execution_count": 17
        }
      ]
    },
    {
      "cell_type": "markdown",
      "source": [
        "# Discriminator model"
      ],
      "metadata": {
        "id": "jlkUCZ8XK_LM"
      }
    },
    {
      "cell_type": "code",
      "source": [
        "discriminator = keras.Sequential(\n",
        "    [\n",
        "     keras.Input(shape=(28,28,1)), \n",
        "     keras.layers.Conv2D(64, kernel_size=4, strides=2, padding=\"same\"), \n",
        "     keras.layers.LeakyReLU(alpha=0.2),\n",
        "     keras.layers.Conv2D(128, kernel_size=4, strides=2, padding=\"same\"), \n",
        "     keras.layers.LeakyReLU(alpha=0.2), \n",
        "     keras.layers.Flatten(), \n",
        "     keras.layers.Dropout(0.2), \n",
        "     keras.layers.Dense(1, activation=\"sigmoid\"), \n",
        "    ], name=\"discriminator_model\"\n",
        ")\n",
        "\n",
        "discriminator.summary()"
      ],
      "metadata": {
        "colab": {
          "base_uri": "https://localhost:8080/"
        },
        "id": "jiKFBtNQLCHA",
        "outputId": "3d13bf35-553a-4c70-d2d9-9f3b84fb7cea"
      },
      "execution_count": null,
      "outputs": [
        {
          "output_type": "stream",
          "name": "stdout",
          "text": [
            "Model: \"discriminator_model\"\n",
            "_________________________________________________________________\n",
            " Layer (type)                Output Shape              Param #   \n",
            "=================================================================\n",
            " conv2d_3 (Conv2D)           (None, 14, 14, 64)        1088      \n",
            "                                                                 \n",
            " leaky_re_lu_4 (LeakyReLU)   (None, 14, 14, 64)        0         \n",
            "                                                                 \n",
            " conv2d_4 (Conv2D)           (None, 7, 7, 128)         131200    \n",
            "                                                                 \n",
            " leaky_re_lu_5 (LeakyReLU)   (None, 7, 7, 128)         0         \n",
            "                                                                 \n",
            " flatten_1 (Flatten)         (None, 6272)              0         \n",
            "                                                                 \n",
            " dropout_1 (Dropout)         (None, 6272)              0         \n",
            "                                                                 \n",
            " dense_2 (Dense)             (None, 1)                 6273      \n",
            "                                                                 \n",
            "=================================================================\n",
            "Total params: 138,561\n",
            "Trainable params: 138,561\n",
            "Non-trainable params: 0\n",
            "_________________________________________________________________\n"
          ]
        }
      ]
    },
    {
      "cell_type": "markdown",
      "source": [
        "# Generator model"
      ],
      "metadata": {
        "id": "quyEEvoBMeWM"
      }
    },
    {
      "cell_type": "code",
      "source": [
        "latent_dimension = 128\n",
        "\n",
        "generator = keras.Sequential(\n",
        "    [\n",
        "     keras.Input(shape=(latent_dimension, )), \n",
        "     keras.layers.Dense(7 * 7 * 128), \n",
        "     keras.layers.Reshape((7, 7, 128)), \n",
        "     keras.layers.Conv2DTranspose(128, kernel_size=4, strides=2, padding=\"same\"),\n",
        "     keras.layers.LeakyReLU(alpha=0.2),\n",
        "     keras.layers.Conv2DTranspose(256, kernel_size=4, strides=2, padding=\"same\"),\n",
        "     keras.layers.LeakyReLU(alpha=0.2),\n",
        "     keras.layers.Conv2D(1, kernel_size=5, padding=\"same\", activation=\"sigmoid\"),\n",
        "    ]\n",
        ")\n",
        "\n",
        "generator.summary()"
      ],
      "metadata": {
        "colab": {
          "base_uri": "https://localhost:8080/"
        },
        "id": "25Q0V5V0Mh1M",
        "outputId": "2d645126-b5f8-4846-ff44-aefd3e3eb750"
      },
      "execution_count": null,
      "outputs": [
        {
          "output_type": "stream",
          "name": "stdout",
          "text": [
            "Model: \"sequential_1\"\n",
            "_________________________________________________________________\n",
            " Layer (type)                Output Shape              Param #   \n",
            "=================================================================\n",
            " dense_3 (Dense)             (None, 6272)              809088    \n",
            "                                                                 \n",
            " reshape_1 (Reshape)         (None, 7, 7, 128)         0         \n",
            "                                                                 \n",
            " conv2d_transpose_2 (Conv2DT  (None, 14, 14, 128)      262272    \n",
            " ranspose)                                                       \n",
            "                                                                 \n",
            " leaky_re_lu_6 (LeakyReLU)   (None, 14, 14, 128)       0         \n",
            "                                                                 \n",
            " conv2d_transpose_3 (Conv2DT  (None, 28, 28, 256)      524544    \n",
            " ranspose)                                                       \n",
            "                                                                 \n",
            " leaky_re_lu_7 (LeakyReLU)   (None, 28, 28, 256)       0         \n",
            "                                                                 \n",
            " conv2d_5 (Conv2D)           (None, 28, 28, 1)         6401      \n",
            "                                                                 \n",
            "=================================================================\n",
            "Total params: 1,602,305\n",
            "Trainable params: 1,602,305\n",
            "Non-trainable params: 0\n",
            "_________________________________________________________________\n"
          ]
        }
      ]
    },
    {
      "cell_type": "markdown",
      "source": [
        "# GAN model"
      ],
      "metadata": {
        "id": "xMZvw7ay8UyQ"
      }
    },
    {
      "cell_type": "code",
      "source": [
        "class GAN(keras.Model):\n",
        "  def __init__(self, discriminator, generator, latent_dim):\n",
        "    super().__init__()\n",
        "    self.discriminator = discriminator\n",
        "    self.generator = generator\n",
        "    self.latent_dim = latent_dim\n",
        "    self.d_loss_metric = keras.metrics.Mean(name=\"d_loss\")\n",
        "    self.g_loss_metric = keras.metrics.Mean(name=\"g_loss\")\n",
        "    \n",
        "  def compile(self, d_optimizer, g_optimizer, loss_fn):\n",
        "    super(GAN, self).compile()\n",
        "    self.d_optimizer = d_optimizer\n",
        "    self.g_optimizer = g_optimizer\n",
        "    self.loss_fn = loss_fn\n",
        "    \n",
        "  @property\n",
        "  def metrics(self):\n",
        "    return [self.d_loss_metric, self.g_loss_metric]\n",
        "    \n",
        "  def train_step(self, real_images):\n",
        "    batch_size = tf.shape(real_images)[0]\n",
        "    random_latent_vectors = tf.random.normal(shape=(batch_size, self.latent_dim))\n",
        "    generated_images = self.generator(random_latent_vectors)\n",
        "    combined_images = tf.concat([generated_images, real_images], axis=0)\n",
        "    labels = tf.concat([tf.ones((batch_size, 1)), tf.zeros((batch_size, 1))],axis=0)\n",
        "    labels += 0.05 * tf.random.uniform(tf.shape(labels))\n",
        "    \n",
        "    with tf.GradientTape() as tape:\n",
        "      predictions = self.discriminator(combined_images)\n",
        "      d_loss = self.loss_fn(labels, predictions)\n",
        "    grads = tape.gradient(d_loss, self.discriminator.trainable_weights)\n",
        "    self.d_optimizer.apply_gradients(zip(grads, self.discriminator.trainable_weights))\n",
        "      \n",
        "    random_latent_vectors = tf.random.normal(shape=(batch_size, self.latent_dim))\n",
        "    misleading_labels = tf.zeros((batch_size, 1))\n",
        "      \n",
        "    with tf.GradientTape() as tape:\n",
        "      predictions = self.discriminator(self.generator(random_latent_vectors))\n",
        "      g_loss = self.loss_fn(misleading_labels, predictions)\n",
        "      \n",
        "    grads = tape.gradient(g_loss, self.generator.trainable_weights)\n",
        "    self.g_optimizer.apply_gradients(zip(grads, self.generator.trainable_weights))\n",
        "        \n",
        "    self.d_loss_metric.update_state(d_loss)\n",
        "    self.g_loss_metric.update_state(g_loss)\n",
        "    return {\"d_loss\": self.d_loss_metric.result(),\n",
        "            \"g_loss\": self.g_loss_metric.result()}"
      ],
      "metadata": {
        "id": "E-uQXgVH8To8"
      },
      "execution_count": null,
      "outputs": []
    },
    {
      "cell_type": "markdown",
      "source": [
        "# Define a custom callback"
      ],
      "metadata": {
        "id": "zpnIhhyRqfjs"
      }
    },
    {
      "cell_type": "code",
      "source": [
        "# a callback that samples generated images during training\n",
        "class GANMonitor(keras.callbacks.Callback):\n",
        "  def __init__(self, num_img=3, latent_dim=128):\n",
        "    self.num_img = num_img\n",
        "    self.latent_dim = latent_dim\n",
        "    \n",
        "  def on_epoch_end(self, epoch, logs=None):\n",
        "    random_latent_vectors = tf.random.normal(shape=(self.num_img, self.latent_dim))\n",
        "    generated_images = self.model.generator(random_latent_vectors)\n",
        "    generated_images *= 255\n",
        "    generated_images.numpy()\n",
        "\n",
        "    for i in range(self.num_img):\n",
        "      img = keras.utils.array_to_img(generated_images[i])\n",
        "      img.save(f\"generated_img_{epoch:03d}_{i}.png\")\n"
      ],
      "metadata": {
        "id": "Zro1SgWYBg7-"
      },
      "execution_count": null,
      "outputs": []
    },
    {
      "cell_type": "markdown",
      "source": [
        "# Create the GAN model"
      ],
      "metadata": {
        "id": "o65WagREqXnL"
      }
    },
    {
      "cell_type": "code",
      "source": [
        "gan = GAN(discriminator=discriminator, generator=generator, latent_dim=latent_dimension)"
      ],
      "metadata": {
        "id": "QBtpL0_nqoGi"
      },
      "execution_count": null,
      "outputs": []
    },
    {
      "cell_type": "markdown",
      "source": [
        "# Compile and train the GAN model"
      ],
      "metadata": {
        "id": "N1OsGDwPqsam"
      }
    },
    {
      "cell_type": "code",
      "source": [
        "epochs = 100\n",
        "\n",
        "gan.compile(\n",
        "    d_optimizer=keras.optimizers.Adam(learning_rate=0.0001),\n",
        "    g_optimizer=keras.optimizers.Adam(learning_rate=0.0001),\n",
        "    loss_fn=keras.losses.BinaryCrossentropy(),\n",
        ")\n",
        "\n",
        "gan.fit(\n",
        "    x_train, epochs=epochs, callbacks=[GANMonitor(num_img=10, latent_dim=latent_dimension)]\n",
        ")"
      ],
      "metadata": {
        "colab": {
          "base_uri": "https://localhost:8080/",
          "height": 1000
        },
        "id": "0jHIeYBfCvNZ",
        "outputId": "f4fb24d1-ee55-41be-a3fe-9449622a9a32"
      },
      "execution_count": null,
      "outputs": [
        {
          "output_type": "stream",
          "name": "stdout",
          "text": [
            "Epoch 1/100\n",
            "   5/1875 [..............................] - ETA: 1:14 - d_loss: 0.6899 - g_loss: 0.7035WARNING:tensorflow:Callback method `on_train_batch_end` is slow compared to the batch time (batch time: 0.0074s vs `on_train_batch_end` time: 0.0300s). Check your callbacks.\n",
            "1875/1875 [==============================] - 44s 23ms/step - d_loss: 0.5503 - g_loss: 1.0371\n",
            "Epoch 2/100\n",
            "1875/1875 [==============================] - 41s 22ms/step - d_loss: 0.6089 - g_loss: 1.0318\n",
            "Epoch 3/100\n",
            "1875/1875 [==============================] - 42s 23ms/step - d_loss: 0.5806 - g_loss: 1.0619\n",
            "Epoch 4/100\n",
            "1875/1875 [==============================] - 41s 22ms/step - d_loss: 0.6425 - g_loss: 0.8896\n",
            "Epoch 5/100\n",
            "1875/1875 [==============================] - 41s 22ms/step - d_loss: 0.6404 - g_loss: 0.8873\n",
            "Epoch 6/100\n",
            "1875/1875 [==============================] - 41s 22ms/step - d_loss: 0.6319 - g_loss: 0.9028\n",
            "Epoch 7/100\n",
            "1875/1875 [==============================] - 41s 22ms/step - d_loss: 0.6281 - g_loss: 0.9199\n",
            "Epoch 8/100\n",
            "1875/1875 [==============================] - 41s 22ms/step - d_loss: 0.6256 - g_loss: 0.9042\n",
            "Epoch 9/100\n",
            "1875/1875 [==============================] - 41s 22ms/step - d_loss: 0.6240 - g_loss: 0.9226\n",
            "Epoch 10/100\n",
            "1875/1875 [==============================] - 41s 22ms/step - d_loss: 0.6250 - g_loss: 0.9175\n",
            "Epoch 11/100\n",
            "1875/1875 [==============================] - 41s 22ms/step - d_loss: 0.6288 - g_loss: 0.9011\n",
            "Epoch 12/100\n",
            "1875/1875 [==============================] - 41s 22ms/step - d_loss: 0.6296 - g_loss: 0.9003\n",
            "Epoch 13/100\n",
            "1875/1875 [==============================] - 41s 22ms/step - d_loss: 0.6250 - g_loss: 0.9343\n",
            "Epoch 14/100\n",
            "1875/1875 [==============================] - 41s 22ms/step - d_loss: 0.6247 - g_loss: 0.9268\n",
            "Epoch 15/100\n",
            "1875/1875 [==============================] - 41s 22ms/step - d_loss: 0.6309 - g_loss: 0.8813\n",
            "Epoch 16/100\n",
            "1875/1875 [==============================] - 41s 22ms/step - d_loss: 0.6307 - g_loss: 0.9084\n",
            "Epoch 17/100\n",
            "1875/1875 [==============================] - 41s 22ms/step - d_loss: 0.6337 - g_loss: 0.8883\n",
            "Epoch 18/100\n",
            "1875/1875 [==============================] - 41s 22ms/step - d_loss: 0.6371 - g_loss: 0.8729\n",
            "Epoch 19/100\n",
            "1875/1875 [==============================] - 41s 22ms/step - d_loss: 0.6397 - g_loss: 0.8718\n",
            "Epoch 20/100\n",
            "1875/1875 [==============================] - 41s 22ms/step - d_loss: 0.6409 - g_loss: 0.8666\n",
            "Epoch 21/100\n",
            "1875/1875 [==============================] - 41s 22ms/step - d_loss: 0.6423 - g_loss: 0.8625\n",
            "Epoch 22/100\n",
            "1875/1875 [==============================] - 41s 22ms/step - d_loss: 0.6448 - g_loss: 0.8657\n",
            "Epoch 23/100\n",
            "1875/1875 [==============================] - 41s 22ms/step - d_loss: 0.6411 - g_loss: 0.8830\n",
            "Epoch 24/100\n",
            "1875/1875 [==============================] - 41s 22ms/step - d_loss: 0.6456 - g_loss: 0.8624\n",
            "Epoch 25/100\n",
            "1875/1875 [==============================] - 41s 22ms/step - d_loss: 0.6470 - g_loss: 0.8642\n",
            "Epoch 26/100\n",
            "1875/1875 [==============================] - 41s 22ms/step - d_loss: 0.6467 - g_loss: 0.8562\n",
            "Epoch 27/100\n",
            "1875/1875 [==============================] - 41s 22ms/step - d_loss: 0.6479 - g_loss: 0.8624\n",
            "Epoch 28/100\n",
            "1875/1875 [==============================] - 41s 22ms/step - d_loss: 0.6483 - g_loss: 0.8600\n",
            "Epoch 29/100\n",
            "1875/1875 [==============================] - 41s 22ms/step - d_loss: 0.6482 - g_loss: 0.8570\n",
            "Epoch 30/100\n",
            "1875/1875 [==============================] - 41s 22ms/step - d_loss: 0.6489 - g_loss: 0.8572\n",
            "Epoch 31/100\n",
            "1875/1875 [==============================] - 41s 22ms/step - d_loss: 0.6491 - g_loss: 0.8557\n",
            "Epoch 32/100\n",
            "1875/1875 [==============================] - 41s 22ms/step - d_loss: 0.6495 - g_loss: 0.8572\n",
            "Epoch 33/100\n",
            "1875/1875 [==============================] - 41s 22ms/step - d_loss: 0.6496 - g_loss: 0.8598\n",
            "Epoch 34/100\n",
            "1875/1875 [==============================] - 41s 22ms/step - d_loss: 0.6493 - g_loss: 0.8574\n",
            "Epoch 35/100\n",
            "1875/1875 [==============================] - 41s 22ms/step - d_loss: 0.6495 - g_loss: 0.8611\n",
            "Epoch 36/100\n",
            "1875/1875 [==============================] - 41s 22ms/step - d_loss: 0.6500 - g_loss: 0.8592\n",
            "Epoch 37/100\n",
            "1875/1875 [==============================] - 41s 22ms/step - d_loss: 0.6491 - g_loss: 0.8610\n",
            "Epoch 38/100\n",
            "1875/1875 [==============================] - 41s 22ms/step - d_loss: 0.6492 - g_loss: 0.8552\n",
            "Epoch 39/100\n",
            "1875/1875 [==============================] - 41s 22ms/step - d_loss: 0.6486 - g_loss: 0.8615\n",
            "Epoch 40/100\n",
            "1875/1875 [==============================] - 41s 22ms/step - d_loss: 0.6501 - g_loss: 0.8575\n",
            "Epoch 41/100\n",
            "1875/1875 [==============================] - 42s 23ms/step - d_loss: 0.6494 - g_loss: 0.8582\n",
            "Epoch 42/100\n",
            "1875/1875 [==============================] - 41s 22ms/step - d_loss: 0.6497 - g_loss: 0.8566\n",
            "Epoch 43/100\n",
            "1875/1875 [==============================] - 41s 22ms/step - d_loss: 0.6503 - g_loss: 0.8603\n",
            "Epoch 44/100\n",
            "1875/1875 [==============================] - 41s 22ms/step - d_loss: 0.6501 - g_loss: 0.8610\n",
            "Epoch 45/100\n",
            "1875/1875 [==============================] - 41s 22ms/step - d_loss: 0.6500 - g_loss: 0.8586\n",
            "Epoch 46/100\n",
            "1875/1875 [==============================] - 41s 22ms/step - d_loss: 0.6498 - g_loss: 0.8553\n",
            "Epoch 47/100\n",
            "1875/1875 [==============================] - 41s 22ms/step - d_loss: 0.6504 - g_loss: 0.8602\n",
            "Epoch 48/100\n",
            "1875/1875 [==============================] - 41s 22ms/step - d_loss: 0.6494 - g_loss: 0.8572\n",
            "Epoch 49/100\n",
            "1875/1875 [==============================] - 41s 22ms/step - d_loss: 0.6497 - g_loss: 0.8592\n",
            "Epoch 50/100\n",
            "1875/1875 [==============================] - 41s 22ms/step - d_loss: 0.6506 - g_loss: 0.8581\n",
            "Epoch 51/100\n",
            "1875/1875 [==============================] - 41s 22ms/step - d_loss: 0.6501 - g_loss: 0.8609\n",
            "Epoch 52/100\n",
            "1875/1875 [==============================] - 41s 22ms/step - d_loss: 0.6502 - g_loss: 0.8597\n",
            "Epoch 53/100\n",
            "1875/1875 [==============================] - 41s 22ms/step - d_loss: 0.6508 - g_loss: 0.8600\n",
            "Epoch 54/100\n",
            "1875/1875 [==============================] - 41s 22ms/step - d_loss: 0.6506 - g_loss: 0.8554\n",
            "Epoch 55/100\n",
            "1875/1875 [==============================] - 41s 22ms/step - d_loss: 0.6504 - g_loss: 0.8610\n",
            "Epoch 56/100\n",
            "1875/1875 [==============================] - 41s 22ms/step - d_loss: 0.6497 - g_loss: 0.8608\n",
            "Epoch 57/100\n",
            "1875/1875 [==============================] - 41s 22ms/step - d_loss: 0.6511 - g_loss: 0.8589\n",
            "Epoch 58/100\n",
            "1875/1875 [==============================] - 41s 22ms/step - d_loss: 0.6503 - g_loss: 0.8588\n",
            "Epoch 59/100\n",
            "1875/1875 [==============================] - 41s 22ms/step - d_loss: 0.6503 - g_loss: 0.8575\n",
            "Epoch 60/100\n",
            "1875/1875 [==============================] - 41s 22ms/step - d_loss: 0.6511 - g_loss: 0.8600\n",
            "Epoch 61/100\n",
            "1875/1875 [==============================] - 41s 22ms/step - d_loss: 0.6505 - g_loss: 0.8553\n",
            "Epoch 62/100\n",
            "1875/1875 [==============================] - 41s 22ms/step - d_loss: 0.6506 - g_loss: 0.8632\n",
            "Epoch 63/100\n",
            "  60/1875 [..............................] - ETA: 39s - d_loss: 0.6468 - g_loss: 0.8556"
          ]
        },
        {
          "output_type": "error",
          "ename": "KeyboardInterrupt",
          "evalue": "ignored",
          "traceback": [
            "\u001b[0;31m---------------------------------------------------------------------------\u001b[0m",
            "\u001b[0;31mKeyboardInterrupt\u001b[0m                         Traceback (most recent call last)",
            "\u001b[0;32m<ipython-input-22-90148f8053a8>\u001b[0m in \u001b[0;36m<module>\u001b[0;34m()\u001b[0m\n\u001b[1;32m      9\u001b[0m \u001b[0;34m\u001b[0m\u001b[0m\n\u001b[1;32m     10\u001b[0m gan.fit(\n\u001b[0;32m---> 11\u001b[0;31m     \u001b[0mx_train\u001b[0m\u001b[0;34m,\u001b[0m \u001b[0mepochs\u001b[0m\u001b[0;34m=\u001b[0m\u001b[0mepochs\u001b[0m\u001b[0;34m,\u001b[0m \u001b[0mcallbacks\u001b[0m\u001b[0;34m=\u001b[0m\u001b[0;34m[\u001b[0m\u001b[0mGANMonitor\u001b[0m\u001b[0;34m(\u001b[0m\u001b[0mnum_img\u001b[0m\u001b[0;34m=\u001b[0m\u001b[0;36m10\u001b[0m\u001b[0;34m,\u001b[0m \u001b[0mlatent_dim\u001b[0m\u001b[0;34m=\u001b[0m\u001b[0mlatent_dimension\u001b[0m\u001b[0;34m)\u001b[0m\u001b[0;34m]\u001b[0m\u001b[0;34m\u001b[0m\u001b[0;34m\u001b[0m\u001b[0m\n\u001b[0m\u001b[1;32m     12\u001b[0m )\n",
            "\u001b[0;32m/usr/local/lib/python3.7/dist-packages/keras/utils/traceback_utils.py\u001b[0m in \u001b[0;36merror_handler\u001b[0;34m(*args, **kwargs)\u001b[0m\n\u001b[1;32m     62\u001b[0m     \u001b[0mfiltered_tb\u001b[0m \u001b[0;34m=\u001b[0m \u001b[0;32mNone\u001b[0m\u001b[0;34m\u001b[0m\u001b[0;34m\u001b[0m\u001b[0m\n\u001b[1;32m     63\u001b[0m     \u001b[0;32mtry\u001b[0m\u001b[0;34m:\u001b[0m\u001b[0;34m\u001b[0m\u001b[0;34m\u001b[0m\u001b[0m\n\u001b[0;32m---> 64\u001b[0;31m       \u001b[0;32mreturn\u001b[0m \u001b[0mfn\u001b[0m\u001b[0;34m(\u001b[0m\u001b[0;34m*\u001b[0m\u001b[0margs\u001b[0m\u001b[0;34m,\u001b[0m \u001b[0;34m**\u001b[0m\u001b[0mkwargs\u001b[0m\u001b[0;34m)\u001b[0m\u001b[0;34m\u001b[0m\u001b[0;34m\u001b[0m\u001b[0m\n\u001b[0m\u001b[1;32m     65\u001b[0m     \u001b[0;32mexcept\u001b[0m \u001b[0mException\u001b[0m \u001b[0;32mas\u001b[0m \u001b[0me\u001b[0m\u001b[0;34m:\u001b[0m  \u001b[0;31m# pylint: disable=broad-except\u001b[0m\u001b[0;34m\u001b[0m\u001b[0;34m\u001b[0m\u001b[0m\n\u001b[1;32m     66\u001b[0m       \u001b[0mfiltered_tb\u001b[0m \u001b[0;34m=\u001b[0m \u001b[0m_process_traceback_frames\u001b[0m\u001b[0;34m(\u001b[0m\u001b[0me\u001b[0m\u001b[0;34m.\u001b[0m\u001b[0m__traceback__\u001b[0m\u001b[0;34m)\u001b[0m\u001b[0;34m\u001b[0m\u001b[0;34m\u001b[0m\u001b[0m\n",
            "\u001b[0;32m/usr/local/lib/python3.7/dist-packages/keras/engine/training.py\u001b[0m in \u001b[0;36mfit\u001b[0;34m(self, x, y, batch_size, epochs, verbose, callbacks, validation_split, validation_data, shuffle, class_weight, sample_weight, initial_epoch, steps_per_epoch, validation_steps, validation_batch_size, validation_freq, max_queue_size, workers, use_multiprocessing)\u001b[0m\n\u001b[1;32m   1382\u001b[0m                 _r=1):\n\u001b[1;32m   1383\u001b[0m               \u001b[0mcallbacks\u001b[0m\u001b[0;34m.\u001b[0m\u001b[0mon_train_batch_begin\u001b[0m\u001b[0;34m(\u001b[0m\u001b[0mstep\u001b[0m\u001b[0;34m)\u001b[0m\u001b[0;34m\u001b[0m\u001b[0;34m\u001b[0m\u001b[0m\n\u001b[0;32m-> 1384\u001b[0;31m               \u001b[0mtmp_logs\u001b[0m \u001b[0;34m=\u001b[0m \u001b[0mself\u001b[0m\u001b[0;34m.\u001b[0m\u001b[0mtrain_function\u001b[0m\u001b[0;34m(\u001b[0m\u001b[0miterator\u001b[0m\u001b[0;34m)\u001b[0m\u001b[0;34m\u001b[0m\u001b[0;34m\u001b[0m\u001b[0m\n\u001b[0m\u001b[1;32m   1385\u001b[0m               \u001b[0;32mif\u001b[0m \u001b[0mdata_handler\u001b[0m\u001b[0;34m.\u001b[0m\u001b[0mshould_sync\u001b[0m\u001b[0;34m:\u001b[0m\u001b[0;34m\u001b[0m\u001b[0;34m\u001b[0m\u001b[0m\n\u001b[1;32m   1386\u001b[0m                 \u001b[0mcontext\u001b[0m\u001b[0;34m.\u001b[0m\u001b[0masync_wait\u001b[0m\u001b[0;34m(\u001b[0m\u001b[0;34m)\u001b[0m\u001b[0;34m\u001b[0m\u001b[0;34m\u001b[0m\u001b[0m\n",
            "\u001b[0;32m/usr/local/lib/python3.7/dist-packages/tensorflow/python/util/traceback_utils.py\u001b[0m in \u001b[0;36merror_handler\u001b[0;34m(*args, **kwargs)\u001b[0m\n\u001b[1;32m    148\u001b[0m     \u001b[0mfiltered_tb\u001b[0m \u001b[0;34m=\u001b[0m \u001b[0;32mNone\u001b[0m\u001b[0;34m\u001b[0m\u001b[0;34m\u001b[0m\u001b[0m\n\u001b[1;32m    149\u001b[0m     \u001b[0;32mtry\u001b[0m\u001b[0;34m:\u001b[0m\u001b[0;34m\u001b[0m\u001b[0;34m\u001b[0m\u001b[0m\n\u001b[0;32m--> 150\u001b[0;31m       \u001b[0;32mreturn\u001b[0m \u001b[0mfn\u001b[0m\u001b[0;34m(\u001b[0m\u001b[0;34m*\u001b[0m\u001b[0margs\u001b[0m\u001b[0;34m,\u001b[0m \u001b[0;34m**\u001b[0m\u001b[0mkwargs\u001b[0m\u001b[0;34m)\u001b[0m\u001b[0;34m\u001b[0m\u001b[0;34m\u001b[0m\u001b[0m\n\u001b[0m\u001b[1;32m    151\u001b[0m     \u001b[0;32mexcept\u001b[0m \u001b[0mException\u001b[0m \u001b[0;32mas\u001b[0m \u001b[0me\u001b[0m\u001b[0;34m:\u001b[0m\u001b[0;34m\u001b[0m\u001b[0;34m\u001b[0m\u001b[0m\n\u001b[1;32m    152\u001b[0m       \u001b[0mfiltered_tb\u001b[0m \u001b[0;34m=\u001b[0m \u001b[0m_process_traceback_frames\u001b[0m\u001b[0;34m(\u001b[0m\u001b[0me\u001b[0m\u001b[0;34m.\u001b[0m\u001b[0m__traceback__\u001b[0m\u001b[0;34m)\u001b[0m\u001b[0;34m\u001b[0m\u001b[0;34m\u001b[0m\u001b[0m\n",
            "\u001b[0;32m/usr/local/lib/python3.7/dist-packages/tensorflow/python/eager/def_function.py\u001b[0m in \u001b[0;36m__call__\u001b[0;34m(self, *args, **kwds)\u001b[0m\n\u001b[1;32m    913\u001b[0m \u001b[0;34m\u001b[0m\u001b[0m\n\u001b[1;32m    914\u001b[0m       \u001b[0;32mwith\u001b[0m \u001b[0mOptionalXlaContext\u001b[0m\u001b[0;34m(\u001b[0m\u001b[0mself\u001b[0m\u001b[0;34m.\u001b[0m\u001b[0m_jit_compile\u001b[0m\u001b[0;34m)\u001b[0m\u001b[0;34m:\u001b[0m\u001b[0;34m\u001b[0m\u001b[0;34m\u001b[0m\u001b[0m\n\u001b[0;32m--> 915\u001b[0;31m         \u001b[0mresult\u001b[0m \u001b[0;34m=\u001b[0m \u001b[0mself\u001b[0m\u001b[0;34m.\u001b[0m\u001b[0m_call\u001b[0m\u001b[0;34m(\u001b[0m\u001b[0;34m*\u001b[0m\u001b[0margs\u001b[0m\u001b[0;34m,\u001b[0m \u001b[0;34m**\u001b[0m\u001b[0mkwds\u001b[0m\u001b[0;34m)\u001b[0m\u001b[0;34m\u001b[0m\u001b[0;34m\u001b[0m\u001b[0m\n\u001b[0m\u001b[1;32m    916\u001b[0m \u001b[0;34m\u001b[0m\u001b[0m\n\u001b[1;32m    917\u001b[0m       \u001b[0mnew_tracing_count\u001b[0m \u001b[0;34m=\u001b[0m \u001b[0mself\u001b[0m\u001b[0;34m.\u001b[0m\u001b[0mexperimental_get_tracing_count\u001b[0m\u001b[0;34m(\u001b[0m\u001b[0;34m)\u001b[0m\u001b[0;34m\u001b[0m\u001b[0;34m\u001b[0m\u001b[0m\n",
            "\u001b[0;32m/usr/local/lib/python3.7/dist-packages/tensorflow/python/eager/def_function.py\u001b[0m in \u001b[0;36m_call\u001b[0;34m(self, *args, **kwds)\u001b[0m\n\u001b[1;32m    945\u001b[0m       \u001b[0;31m# In this case we have created variables on the first call, so we run the\u001b[0m\u001b[0;34m\u001b[0m\u001b[0;34m\u001b[0m\u001b[0;34m\u001b[0m\u001b[0m\n\u001b[1;32m    946\u001b[0m       \u001b[0;31m# defunned version which is guaranteed to never create variables.\u001b[0m\u001b[0;34m\u001b[0m\u001b[0;34m\u001b[0m\u001b[0;34m\u001b[0m\u001b[0m\n\u001b[0;32m--> 947\u001b[0;31m       \u001b[0;32mreturn\u001b[0m \u001b[0mself\u001b[0m\u001b[0;34m.\u001b[0m\u001b[0m_stateless_fn\u001b[0m\u001b[0;34m(\u001b[0m\u001b[0;34m*\u001b[0m\u001b[0margs\u001b[0m\u001b[0;34m,\u001b[0m \u001b[0;34m**\u001b[0m\u001b[0mkwds\u001b[0m\u001b[0;34m)\u001b[0m  \u001b[0;31m# pylint: disable=not-callable\u001b[0m\u001b[0;34m\u001b[0m\u001b[0;34m\u001b[0m\u001b[0m\n\u001b[0m\u001b[1;32m    948\u001b[0m     \u001b[0;32melif\u001b[0m \u001b[0mself\u001b[0m\u001b[0;34m.\u001b[0m\u001b[0m_stateful_fn\u001b[0m \u001b[0;32mis\u001b[0m \u001b[0;32mnot\u001b[0m \u001b[0;32mNone\u001b[0m\u001b[0;34m:\u001b[0m\u001b[0;34m\u001b[0m\u001b[0;34m\u001b[0m\u001b[0m\n\u001b[1;32m    949\u001b[0m       \u001b[0;31m# Release the lock early so that multiple threads can perform the call\u001b[0m\u001b[0;34m\u001b[0m\u001b[0;34m\u001b[0m\u001b[0;34m\u001b[0m\u001b[0m\n",
            "\u001b[0;32m/usr/local/lib/python3.7/dist-packages/tensorflow/python/eager/function.py\u001b[0m in \u001b[0;36m__call__\u001b[0;34m(self, *args, **kwargs)\u001b[0m\n\u001b[1;32m   2955\u001b[0m        filtered_flat_args) = self._maybe_define_function(args, kwargs)\n\u001b[1;32m   2956\u001b[0m     return graph_function._call_flat(\n\u001b[0;32m-> 2957\u001b[0;31m         filtered_flat_args, captured_inputs=graph_function.captured_inputs)  # pylint: disable=protected-access\n\u001b[0m\u001b[1;32m   2958\u001b[0m \u001b[0;34m\u001b[0m\u001b[0m\n\u001b[1;32m   2959\u001b[0m   \u001b[0;34m@\u001b[0m\u001b[0mproperty\u001b[0m\u001b[0;34m\u001b[0m\u001b[0;34m\u001b[0m\u001b[0m\n",
            "\u001b[0;32m/usr/local/lib/python3.7/dist-packages/tensorflow/python/eager/function.py\u001b[0m in \u001b[0;36m_call_flat\u001b[0;34m(self, args, captured_inputs, cancellation_manager)\u001b[0m\n\u001b[1;32m   1852\u001b[0m       \u001b[0;31m# No tape is watching; skip to running the function.\u001b[0m\u001b[0;34m\u001b[0m\u001b[0;34m\u001b[0m\u001b[0;34m\u001b[0m\u001b[0m\n\u001b[1;32m   1853\u001b[0m       return self._build_call_outputs(self._inference_function.call(\n\u001b[0;32m-> 1854\u001b[0;31m           ctx, args, cancellation_manager=cancellation_manager))\n\u001b[0m\u001b[1;32m   1855\u001b[0m     forward_backward = self._select_forward_and_backward_functions(\n\u001b[1;32m   1856\u001b[0m         \u001b[0margs\u001b[0m\u001b[0;34m,\u001b[0m\u001b[0;34m\u001b[0m\u001b[0;34m\u001b[0m\u001b[0m\n",
            "\u001b[0;32m/usr/local/lib/python3.7/dist-packages/tensorflow/python/eager/function.py\u001b[0m in \u001b[0;36mcall\u001b[0;34m(self, ctx, args, cancellation_manager)\u001b[0m\n\u001b[1;32m    502\u001b[0m               \u001b[0minputs\u001b[0m\u001b[0;34m=\u001b[0m\u001b[0margs\u001b[0m\u001b[0;34m,\u001b[0m\u001b[0;34m\u001b[0m\u001b[0;34m\u001b[0m\u001b[0m\n\u001b[1;32m    503\u001b[0m               \u001b[0mattrs\u001b[0m\u001b[0;34m=\u001b[0m\u001b[0mattrs\u001b[0m\u001b[0;34m,\u001b[0m\u001b[0;34m\u001b[0m\u001b[0;34m\u001b[0m\u001b[0m\n\u001b[0;32m--> 504\u001b[0;31m               ctx=ctx)\n\u001b[0m\u001b[1;32m    505\u001b[0m         \u001b[0;32melse\u001b[0m\u001b[0;34m:\u001b[0m\u001b[0;34m\u001b[0m\u001b[0;34m\u001b[0m\u001b[0m\n\u001b[1;32m    506\u001b[0m           outputs = execute.execute_with_cancellation(\n",
            "\u001b[0;32m/usr/local/lib/python3.7/dist-packages/tensorflow/python/eager/execute.py\u001b[0m in \u001b[0;36mquick_execute\u001b[0;34m(op_name, num_outputs, inputs, attrs, ctx, name)\u001b[0m\n\u001b[1;32m     53\u001b[0m     \u001b[0mctx\u001b[0m\u001b[0;34m.\u001b[0m\u001b[0mensure_initialized\u001b[0m\u001b[0;34m(\u001b[0m\u001b[0;34m)\u001b[0m\u001b[0;34m\u001b[0m\u001b[0;34m\u001b[0m\u001b[0m\n\u001b[1;32m     54\u001b[0m     tensors = pywrap_tfe.TFE_Py_Execute(ctx._handle, device_name, op_name,\n\u001b[0;32m---> 55\u001b[0;31m                                         inputs, attrs, num_outputs)\n\u001b[0m\u001b[1;32m     56\u001b[0m   \u001b[0;32mexcept\u001b[0m \u001b[0mcore\u001b[0m\u001b[0;34m.\u001b[0m\u001b[0m_NotOkStatusException\u001b[0m \u001b[0;32mas\u001b[0m \u001b[0me\u001b[0m\u001b[0;34m:\u001b[0m\u001b[0;34m\u001b[0m\u001b[0;34m\u001b[0m\u001b[0m\n\u001b[1;32m     57\u001b[0m     \u001b[0;32mif\u001b[0m \u001b[0mname\u001b[0m \u001b[0;32mis\u001b[0m \u001b[0;32mnot\u001b[0m \u001b[0;32mNone\u001b[0m\u001b[0;34m:\u001b[0m\u001b[0;34m\u001b[0m\u001b[0;34m\u001b[0m\u001b[0m\n",
            "\u001b[0;31mKeyboardInterrupt\u001b[0m: "
          ]
        }
      ]
    },
    {
      "cell_type": "markdown",
      "source": [
        "I stopped training the GAN after 62 epochs."
      ],
      "metadata": {
        "id": "TR7vgEBGTCLG"
      }
    },
    {
      "cell_type": "markdown",
      "source": [
        "# Printing the generated images"
      ],
      "metadata": {
        "id": "u6IKDgsQtViU"
      }
    },
    {
      "cell_type": "markdown",
      "source": [
        "## The results after the first epoch"
      ],
      "metadata": {
        "id": "sgJT_GXYtZVW"
      }
    },
    {
      "cell_type": "code",
      "source": [
        "img0 = Image.open('/content/generated_img_000_0.png')\n",
        "img1 = Image.open('/content/generated_img_000_1.png')\n",
        "img2 = Image.open('/content/generated_img_000_2.png')\n",
        "img3 = Image.open('/content/generated_img_000_3.png')\n",
        "img4 = Image.open('/content/generated_img_000_4.png')\n",
        "img5 = Image.open('/content/generated_img_000_5.png')\n",
        "img6 = Image.open('/content/generated_img_000_6.png')\n",
        "img7 = Image.open('/content/generated_img_000_7.png')\n",
        "img8 = Image.open('/content/generated_img_000_8.png')\n",
        "img9 = Image.open('/content/generated_img_000_9.png')\n",
        "\n",
        "numpyImg0 = asarray(img0)\n",
        "numpyImg1 = asarray(img1)\n",
        "numpyImg2= asarray(img2)\n",
        "numpyImg3= asarray(img3)\n",
        "numpyImg4= asarray(img4)\n",
        "numpyImg5= asarray(img5)\n",
        "numpyImg6= asarray(img6)\n",
        "numpyImg7= asarray(img7)\n",
        "numpyImg8= asarray(img8)\n",
        "numpyImg9= asarray(img9)\n",
        "plt.figure()\n",
        "f, axarr = plt.subplots(2,5) \n",
        "axarr[0][0].imshow(numpyImg0, cmap=\"gray\")\n",
        "axarr[0][1].imshow(numpyImg1, cmap=\"gray\")\n",
        "axarr[0][2].imshow(numpyImg2, cmap=\"gray\")\n",
        "axarr[0][3].imshow(numpyImg3, cmap=\"gray\")\n",
        "axarr[0][4].imshow(numpyImg4, cmap=\"gray\")\n",
        "\n",
        "axarr[1][0].imshow(numpyImg5, cmap=\"gray\")\n",
        "axarr[1][1].imshow(numpyImg6, cmap=\"gray\")\n",
        "axarr[1][2].imshow(numpyImg7, cmap=\"gray\")\n",
        "axarr[1][3].imshow(numpyImg8, cmap=\"gray\")\n",
        "axarr[1][4].imshow(numpyImg9, cmap=\"gray\")\n"
      ],
      "metadata": {
        "colab": {
          "base_uri": "https://localhost:8080/",
          "height": 262
        },
        "id": "SdKHOZukT7-h",
        "outputId": "7faf9c4f-b134-460a-ac36-1e170b060565"
      },
      "execution_count": 15,
      "outputs": [
        {
          "output_type": "execute_result",
          "data": {
            "text/plain": [
              "<matplotlib.image.AxesImage at 0x7fe776f51a50>"
            ]
          },
          "metadata": {},
          "execution_count": 15
        },
        {
          "output_type": "display_data",
          "data": {
            "text/plain": [
              "<Figure size 432x288 with 0 Axes>"
            ]
          },
          "metadata": {}
        },
        {
          "output_type": "display_data",
          "data": {
            "text/plain": [
              "<Figure size 432x288 with 10 Axes>"
            ],
            "image/png": "[encoded data removed]"
          },
          "metadata": {
            "needs_background": "light"
          }
        }
      ]
    },
    {
      "cell_type": "markdown",
      "source": [
        "# The results after the 31th epoch"
      ],
      "metadata": {
        "id": "PpvF9Spgv8a3"
      }
    },
    {
      "cell_type": "code",
      "source": [
        "img0 = Image.open('/content/generated_img_031_0.png')\n",
        "img1 = Image.open('/content/generated_img_031_1.png')\n",
        "img2 = Image.open('/content/generated_img_031_2.png')\n",
        "img3 = Image.open('/content/generated_img_031_3.png')\n",
        "img4 = Image.open('/content/generated_img_031_4.png')\n",
        "img5 = Image.open('/content/generated_img_031_5.png')\n",
        "img6 = Image.open('/content/generated_img_031_6.png')\n",
        "img7 = Image.open('/content/generated_img_031_7.png')\n",
        "img8 = Image.open('/content/generated_img_031_8.png')\n",
        "img9 = Image.open('/content/generated_img_031_9.png')\n",
        "\n",
        "numpyImg0 = asarray(img0)\n",
        "numpyImg1 = asarray(img1)\n",
        "numpyImg2= asarray(img2)\n",
        "numpyImg3= asarray(img3)\n",
        "numpyImg4= asarray(img4)\n",
        "numpyImg5= asarray(img5)\n",
        "numpyImg6= asarray(img6)\n",
        "numpyImg7= asarray(img7)\n",
        "numpyImg8= asarray(img8)\n",
        "numpyImg9= asarray(img9)\n",
        "plt.figure()\n",
        "f, axarr = plt.subplots(2,5) \n",
        "axarr[0][0].imshow(numpyImg0, cmap=\"gray\")\n",
        "axarr[0][1].imshow(numpyImg1, cmap=\"gray\")\n",
        "axarr[0][2].imshow(numpyImg2, cmap=\"gray\")\n",
        "axarr[0][3].imshow(numpyImg3, cmap=\"gray\")\n",
        "axarr[0][4].imshow(numpyImg4, cmap=\"gray\")\n",
        "\n",
        "axarr[1][0].imshow(numpyImg5, cmap=\"gray\")\n",
        "axarr[1][1].imshow(numpyImg6, cmap=\"gray\")\n",
        "axarr[1][2].imshow(numpyImg7, cmap=\"gray\")\n",
        "axarr[1][3].imshow(numpyImg8, cmap=\"gray\")\n",
        "axarr[1][4].imshow(numpyImg9, cmap=\"gray\")"
      ],
      "metadata": {
        "colab": {
          "base_uri": "https://localhost:8080/",
          "height": 262
        },
        "id": "xUh8W6nrwEqI",
        "outputId": "426f419e-839f-492a-ca19-ae6212540d2d"
      },
      "execution_count": 16,
      "outputs": [
        {
          "output_type": "execute_result",
          "data": {
            "text/plain": [
              "<matplotlib.image.AxesImage at 0x7fe776c4cfd0>"
            ]
          },
          "metadata": {},
          "execution_count": 16
        },
        {
          "output_type": "display_data",
          "data": {
            "text/plain": [
              "<Figure size 432x288 with 0 Axes>"
            ]
          },
          "metadata": {}
        },
        {
          "output_type": "display_data",
          "data": {
            "text/plain": [
              "<Figure size 432x288 with 10 Axes>"
            ],
            "image/png": "[encoded data removed]"
          },
          "metadata": {
            "needs_background": "light"
          }
        }
      ]
    },
    {
      "cell_type": "markdown",
      "source": [
        "# The results after the 61th epoch"
      ],
      "metadata": {
        "id": "bxd-xleWwW0_"
      }
    },
    {
      "cell_type": "code",
      "source": [
        "img0 = Image.open('/content/generated_img_061_0.png')\n",
        "img1 = Image.open('/content/generated_img_061_1.png')\n",
        "img2 = Image.open('/content/generated_img_061_2.png')\n",
        "img3 = Image.open('/content/generated_img_061_3.png')\n",
        "img4 = Image.open('/content/generated_img_061_4.png')\n",
        "img5 = Image.open('/content/generated_img_061_5.png')\n",
        "img6 = Image.open('/content/generated_img_061_6.png')\n",
        "img7 = Image.open('/content/generated_img_061_7.png')\n",
        "img8 = Image.open('/content/generated_img_061_8.png')\n",
        "img9 = Image.open('/content/generated_img_061_9.png')\n",
        "\n",
        "numpyImg0 = asarray(img0)\n",
        "numpyImg1 = asarray(img1)\n",
        "numpyImg2= asarray(img2)\n",
        "numpyImg3= asarray(img3)\n",
        "numpyImg4= asarray(img4)\n",
        "numpyImg5= asarray(img5)\n",
        "numpyImg6= asarray(img6)\n",
        "numpyImg7= asarray(img7)\n",
        "numpyImg8= asarray(img8)\n",
        "numpyImg9= asarray(img9)\n",
        "plt.figure()\n",
        "f, axarr = plt.subplots(2,5) \n",
        "axarr[0][0].imshow(numpyImg0, cmap=\"gray\")\n",
        "axarr[0][1].imshow(numpyImg1, cmap=\"gray\")\n",
        "axarr[0][2].imshow(numpyImg2, cmap=\"gray\")\n",
        "axarr[0][3].imshow(numpyImg3, cmap=\"gray\")\n",
        "axarr[0][4].imshow(numpyImg4, cmap=\"gray\")\n",
        "\n",
        "axarr[1][0].imshow(numpyImg5, cmap=\"gray\")\n",
        "axarr[1][1].imshow(numpyImg6, cmap=\"gray\")\n",
        "axarr[1][2].imshow(numpyImg7, cmap=\"gray\")\n",
        "axarr[1][3].imshow(numpyImg8, cmap=\"gray\")\n",
        "axarr[1][4].imshow(numpyImg9, cmap=\"gray\")"
      ],
      "metadata": {
        "colab": {
          "base_uri": "https://localhost:8080/",
          "height": 262
        },
        "id": "akRhVw3fwabJ",
        "outputId": "29a4181b-7fc7-4cc0-c28b-5c66f24f2513"
      },
      "execution_count": 17,
      "outputs": [
        {
          "output_type": "execute_result",
          "data": {
            "text/plain": [
              "<matplotlib.image.AxesImage at 0x7fe776948a10>"
            ]
          },
          "metadata": {},
          "execution_count": 17
        },
        {
          "output_type": "display_data",
          "data": {
            "text/plain": [
              "<Figure size 432x288 with 0 Axes>"
            ]
          },
          "metadata": {}
        },
        {
          "output_type": "display_data",
          "data": {
            "text/plain": [
              "<Figure size 432x288 with 10 Axes>"
            ],
            "image/png": "[encoded data removed]"
          },
          "metadata": {
            "needs_background": "light"
          }
        }
      ]
    }
  ]
}