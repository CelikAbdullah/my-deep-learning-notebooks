{
  "cells": [
    {
      "cell_type": "markdown",
      "metadata": {
        "id": "view-in-github",
        "colab_type": "text"
      },
      "source": [
        "<a href=\"https://colab.research.google.com/github/CelikAbdullah/my-deep-learning-notebooks/blob/main/image%20segmentation/Image_Segmentation_Oxford_Pets_dataset.ipynb\" target=\"_parent\"><img src=\"https://colab.research.google.com/assets/colab-badge.svg\" alt=\"Open In Colab\"/></a>"
      ]
    },
    {
      "cell_type": "code",
      "execution_count": 1,
      "metadata": {
        "id": "2RL1ruD8IS8N"
      },
      "outputs": [],
      "source": [
        "import os\n",
        "import matplotlib.pyplot as plt\n",
        "from tensorflow import keras\n",
        "import numpy as np\n",
        "import random"
      ]
    },
    {
      "cell_type": "markdown",
      "metadata": {
        "id": "vKMJiFiFHeSH"
      },
      "source": [
        "# Getting the Oxford Pets dataset"
      ]
    },
    {
      "cell_type": "code",
      "execution_count": 2,
      "metadata": {
        "colab": {
          "base_uri": "https://localhost:8080/"
        },
        "id": "gBCOjLAxG5aE",
        "outputId": "889c11d7-0771-4560-d5b9-533775be4aba"
      },
      "outputs": [
        {
          "output_type": "stream",
          "name": "stdout",
          "text": [
            "--2022-06-17 10:58:50--  http://www.robots.ox.ac.uk/~vgg/data/pets/data/images.tar.gz\n",
            "Resolving www.robots.ox.ac.uk (www.robots.ox.ac.uk)... 129.67.94.2\n",
            "Connecting to www.robots.ox.ac.uk (www.robots.ox.ac.uk)|129.67.94.2|:80... connected.\n",
            "HTTP request sent, awaiting response... 301 Moved Permanently\n",
            "Location: https://www.robots.ox.ac.uk/~vgg/data/pets/data/images.tar.gz [following]\n",
            "--2022-06-17 10:58:50--  https://www.robots.ox.ac.uk/~vgg/data/pets/data/images.tar.gz\n",
            "Connecting to www.robots.ox.ac.uk (www.robots.ox.ac.uk)|129.67.94.2|:443... connected.\n",
            "HTTP request sent, awaiting response... 200 OK\n",
            "Length: 791918971 (755M) [application/x-gzip]\n",
            "Saving to: ‘images.tar.gz’\n",
            "\n",
            "images.tar.gz       100%[===================>] 755.23M  29.6MB/s    in 27s     \n",
            "\n",
            "2022-06-17 10:59:18 (28.1 MB/s) - ‘images.tar.gz’ saved [791918971/791918971]\n",
            "\n"
          ]
        }
      ],
      "source": [
        "!wget http://www.robots.ox.ac.uk/~vgg/data/pets/data/images.tar.gz"
      ]
    },
    {
      "cell_type": "code",
      "execution_count": 3,
      "metadata": {
        "colab": {
          "base_uri": "https://localhost:8080/"
        },
        "id": "2MYQnib-HUjt",
        "outputId": "e967eeee-4e43-4464-c889-4fc822a41980"
      },
      "outputs": [
        {
          "output_type": "stream",
          "name": "stdout",
          "text": [
            "--2022-06-17 10:59:21--  http://www.robots.ox.ac.uk/~vgg/data/pets/data/annotations.tar.gz\n",
            "Resolving www.robots.ox.ac.uk (www.robots.ox.ac.uk)... 129.67.94.2\n",
            "Connecting to www.robots.ox.ac.uk (www.robots.ox.ac.uk)|129.67.94.2|:80... connected.\n",
            "HTTP request sent, awaiting response... 301 Moved Permanently\n",
            "Location: https://www.robots.ox.ac.uk/~vgg/data/pets/data/annotations.tar.gz [following]\n",
            "--2022-06-17 10:59:21--  https://www.robots.ox.ac.uk/~vgg/data/pets/data/annotations.tar.gz\n",
            "Connecting to www.robots.ox.ac.uk (www.robots.ox.ac.uk)|129.67.94.2|:443... connected.\n",
            "HTTP request sent, awaiting response... 200 OK\n",
            "Length: 19173078 (18M) [application/x-gzip]\n",
            "Saving to: ‘annotations.tar.gz’\n",
            "\n",
            "annotations.tar.gz  100%[===================>]  18.28M  14.1MB/s    in 1.3s    \n",
            "\n",
            "2022-06-17 10:59:23 (14.1 MB/s) - ‘annotations.tar.gz’ saved [19173078/19173078]\n",
            "\n"
          ]
        }
      ],
      "source": [
        "!wget http://www.robots.ox.ac.uk/~vgg/data/pets/data/annotations.tar.gz"
      ]
    },
    {
      "cell_type": "code",
      "execution_count": 4,
      "metadata": {
        "id": "6CWvYKh9HX0s"
      },
      "outputs": [],
      "source": [
        "!tar -xf images.tar.gz"
      ]
    },
    {
      "cell_type": "code",
      "execution_count": 5,
      "metadata": {
        "id": "0i25eQUQHb3C"
      },
      "outputs": [],
      "source": [
        "!tar -xf annotations.tar.gz"
      ]
    },
    {
      "cell_type": "markdown",
      "metadata": {
        "id": "pkdU79_JH9Yl"
      },
      "source": [
        "# Prepare the data"
      ]
    },
    {
      "cell_type": "code",
      "execution_count": 6,
      "metadata": {
        "id": "cwFiHyZ7H-5g"
      },
      "outputs": [],
      "source": [
        "input_dir = \"images/\"\n",
        "target_dir = \"annotations/trimaps/\"\n",
        "\n",
        "input_img_paths = sorted([os.path.join(input_dir, fname) for fname in os.listdir(input_dir) if fname.endswith(\".jpg\")])\n",
        "target_paths = sorted([os.path.join(target_dir, fname) for fname in os.listdir(target_dir) if fname.endswith(\".png\") and not fname.startswith(\".\")])"
      ]
    },
    {
      "cell_type": "markdown",
      "metadata": {
        "id": "kd88hPQpJEbY"
      },
      "source": [
        "# Show the data"
      ]
    },
    {
      "cell_type": "code",
      "execution_count": 7,
      "metadata": {
        "colab": {
          "base_uri": "https://localhost:8080/",
          "height": 248
        },
        "id": "tqx6sovjJGMP",
        "outputId": "5f1ef5b0-8d9f-4d4e-fce1-12a33847280a"
      },
      "outputs": [
        {
          "output_type": "display_data",
          "data": {
            "text/plain": [
              "<Figure size 432x288 with 1 Axes>"
            ],
            "image/png": "[encoded data removed]"
          },
          "metadata": {
            "needs_background": "light"
          }
        }
      ],
      "source": [
        "def display_target(target_array):\n",
        "  # the original labels are 1,2 and 3. We subtract 1 so that the labels range from 0 to 2\n",
        "  # and then we multiply by 127 so that the labels become 0(black), 127 (gray) and 254(near-white)\n",
        "  normalized_array = (target_array.astype(\"uint8\") - 1) * 127\n",
        "  plt.axis(\"off\")\n",
        "  plt.imshow(normalized_array[:,:,0])\n",
        "\n",
        "# we use color_mode=\"grayscale\" so that the image we load is treated as having a single color channel\n",
        "img = keras.utils.img_to_array(keras.utils.load_img(target_paths[9], color_mode=\"grayscale\"))\n",
        "display_target(img)\n"
      ]
    },
    {
      "cell_type": "markdown",
      "metadata": {
        "id": "WIbNRvIeKL2I"
      },
      "source": [
        "# Split the dataset"
      ]
    },
    {
      "cell_type": "code",
      "execution_count": 8,
      "metadata": {
        "id": "fxineRI0Kc9h"
      },
      "outputs": [],
      "source": [
        "# we resize everything to 200x200\n",
        "img_size = (200, 200)\n",
        "# total number of samples in the data\n",
        "num_imgs = len(input_img_paths)\n",
        "\n",
        "# shuffle the file paths (they were originally sorted by breed)\n",
        "# we use the same seed in both statements to ensure that the input paths and target paths stay in the same order\n",
        "random.Random(1337).shuffle(input_img_paths)\n",
        "random.Random(1337).shuffle(target_paths)\n",
        "\n",
        "def path_to_input_image(path):\n",
        "    return keras.utils.img_to_array(keras.utils.load_img(path, target_size=img_size))\n",
        "\n",
        "def path_to_target(path):\n",
        "    img = keras.utils.img_to_array(\n",
        "        keras.utils.load_img(path, target_size=img_size, color_mode=\"grayscale\"))\n",
        "    # subtract 1 so that our labels become 0,1 and 2\n",
        "    img = img.astype(\"uint8\") - 1\n",
        "    return img\n",
        "\n",
        "# load all images in the input_imgs float32 array and their masks in the targets uint8 array (same order)\n",
        "# the inputs have 3 channels (RBG values) and the targets have a single channel (which contains integer labels)\n",
        "input_imgs = np.zeros((num_imgs,) + img_size + (3,), dtype=\"float32\")\n",
        "targets = np.zeros((num_imgs,) + img_size + (1,), dtype=\"uint8\")\n",
        "for i in range(num_imgs):\n",
        "    input_imgs[i] = path_to_input_image(input_img_paths[i])\n",
        "    targets[i] = path_to_target(target_paths[i])\n",
        "\n",
        "# reseve 1000 samples for validation\n",
        "num_val_samples = 1000\n",
        "\n",
        "# split the data into a training and a validation set\n",
        "train_input_imgs = input_imgs[:-num_val_samples]\n",
        "train_targets = targets[:-num_val_samples]\n",
        "val_input_imgs = input_imgs[-num_val_samples:]\n",
        "val_targets = targets[-num_val_samples:]"
      ]
    },
    {
      "cell_type": "markdown",
      "metadata": {
        "id": "SU3_6DXtLzsv"
      },
      "source": [
        "# Build the model"
      ]
    },
    {
      "cell_type": "code",
      "execution_count": 9,
      "metadata": {
        "id": "ZRYCMgeyLy_a"
      },
      "outputs": [],
      "source": [
        "def get_model(img_size, num_classes):\n",
        "  inputs = keras.Input(shape=img_size + (3,))\n",
        "  # rescale input images to the [0-1] range\n",
        "  x = keras.layers.Rescaling(1./255)(inputs)\n",
        "\n",
        "  # use padding=\"same\" in the conv layers to avoid the influence of border padding on feature map size\n",
        "  x = keras.layers.Conv2D(64, 3, strides=2, activation=\"relu\", padding=\"same\")(x)\n",
        "  x = keras.layers.Conv2D(64, 3, activation=\"relu\", padding=\"same\")(x)\n",
        "  x = keras.layers.Conv2D(128, 3, strides=2, activation=\"relu\", padding=\"same\")(x)\n",
        "  x = keras.layers.Conv2D(128, 3, activation=\"relu\", padding=\"same\")(x)\n",
        "  x = keras.layers.Conv2D(256, 3, strides=2, activation=\"relu\", padding=\"same\")(x)\n",
        "  x = keras.layers.Conv2D(256, 3, activation=\"relu\", padding=\"same\")(x)\n",
        "\n",
        "  x = keras.layers.Conv2DTranspose(256, 3, activation=\"relu\", padding=\"same\")(x)\n",
        "  x = keras.layers.Conv2DTranspose(256, 3, activation=\"relu\", padding=\"same\", strides=2)(x)\n",
        "  x = keras.layers.Conv2DTranspose(128, 3, activation=\"relu\", padding=\"same\")(x)\n",
        "  x = keras.layers.Conv2DTranspose(128, 3, activation=\"relu\", padding=\"same\", strides=2)(x)\n",
        "  x = keras.layers.Conv2DTranspose(64, 3, activation=\"relu\", padding=\"same\")(x)\n",
        "  x = keras.layers.Conv2DTranspose(64, 3, activation=\"relu\", padding=\"same\", strides=2)(x)\n",
        "\n",
        "  # we end the model with a per-pixel three-way softmax to classify each output pixel into one of our three categories\n",
        "  outputs = keras.layers.Conv2D(num_classes, 3, activation=\"softmax\", padding=\"same\")(x)\n",
        "\n",
        "  model = keras.Model(inputs, outputs)\n",
        "  return model"
      ]
    },
    {
      "cell_type": "code",
      "execution_count": 10,
      "metadata": {
        "colab": {
          "base_uri": "https://localhost:8080/"
        },
        "id": "_iOfKLwxQjJz",
        "outputId": "60990ccc-26f0-46cf-e693-2c9f269c90a2"
      },
      "outputs": [
        {
          "output_type": "stream",
          "name": "stdout",
          "text": [
            "Model: \"model\"\n",
            "_________________________________________________________________\n",
            " Layer (type)                Output Shape              Param #   \n",
            "=================================================================\n",
            " input_1 (InputLayer)        [(None, 200, 200, 3)]     0         \n",
            "                                                                 \n",
            " rescaling (Rescaling)       (None, 200, 200, 3)       0         \n",
            "                                                                 \n",
            " conv2d (Conv2D)             (None, 100, 100, 64)      1792      \n",
            "                                                                 \n",
            " conv2d_1 (Conv2D)           (None, 100, 100, 64)      36928     \n",
            "                                                                 \n",
            " conv2d_2 (Conv2D)           (None, 50, 50, 128)       73856     \n",
            "                                                                 \n",
            " conv2d_3 (Conv2D)           (None, 50, 50, 128)       147584    \n",
            "                                                                 \n",
            " conv2d_4 (Conv2D)           (None, 25, 25, 256)       295168    \n",
            "                                                                 \n",
            " conv2d_5 (Conv2D)           (None, 25, 25, 256)       590080    \n",
            "                                                                 \n",
            " conv2d_transpose (Conv2DTra  (None, 25, 25, 256)      590080    \n",
            " nspose)                                                         \n",
            "                                                                 \n",
            " conv2d_transpose_1 (Conv2DT  (None, 50, 50, 256)      590080    \n",
            " ranspose)                                                       \n",
            "                                                                 \n",
            " conv2d_transpose_2 (Conv2DT  (None, 50, 50, 128)      295040    \n",
            " ranspose)                                                       \n",
            "                                                                 \n",
            " conv2d_transpose_3 (Conv2DT  (None, 100, 100, 128)    147584    \n",
            " ranspose)                                                       \n",
            "                                                                 \n",
            " conv2d_transpose_4 (Conv2DT  (None, 100, 100, 64)     73792     \n",
            " ranspose)                                                       \n",
            "                                                                 \n",
            " conv2d_transpose_5 (Conv2DT  (None, 200, 200, 64)     36928     \n",
            " ranspose)                                                       \n",
            "                                                                 \n",
            " conv2d_6 (Conv2D)           (None, 200, 200, 3)       1731      \n",
            "                                                                 \n",
            "=================================================================\n",
            "Total params: 2,880,643\n",
            "Trainable params: 2,880,643\n",
            "Non-trainable params: 0\n",
            "_________________________________________________________________\n"
          ]
        }
      ],
      "source": [
        "model = get_model(img_size=img_size, num_classes=3)\n",
        "model.summary()"
      ]
    },
    {
      "cell_type": "markdown",
      "metadata": {
        "id": "zotutmb3Spu6"
      },
      "source": [
        "# Compile the model"
      ]
    },
    {
      "cell_type": "code",
      "execution_count": 11,
      "metadata": {
        "id": "MgTgsPHaSo9S"
      },
      "outputs": [],
      "source": [
        "model.compile(optimizer=\"rmsprop\", loss=\"sparse_categorical_crossentropy\")"
      ]
    },
    {
      "cell_type": "markdown",
      "metadata": {
        "id": "AmTRYDLiS1Re"
      },
      "source": [
        "# Define callback"
      ]
    },
    {
      "cell_type": "code",
      "execution_count": 12,
      "metadata": {
        "id": "bF0w__LSS427"
      },
      "outputs": [],
      "source": [
        "callbacks = [keras.callbacks.ModelCheckpoint(\"oxford_segmentation.keras\", save_best_only=True)]"
      ]
    },
    {
      "cell_type": "markdown",
      "metadata": {
        "id": "d3kLd7wMTOWB"
      },
      "source": [
        "# Train the model"
      ]
    },
    {
      "cell_type": "code",
      "execution_count": 13,
      "metadata": {
        "colab": {
          "base_uri": "https://localhost:8080/"
        },
        "id": "KjepxiOuTQoA",
        "outputId": "d38dd807-df78-472f-d837-81bfb9366de2"
      },
      "outputs": [
        {
          "output_type": "stream",
          "name": "stdout",
          "text": [
            "Epoch 1/50\n",
            "100/100 [==============================] - 87s 672ms/step - loss: 1.1251 - val_loss: 0.8767\n",
            "Epoch 2/50\n",
            "100/100 [==============================] - 63s 627ms/step - loss: 0.9260 - val_loss: 0.9016\n",
            "Epoch 3/50\n",
            "100/100 [==============================] - 65s 649ms/step - loss: 0.8361 - val_loss: 0.8271\n",
            "Epoch 4/50\n",
            "100/100 [==============================] - 65s 652ms/step - loss: 0.7818 - val_loss: 1.0416\n",
            "Epoch 5/50\n",
            "100/100 [==============================] - 65s 654ms/step - loss: 0.7156 - val_loss: 0.6633\n",
            "Epoch 6/50\n",
            "100/100 [==============================] - 65s 650ms/step - loss: 0.6500 - val_loss: 0.9225\n",
            "Epoch 7/50\n",
            "100/100 [==============================] - 65s 649ms/step - loss: 0.6167 - val_loss: 0.6011\n",
            "Epoch 8/50\n",
            "100/100 [==============================] - 65s 650ms/step - loss: 0.5934 - val_loss: 0.5385\n",
            "Epoch 9/50\n",
            "100/100 [==============================] - 65s 651ms/step - loss: 0.5630 - val_loss: 0.6452\n",
            "Epoch 10/50\n",
            "100/100 [==============================] - 65s 652ms/step - loss: 0.5382 - val_loss: 0.4945\n",
            "Epoch 11/50\n",
            "100/100 [==============================] - 65s 651ms/step - loss: 0.5213 - val_loss: 0.5104\n",
            "Epoch 12/50\n",
            "100/100 [==============================] - 65s 652ms/step - loss: 0.5014 - val_loss: 0.4867\n",
            "Epoch 13/50\n",
            "100/100 [==============================] - 65s 650ms/step - loss: 0.4872 - val_loss: 0.4572\n",
            "Epoch 14/50\n",
            "100/100 [==============================] - 65s 653ms/step - loss: 0.4734 - val_loss: 0.4494\n",
            "Epoch 15/50\n",
            "100/100 [==============================] - 65s 651ms/step - loss: 0.4649 - val_loss: 0.4883\n",
            "Epoch 16/50\n",
            "100/100 [==============================] - 65s 652ms/step - loss: 0.4499 - val_loss: 0.4203\n",
            "Epoch 17/50\n",
            "100/100 [==============================] - 65s 649ms/step - loss: 0.4448 - val_loss: 0.5776\n",
            "Epoch 18/50\n",
            "100/100 [==============================] - 65s 648ms/step - loss: 0.4295 - val_loss: 0.4293\n",
            "Epoch 19/50\n",
            "100/100 [==============================] - 65s 649ms/step - loss: 0.4235 - val_loss: 0.4287\n",
            "Epoch 20/50\n",
            "100/100 [==============================] - 65s 648ms/step - loss: 0.4072 - val_loss: 0.4011\n",
            "Epoch 21/50\n",
            "100/100 [==============================] - 65s 648ms/step - loss: 0.4062 - val_loss: 0.4317\n",
            "Epoch 22/50\n",
            "100/100 [==============================] - 65s 648ms/step - loss: 0.3910 - val_loss: 0.4053\n",
            "Epoch 23/50\n",
            "100/100 [==============================] - 65s 650ms/step - loss: 0.3787 - val_loss: 0.3944\n",
            "Epoch 24/50\n",
            "100/100 [==============================] - 65s 648ms/step - loss: 0.3752 - val_loss: 0.4542\n",
            "Epoch 25/50\n",
            "100/100 [==============================] - 65s 647ms/step - loss: 0.3620 - val_loss: 0.4155\n",
            "Epoch 26/50\n",
            "100/100 [==============================] - 65s 648ms/step - loss: 0.3567 - val_loss: 0.3789\n",
            "Epoch 27/50\n",
            "100/100 [==============================] - 65s 648ms/step - loss: 0.3457 - val_loss: 0.3829\n",
            "Epoch 28/50\n",
            "100/100 [==============================] - 65s 648ms/step - loss: 0.3327 - val_loss: 0.4295\n",
            "Epoch 29/50\n",
            "100/100 [==============================] - 65s 647ms/step - loss: 0.3337 - val_loss: 0.4062\n",
            "Epoch 30/50\n",
            "100/100 [==============================] - 65s 648ms/step - loss: 0.3226 - val_loss: 0.4070\n",
            "Epoch 31/50\n",
            "100/100 [==============================] - 65s 649ms/step - loss: 0.3150 - val_loss: 0.3727\n",
            "Epoch 32/50\n",
            "100/100 [==============================] - 65s 650ms/step - loss: 0.3050 - val_loss: 0.5228\n",
            "Epoch 33/50\n",
            "100/100 [==============================] - 65s 648ms/step - loss: 0.2970 - val_loss: 0.4387\n",
            "Epoch 34/50\n",
            "100/100 [==============================] - 65s 648ms/step - loss: 0.2894 - val_loss: 0.3819\n",
            "Epoch 35/50\n",
            "100/100 [==============================] - 65s 649ms/step - loss: 0.2794 - val_loss: 0.3882\n",
            "Epoch 36/50\n",
            "100/100 [==============================] - 65s 648ms/step - loss: 0.2665 - val_loss: 0.4454\n",
            "Epoch 37/50\n",
            "100/100 [==============================] - 65s 648ms/step - loss: 0.2677 - val_loss: 0.3976\n",
            "Epoch 38/50\n",
            "100/100 [==============================] - 65s 648ms/step - loss: 0.2521 - val_loss: 0.4316\n",
            "Epoch 39/50\n",
            "100/100 [==============================] - 65s 648ms/step - loss: 0.2503 - val_loss: 0.4664\n",
            "Epoch 40/50\n",
            "100/100 [==============================] - 65s 648ms/step - loss: 0.2413 - val_loss: 0.4259\n",
            "Epoch 41/50\n",
            "100/100 [==============================] - 65s 647ms/step - loss: 0.2330 - val_loss: 0.4788\n",
            "Epoch 42/50\n",
            "100/100 [==============================] - 65s 648ms/step - loss: 0.2322 - val_loss: 0.4366\n",
            "Epoch 43/50\n",
            "100/100 [==============================] - 65s 648ms/step - loss: 0.2224 - val_loss: 0.4657\n",
            "Epoch 44/50\n",
            "100/100 [==============================] - 65s 648ms/step - loss: 0.2144 - val_loss: 0.4557\n",
            "Epoch 45/50\n",
            "100/100 [==============================] - 65s 649ms/step - loss: 0.2196 - val_loss: 0.4090\n",
            "Epoch 46/50\n",
            "100/100 [==============================] - 65s 649ms/step - loss: 0.2056 - val_loss: 0.4491\n",
            "Epoch 47/50\n",
            "100/100 [==============================] - 65s 649ms/step - loss: 0.1987 - val_loss: 0.4961\n",
            "Epoch 48/50\n",
            "100/100 [==============================] - 65s 649ms/step - loss: 0.1969 - val_loss: 0.5236\n",
            "Epoch 49/50\n",
            "100/100 [==============================] - 65s 649ms/step - loss: 0.1937 - val_loss: 0.4515\n",
            "Epoch 50/50\n",
            "100/100 [==============================] - 65s 647ms/step - loss: 0.1903 - val_loss: 0.4646\n"
          ]
        }
      ],
      "source": [
        "history = model.fit(train_input_imgs, \n",
        "                    train_targets, \n",
        "                    epochs=50, \n",
        "                    callbacks=callbacks, \n",
        "                    batch_size=64, \n",
        "                    validation_data = (val_input_imgs, val_targets)\n",
        "                    )"
      ]
    },
    {
      "cell_type": "markdown",
      "source": [
        "# Plot the result"
      ],
      "metadata": {
        "id": "BBbhFEb1YKts"
      }
    },
    {
      "cell_type": "code",
      "source": [
        "epochs = range(1, len(history.history[\"loss\"]) + 1)\n",
        "loss = history.history[\"loss\"]\n",
        "val_loss = history.history[\"val_loss\"]\n",
        "plt.figure()\n",
        "plt.plot(epochs, loss, \"bo\", label=\"Training loss\")\n",
        "plt.plot(epochs, val_loss, \"b\", label=\"Validation loss\")\n",
        "plt.title(\"Training and validation loss\")\n",
        "plt.legend()"
      ],
      "metadata": {
        "colab": {
          "base_uri": "https://localhost:8080/",
          "height": 298
        },
        "id": "1mrZ_MeEYNJr",
        "outputId": "6313e92e-288c-47bb-91a6-cbffe860ea9b"
      },
      "execution_count": 14,
      "outputs": [
        {
          "output_type": "execute_result",
          "data": {
            "text/plain": [
              "<matplotlib.legend.Legend at 0x7fbf60056fd0>"
            ]
          },
          "metadata": {},
          "execution_count": 14
        },
        {
          "output_type": "display_data",
          "data": {
            "text/plain": [
              "<Figure size 432x288 with 1 Axes>"
            ],
            "image/png": "[encoded data removed]"
          },
          "metadata": {
            "needs_background": "light"
          }
        }
      ]
    },
    {
      "cell_type": "markdown",
      "source": [
        "# Load best model"
      ],
      "metadata": {
        "id": "RcWwykV8YPxi"
      }
    },
    {
      "cell_type": "code",
      "source": [
        "model = keras.models.load_model(\"oxford_segmentation.keras\")"
      ],
      "metadata": {
        "id": "kfOrDz3DYTIG"
      },
      "execution_count": 15,
      "outputs": []
    },
    {
      "cell_type": "markdown",
      "source": [
        "# Predict a segmentation mask"
      ],
      "metadata": {
        "id": "06MY8JAmYWwt"
      }
    },
    {
      "cell_type": "code",
      "source": [
        "i = 4\n",
        "test_image = val_input_imgs[i]\n",
        "plt.axis(\"off\")\n",
        "plt.imshow(keras.utils.array_to_img(test_image))"
      ],
      "metadata": {
        "colab": {
          "base_uri": "https://localhost:8080/",
          "height": 265
        },
        "id": "xyl0rKj1YeR5",
        "outputId": "fef39845-eb9d-47da-a62c-4b7cec141767"
      },
      "execution_count": 17,
      "outputs": [
        {
          "output_type": "execute_result",
          "data": {
            "text/plain": [
              "<matplotlib.image.AxesImage at 0x7fbf609b5c90>"
            ]
          },
          "metadata": {},
          "execution_count": 17
        },
        {
          "output_type": "display_data",
          "data": {
            "text/plain": [
              "<Figure size 432x288 with 1 Axes>"
            ],
            "image/png": "[encoded data removed]"
          },
          "metadata": {
            "needs_background": "light"
          }
        }
      ]
    },
    {
      "cell_type": "code",
      "source": [
        "mask = model.predict(np.expand_dims(test_image, 0))[0]\n",
        "\n",
        "def display_mask(pred):\n",
        "    mask = np.argmax(pred, axis=-1)\n",
        "    mask *= 127\n",
        "    plt.axis(\"off\")\n",
        "    plt.imshow(mask)\n",
        "\n",
        "display_mask(mask)"
      ],
      "metadata": {
        "colab": {
          "base_uri": "https://localhost:8080/",
          "height": 248
        },
        "id": "_-pHeDhrhcjU",
        "outputId": "44b5ce1a-3502-4c24-cb11-9440dedbd46e"
      },
      "execution_count": 18,
      "outputs": [
        {
          "output_type": "display_data",
          "data": {
            "text/plain": [
              "<Figure size 432x288 with 1 Axes>"
            ],
            "image/png": "[encoded data removed]"
          },
          "metadata": {
            "needs_background": "light"
          }
        }
      ]
    }
  ],
  "metadata": {
    "colab": {
      "name": "Image Segmentation - Oxford Pets dataset.ipynb",
      "provenance": [],
      "collapsed_sections": [],
      "authorship_tag": "ABX9TyMstfkVNPaKagyd3XHOZRFr",
      "include_colab_link": true
    },
    "kernelspec": {
      "display_name": "Python 3",
      "name": "python3"
    },
    "language_info": {
      "name": "python"
    },
    "gpuClass": "standard"
  },
  "nbformat": 4,
  "nbformat_minor": 0
}