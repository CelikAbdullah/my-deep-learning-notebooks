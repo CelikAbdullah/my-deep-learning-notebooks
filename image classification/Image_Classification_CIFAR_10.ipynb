{
  "nbformat": 4,
  "nbformat_minor": 0,
  "metadata": {
    "colab": {
      "name": "Image Classification - CIFAR-10.ipynb",
      "provenance": [],
      "collapsed_sections": [],
      "authorship_tag": "ABX9TyPtk0saqmq8BNbx0Ne/uybU",
      "include_colab_link": true
    },
    "kernelspec": {
      "name": "python3",
      "display_name": "Python 3"
    },
    "language_info": {
      "name": "python"
    }
  },
  "cells": [
    {
      "cell_type": "markdown",
      "metadata": {
        "id": "view-in-github",
        "colab_type": "text"
      },
      "source": [
        "<a href=\"https://colab.research.google.com/github/CelikAbdullah/my-deep-learning-notebooks/blob/main/image%20classification/Image_Classification_CIFAR_10.ipynb\" target=\"_parent\"><img src=\"https://colab.research.google.com/assets/colab-badge.svg\" alt=\"Open In Colab\"/></a>"
      ]
    },
    {
      "cell_type": "code",
      "execution_count": 1,
      "metadata": {
        "id": "ecrb2sRUKo-v"
      },
      "outputs": [],
      "source": [
        "from tensorflow import keras\n",
        "import matplotlib.pyplot as plt"
      ]
    },
    {
      "cell_type": "code",
      "source": [
        "(x_train, y_train), (x_test, y_test) = keras.datasets.cifar10.load_data()"
      ],
      "metadata": {
        "id": "SDPTRfa2LQ3g"
      },
      "execution_count": 17,
      "outputs": []
    },
    {
      "cell_type": "code",
      "source": [
        "assert x_train.shape == (50000, 32, 32, 3)\n",
        "assert x_test.shape == (10000, 32, 32, 3)\n",
        "assert y_train.shape == (50000, 1)\n",
        "assert y_test.shape == (10000, 1)"
      ],
      "metadata": {
        "id": "61v0E5cILiMw"
      },
      "execution_count": 18,
      "outputs": []
    },
    {
      "cell_type": "code",
      "source": [
        "x_train.dtype"
      ],
      "metadata": {
        "colab": {
          "base_uri": "https://localhost:8080/"
        },
        "id": "YNqLkhtBP0NY",
        "outputId": "6a5275f2-0cc2-432c-ac90-b6d20dda95b9"
      },
      "execution_count": 19,
      "outputs": [
        {
          "output_type": "execute_result",
          "data": {
            "text/plain": [
              "dtype('uint8')"
            ]
          },
          "metadata": {},
          "execution_count": 19
        }
      ]
    },
    {
      "cell_type": "code",
      "source": [
        "plt.imshow(x_train[1], cmap=plt.get_cmap('gray'))\n",
        "plt.show()"
      ],
      "metadata": {
        "colab": {
          "base_uri": "https://localhost:8080/",
          "height": 266
        },
        "id": "z4NPLHxcLlKX",
        "outputId": "ff2639d1-c85f-49d4-a1e9-df1265678143"
      },
      "execution_count": 20,
      "outputs": [
        {
          "output_type": "display_data",
          "data": {
            "text/plain": [
              "<Figure size 432x288 with 1 Axes>"
            ],
            "image/png": "[encoded data removed]"
          },
          "metadata": {
            "needs_background": "light"
          }
        }
      ]
    },
    {
      "cell_type": "markdown",
      "source": [
        "# Creating the validation dataset"
      ],
      "metadata": {
        "id": "glHskr7TMSS8"
      }
    },
    {
      "cell_type": "code",
      "source": [
        "x_val = x_train[:10000]\n",
        "x_train = x_train[10000:]\n",
        "\n",
        "y_val = y_train[:10000]\n",
        "y_train = y_train[10000:]"
      ],
      "metadata": {
        "id": "EIuV6X3dLx1v"
      },
      "execution_count": 21,
      "outputs": []
    },
    {
      "cell_type": "markdown",
      "source": [
        "# One-hot encoding of the targets"
      ],
      "metadata": {
        "id": "_RhmIq2vQT2P"
      }
    },
    {
      "cell_type": "code",
      "source": [
        "y_train = keras.utils.to_categorical(y_train)\n",
        "y_val = keras.utils.to_categorical(y_val)\n",
        "y_test = keras.utils.to_categorical(y_test)\n"
      ],
      "metadata": {
        "id": "KIMhcVyjQY18"
      },
      "execution_count": 24,
      "outputs": []
    },
    {
      "cell_type": "markdown",
      "source": [
        "# Data augmentation"
      ],
      "metadata": {
        "id": "6HSmA_GjPCaA"
      }
    },
    {
      "cell_type": "code",
      "source": [
        "data_augmentation = keras.Sequential(\n",
        "    [\n",
        "     keras.layers.RandomFlip(\"horizontal\"),\n",
        "     keras.layers.RandomFlip(\"vertical\"),\n",
        "     keras.layers.RandomRotation(0.1),\n",
        "    ]\n",
        ")"
      ],
      "metadata": {
        "id": "2b33geI9PF0-"
      },
      "execution_count": 26,
      "outputs": []
    },
    {
      "cell_type": "markdown",
      "source": [
        "# Building the model"
      ],
      "metadata": {
        "id": "ZG0hO0PaMbVE"
      }
    },
    {
      "cell_type": "code",
      "source": [
        "# a helper function \n",
        "def residual_block(x, num_filters, pooling = False):\n",
        "  # residual is pointing to the original input\n",
        "  residual = x\n",
        "\n",
        "  # a block containing conv layers\n",
        "  x = keras.layers.SeparableConv2D(num_filters, 3, padding=\"same\", use_bias=False)(x)\n",
        "  x = keras.layers.BatchNormalization()(x)\n",
        "  x = keras.layers.Activation(\"relu\")(x)\n",
        "  x = keras.layers.SeparableConv2D(num_filters, 3, padding=\"same\", use_bias=False)(x)\n",
        "  x = keras.layers.BatchNormalization()(x)\n",
        "  x = keras.layers.Activation(\"relu\")(x)\n",
        "  x = keras.layers.SeparableConv2D(num_filters, 3, padding=\"same\", use_bias=False)(x)\n",
        "  x = keras.layers.BatchNormalization()(x)\n",
        "  x = keras.layers.Activation(\"relu\")(x)\n",
        "\n",
        "  if pooling: \n",
        "    x = keras.layers.MaxPooling2D(2, padding=\"same\")(x)\n",
        "    residual = keras.layers.Conv2D(num_filters, 1, strides=2)(residual)\n",
        "\n",
        "  elif num_filters != residual.shape[-1]:\n",
        "    residual = keras.layers.Conv2D(num_filters, 1)(residual)\n",
        "\n",
        "  x = keras.layers.add([x, residual])\n",
        "\n",
        "  return x"
      ],
      "metadata": {
        "id": "0kp_oAKAMaHT"
      },
      "execution_count": 27,
      "outputs": []
    },
    {
      "cell_type": "code",
      "source": [
        "num_classes = 10\n",
        "\n",
        "inputs = keras.Input(shape=(32,32,3))\n",
        "\n",
        "augmented_inputs = data_augmentation(inputs)\n",
        "\n",
        "rescaled_inputs = keras.layers.Rescaling(1.0/255)(augmented_inputs)\n",
        "\n",
        "x = keras.layers.Conv2D(16,3,padding=\"same\", use_bias=False)(rescaled_inputs)\n",
        "x = keras.layers.BatchNormalization()(x)\n",
        "x = keras.layers.Activation(\"relu\")(x)\n",
        "x = keras.layers.MaxPooling2D(2)(x)\n",
        "\n",
        "\n",
        "x = residual_block(x, 16, False)\n",
        "x = residual_block(x, 16, False)\n",
        "x = residual_block(x, 16, False)\n",
        "x = residual_block(x, 16, True)\n",
        "x = residual_block(x, 32, False)\n",
        "x = residual_block(x, 32, False)\n",
        "x = residual_block(x, 32, False)\n",
        "x = residual_block(x, 32, True)\n",
        "x = residual_block(x, 48, False)\n",
        "x = residual_block(x, 48, False)\n",
        "x = residual_block(x, 48, False)\n",
        "x = residual_block(x, 48, True)\n",
        "x = residual_block(x, 64, False)\n",
        "x = residual_block(x, 64, False)\n",
        "x = residual_block(x, 64, False)\n",
        "x = residual_block(x, 64, True)\n",
        "\n",
        "x = keras.layers.Flatten()(x)\n",
        "x = keras.layers.Dense(64, activation=\"relu\")(x)\n",
        "x = keras.layers.Dropout(0.5)(x)\n",
        "outputs = keras.layers.Dense(num_classes, activation=\"softmax\")(x)\n",
        "\n",
        "cifar10_model = keras.Model(inputs=inputs, outputs=outputs, name=\"cifar10_model\")"
      ],
      "metadata": {
        "id": "0tTnbi16Mk7l"
      },
      "execution_count": 28,
      "outputs": []
    },
    {
      "cell_type": "code",
      "source": [
        "cifar10_model.summary()"
      ],
      "metadata": {
        "colab": {
          "base_uri": "https://localhost:8080/"
        },
        "id": "9AZoFY2PMsph",
        "outputId": "914e063b-ce7d-4064-a4a3-ca2d0ad72521"
      },
      "execution_count": 29,
      "outputs": [
        {
          "output_type": "stream",
          "name": "stdout",
          "text": [
            "Model: \"cifar10_model\"\n",
            "__________________________________________________________________________________________________\n",
            " Layer (type)                   Output Shape         Param #     Connected to                     \n",
            "==================================================================================================\n",
            " input_1 (InputLayer)           [(None, 32, 32, 3)]  0           []                               \n",
            "                                                                                                  \n",
            " sequential (Sequential)        (None, 32, 32, 3)    0           ['input_1[0][0]']                \n",
            "                                                                                                  \n",
            " rescaling (Rescaling)          (None, 32, 32, 3)    0           ['sequential[0][0]']             \n",
            "                                                                                                  \n",
            " conv2d (Conv2D)                (None, 32, 32, 16)   432         ['rescaling[0][0]']              \n",
            "                                                                                                  \n",
            " batch_normalization (BatchNorm  (None, 32, 32, 16)  64          ['conv2d[0][0]']                 \n",
            " alization)                                                                                       \n",
            "                                                                                                  \n",
            " activation (Activation)        (None, 32, 32, 16)   0           ['batch_normalization[0][0]']    \n",
            "                                                                                                  \n",
            " max_pooling2d (MaxPooling2D)   (None, 16, 16, 16)   0           ['activation[0][0]']             \n",
            "                                                                                                  \n",
            " separable_conv2d (SeparableCon  (None, 16, 16, 16)  400         ['max_pooling2d[0][0]']          \n",
            " v2D)                                                                                             \n",
            "                                                                                                  \n",
            " batch_normalization_1 (BatchNo  (None, 16, 16, 16)  64          ['separable_conv2d[0][0]']       \n",
            " rmalization)                                                                                     \n",
            "                                                                                                  \n",
            " activation_1 (Activation)      (None, 16, 16, 16)   0           ['batch_normalization_1[0][0]']  \n",
            "                                                                                                  \n",
            " separable_conv2d_1 (SeparableC  (None, 16, 16, 16)  400         ['activation_1[0][0]']           \n",
            " onv2D)                                                                                           \n",
            "                                                                                                  \n",
            " batch_normalization_2 (BatchNo  (None, 16, 16, 16)  64          ['separable_conv2d_1[0][0]']     \n",
            " rmalization)                                                                                     \n",
            "                                                                                                  \n",
            " activation_2 (Activation)      (None, 16, 16, 16)   0           ['batch_normalization_2[0][0]']  \n",
            "                                                                                                  \n",
            " separable_conv2d_2 (SeparableC  (None, 16, 16, 16)  400         ['activation_2[0][0]']           \n",
            " onv2D)                                                                                           \n",
            "                                                                                                  \n",
            " batch_normalization_3 (BatchNo  (None, 16, 16, 16)  64          ['separable_conv2d_2[0][0]']     \n",
            " rmalization)                                                                                     \n",
            "                                                                                                  \n",
            " activation_3 (Activation)      (None, 16, 16, 16)   0           ['batch_normalization_3[0][0]']  \n",
            "                                                                                                  \n",
            " add (Add)                      (None, 16, 16, 16)   0           ['activation_3[0][0]',           \n",
            "                                                                  'max_pooling2d[0][0]']          \n",
            "                                                                                                  \n",
            " separable_conv2d_3 (SeparableC  (None, 16, 16, 16)  400         ['add[0][0]']                    \n",
            " onv2D)                                                                                           \n",
            "                                                                                                  \n",
            " batch_normalization_4 (BatchNo  (None, 16, 16, 16)  64          ['separable_conv2d_3[0][0]']     \n",
            " rmalization)                                                                                     \n",
            "                                                                                                  \n",
            " activation_4 (Activation)      (None, 16, 16, 16)   0           ['batch_normalization_4[0][0]']  \n",
            "                                                                                                  \n",
            " separable_conv2d_4 (SeparableC  (None, 16, 16, 16)  400         ['activation_4[0][0]']           \n",
            " onv2D)                                                                                           \n",
            "                                                                                                  \n",
            " batch_normalization_5 (BatchNo  (None, 16, 16, 16)  64          ['separable_conv2d_4[0][0]']     \n",
            " rmalization)                                                                                     \n",
            "                                                                                                  \n",
            " activation_5 (Activation)      (None, 16, 16, 16)   0           ['batch_normalization_5[0][0]']  \n",
            "                                                                                                  \n",
            " separable_conv2d_5 (SeparableC  (None, 16, 16, 16)  400         ['activation_5[0][0]']           \n",
            " onv2D)                                                                                           \n",
            "                                                                                                  \n",
            " batch_normalization_6 (BatchNo  (None, 16, 16, 16)  64          ['separable_conv2d_5[0][0]']     \n",
            " rmalization)                                                                                     \n",
            "                                                                                                  \n",
            " activation_6 (Activation)      (None, 16, 16, 16)   0           ['batch_normalization_6[0][0]']  \n",
            "                                                                                                  \n",
            " add_1 (Add)                    (None, 16, 16, 16)   0           ['activation_6[0][0]',           \n",
            "                                                                  'add[0][0]']                    \n",
            "                                                                                                  \n",
            " separable_conv2d_6 (SeparableC  (None, 16, 16, 16)  400         ['add_1[0][0]']                  \n",
            " onv2D)                                                                                           \n",
            "                                                                                                  \n",
            " batch_normalization_7 (BatchNo  (None, 16, 16, 16)  64          ['separable_conv2d_6[0][0]']     \n",
            " rmalization)                                                                                     \n",
            "                                                                                                  \n",
            " activation_7 (Activation)      (None, 16, 16, 16)   0           ['batch_normalization_7[0][0]']  \n",
            "                                                                                                  \n",
            " separable_conv2d_7 (SeparableC  (None, 16, 16, 16)  400         ['activation_7[0][0]']           \n",
            " onv2D)                                                                                           \n",
            "                                                                                                  \n",
            " batch_normalization_8 (BatchNo  (None, 16, 16, 16)  64          ['separable_conv2d_7[0][0]']     \n",
            " rmalization)                                                                                     \n",
            "                                                                                                  \n",
            " activation_8 (Activation)      (None, 16, 16, 16)   0           ['batch_normalization_8[0][0]']  \n",
            "                                                                                                  \n",
            " separable_conv2d_8 (SeparableC  (None, 16, 16, 16)  400         ['activation_8[0][0]']           \n",
            " onv2D)                                                                                           \n",
            "                                                                                                  \n",
            " batch_normalization_9 (BatchNo  (None, 16, 16, 16)  64          ['separable_conv2d_8[0][0]']     \n",
            " rmalization)                                                                                     \n",
            "                                                                                                  \n",
            " activation_9 (Activation)      (None, 16, 16, 16)   0           ['batch_normalization_9[0][0]']  \n",
            "                                                                                                  \n",
            " add_2 (Add)                    (None, 16, 16, 16)   0           ['activation_9[0][0]',           \n",
            "                                                                  'add_1[0][0]']                  \n",
            "                                                                                                  \n",
            " separable_conv2d_9 (SeparableC  (None, 16, 16, 16)  400         ['add_2[0][0]']                  \n",
            " onv2D)                                                                                           \n",
            "                                                                                                  \n",
            " batch_normalization_10 (BatchN  (None, 16, 16, 16)  64          ['separable_conv2d_9[0][0]']     \n",
            " ormalization)                                                                                    \n",
            "                                                                                                  \n",
            " activation_10 (Activation)     (None, 16, 16, 16)   0           ['batch_normalization_10[0][0]'] \n",
            "                                                                                                  \n",
            " separable_conv2d_10 (Separable  (None, 16, 16, 16)  400         ['activation_10[0][0]']          \n",
            " Conv2D)                                                                                          \n",
            "                                                                                                  \n",
            " batch_normalization_11 (BatchN  (None, 16, 16, 16)  64          ['separable_conv2d_10[0][0]']    \n",
            " ormalization)                                                                                    \n",
            "                                                                                                  \n",
            " activation_11 (Activation)     (None, 16, 16, 16)   0           ['batch_normalization_11[0][0]'] \n",
            "                                                                                                  \n",
            " separable_conv2d_11 (Separable  (None, 16, 16, 16)  400         ['activation_11[0][0]']          \n",
            " Conv2D)                                                                                          \n",
            "                                                                                                  \n",
            " batch_normalization_12 (BatchN  (None, 16, 16, 16)  64          ['separable_conv2d_11[0][0]']    \n",
            " ormalization)                                                                                    \n",
            "                                                                                                  \n",
            " activation_12 (Activation)     (None, 16, 16, 16)   0           ['batch_normalization_12[0][0]'] \n",
            "                                                                                                  \n",
            " max_pooling2d_1 (MaxPooling2D)  (None, 8, 8, 16)    0           ['activation_12[0][0]']          \n",
            "                                                                                                  \n",
            " conv2d_1 (Conv2D)              (None, 8, 8, 16)     272         ['add_2[0][0]']                  \n",
            "                                                                                                  \n",
            " add_3 (Add)                    (None, 8, 8, 16)     0           ['max_pooling2d_1[0][0]',        \n",
            "                                                                  'conv2d_1[0][0]']               \n",
            "                                                                                                  \n",
            " separable_conv2d_12 (Separable  (None, 8, 8, 32)    656         ['add_3[0][0]']                  \n",
            " Conv2D)                                                                                          \n",
            "                                                                                                  \n",
            " batch_normalization_13 (BatchN  (None, 8, 8, 32)    128         ['separable_conv2d_12[0][0]']    \n",
            " ormalization)                                                                                    \n",
            "                                                                                                  \n",
            " activation_13 (Activation)     (None, 8, 8, 32)     0           ['batch_normalization_13[0][0]'] \n",
            "                                                                                                  \n",
            " separable_conv2d_13 (Separable  (None, 8, 8, 32)    1312        ['activation_13[0][0]']          \n",
            " Conv2D)                                                                                          \n",
            "                                                                                                  \n",
            " batch_normalization_14 (BatchN  (None, 8, 8, 32)    128         ['separable_conv2d_13[0][0]']    \n",
            " ormalization)                                                                                    \n",
            "                                                                                                  \n",
            " activation_14 (Activation)     (None, 8, 8, 32)     0           ['batch_normalization_14[0][0]'] \n",
            "                                                                                                  \n",
            " separable_conv2d_14 (Separable  (None, 8, 8, 32)    1312        ['activation_14[0][0]']          \n",
            " Conv2D)                                                                                          \n",
            "                                                                                                  \n",
            " batch_normalization_15 (BatchN  (None, 8, 8, 32)    128         ['separable_conv2d_14[0][0]']    \n",
            " ormalization)                                                                                    \n",
            "                                                                                                  \n",
            " activation_15 (Activation)     (None, 8, 8, 32)     0           ['batch_normalization_15[0][0]'] \n",
            "                                                                                                  \n",
            " conv2d_2 (Conv2D)              (None, 8, 8, 32)     544         ['add_3[0][0]']                  \n",
            "                                                                                                  \n",
            " add_4 (Add)                    (None, 8, 8, 32)     0           ['activation_15[0][0]',          \n",
            "                                                                  'conv2d_2[0][0]']               \n",
            "                                                                                                  \n",
            " separable_conv2d_15 (Separable  (None, 8, 8, 32)    1312        ['add_4[0][0]']                  \n",
            " Conv2D)                                                                                          \n",
            "                                                                                                  \n",
            " batch_normalization_16 (BatchN  (None, 8, 8, 32)    128         ['separable_conv2d_15[0][0]']    \n",
            " ormalization)                                                                                    \n",
            "                                                                                                  \n",
            " activation_16 (Activation)     (None, 8, 8, 32)     0           ['batch_normalization_16[0][0]'] \n",
            "                                                                                                  \n",
            " separable_conv2d_16 (Separable  (None, 8, 8, 32)    1312        ['activation_16[0][0]']          \n",
            " Conv2D)                                                                                          \n",
            "                                                                                                  \n",
            " batch_normalization_17 (BatchN  (None, 8, 8, 32)    128         ['separable_conv2d_16[0][0]']    \n",
            " ormalization)                                                                                    \n",
            "                                                                                                  \n",
            " activation_17 (Activation)     (None, 8, 8, 32)     0           ['batch_normalization_17[0][0]'] \n",
            "                                                                                                  \n",
            " separable_conv2d_17 (Separable  (None, 8, 8, 32)    1312        ['activation_17[0][0]']          \n",
            " Conv2D)                                                                                          \n",
            "                                                                                                  \n",
            " batch_normalization_18 (BatchN  (None, 8, 8, 32)    128         ['separable_conv2d_17[0][0]']    \n",
            " ormalization)                                                                                    \n",
            "                                                                                                  \n",
            " activation_18 (Activation)     (None, 8, 8, 32)     0           ['batch_normalization_18[0][0]'] \n",
            "                                                                                                  \n",
            " add_5 (Add)                    (None, 8, 8, 32)     0           ['activation_18[0][0]',          \n",
            "                                                                  'add_4[0][0]']                  \n",
            "                                                                                                  \n",
            " separable_conv2d_18 (Separable  (None, 8, 8, 32)    1312        ['add_5[0][0]']                  \n",
            " Conv2D)                                                                                          \n",
            "                                                                                                  \n",
            " batch_normalization_19 (BatchN  (None, 8, 8, 32)    128         ['separable_conv2d_18[0][0]']    \n",
            " ormalization)                                                                                    \n",
            "                                                                                                  \n",
            " activation_19 (Activation)     (None, 8, 8, 32)     0           ['batch_normalization_19[0][0]'] \n",
            "                                                                                                  \n",
            " separable_conv2d_19 (Separable  (None, 8, 8, 32)    1312        ['activation_19[0][0]']          \n",
            " Conv2D)                                                                                          \n",
            "                                                                                                  \n",
            " batch_normalization_20 (BatchN  (None, 8, 8, 32)    128         ['separable_conv2d_19[0][0]']    \n",
            " ormalization)                                                                                    \n",
            "                                                                                                  \n",
            " activation_20 (Activation)     (None, 8, 8, 32)     0           ['batch_normalization_20[0][0]'] \n",
            "                                                                                                  \n",
            " separable_conv2d_20 (Separable  (None, 8, 8, 32)    1312        ['activation_20[0][0]']          \n",
            " Conv2D)                                                                                          \n",
            "                                                                                                  \n",
            " batch_normalization_21 (BatchN  (None, 8, 8, 32)    128         ['separable_conv2d_20[0][0]']    \n",
            " ormalization)                                                                                    \n",
            "                                                                                                  \n",
            " activation_21 (Activation)     (None, 8, 8, 32)     0           ['batch_normalization_21[0][0]'] \n",
            "                                                                                                  \n",
            " add_6 (Add)                    (None, 8, 8, 32)     0           ['activation_21[0][0]',          \n",
            "                                                                  'add_5[0][0]']                  \n",
            "                                                                                                  \n",
            " separable_conv2d_21 (Separable  (None, 8, 8, 32)    1312        ['add_6[0][0]']                  \n",
            " Conv2D)                                                                                          \n",
            "                                                                                                  \n",
            " batch_normalization_22 (BatchN  (None, 8, 8, 32)    128         ['separable_conv2d_21[0][0]']    \n",
            " ormalization)                                                                                    \n",
            "                                                                                                  \n",
            " activation_22 (Activation)     (None, 8, 8, 32)     0           ['batch_normalization_22[0][0]'] \n",
            "                                                                                                  \n",
            " separable_conv2d_22 (Separable  (None, 8, 8, 32)    1312        ['activation_22[0][0]']          \n",
            " Conv2D)                                                                                          \n",
            "                                                                                                  \n",
            " batch_normalization_23 (BatchN  (None, 8, 8, 32)    128         ['separable_conv2d_22[0][0]']    \n",
            " ormalization)                                                                                    \n",
            "                                                                                                  \n",
            " activation_23 (Activation)     (None, 8, 8, 32)     0           ['batch_normalization_23[0][0]'] \n",
            "                                                                                                  \n",
            " separable_conv2d_23 (Separable  (None, 8, 8, 32)    1312        ['activation_23[0][0]']          \n",
            " Conv2D)                                                                                          \n",
            "                                                                                                  \n",
            " batch_normalization_24 (BatchN  (None, 8, 8, 32)    128         ['separable_conv2d_23[0][0]']    \n",
            " ormalization)                                                                                    \n",
            "                                                                                                  \n",
            " activation_24 (Activation)     (None, 8, 8, 32)     0           ['batch_normalization_24[0][0]'] \n",
            "                                                                                                  \n",
            " max_pooling2d_2 (MaxPooling2D)  (None, 4, 4, 32)    0           ['activation_24[0][0]']          \n",
            "                                                                                                  \n",
            " conv2d_3 (Conv2D)              (None, 4, 4, 32)     1056        ['add_6[0][0]']                  \n",
            "                                                                                                  \n",
            " add_7 (Add)                    (None, 4, 4, 32)     0           ['max_pooling2d_2[0][0]',        \n",
            "                                                                  'conv2d_3[0][0]']               \n",
            "                                                                                                  \n",
            " separable_conv2d_24 (Separable  (None, 4, 4, 48)    1824        ['add_7[0][0]']                  \n",
            " Conv2D)                                                                                          \n",
            "                                                                                                  \n",
            " batch_normalization_25 (BatchN  (None, 4, 4, 48)    192         ['separable_conv2d_24[0][0]']    \n",
            " ormalization)                                                                                    \n",
            "                                                                                                  \n",
            " activation_25 (Activation)     (None, 4, 4, 48)     0           ['batch_normalization_25[0][0]'] \n",
            "                                                                                                  \n",
            " separable_conv2d_25 (Separable  (None, 4, 4, 48)    2736        ['activation_25[0][0]']          \n",
            " Conv2D)                                                                                          \n",
            "                                                                                                  \n",
            " batch_normalization_26 (BatchN  (None, 4, 4, 48)    192         ['separable_conv2d_25[0][0]']    \n",
            " ormalization)                                                                                    \n",
            "                                                                                                  \n",
            " activation_26 (Activation)     (None, 4, 4, 48)     0           ['batch_normalization_26[0][0]'] \n",
            "                                                                                                  \n",
            " separable_conv2d_26 (Separable  (None, 4, 4, 48)    2736        ['activation_26[0][0]']          \n",
            " Conv2D)                                                                                          \n",
            "                                                                                                  \n",
            " batch_normalization_27 (BatchN  (None, 4, 4, 48)    192         ['separable_conv2d_26[0][0]']    \n",
            " ormalization)                                                                                    \n",
            "                                                                                                  \n",
            " activation_27 (Activation)     (None, 4, 4, 48)     0           ['batch_normalization_27[0][0]'] \n",
            "                                                                                                  \n",
            " conv2d_4 (Conv2D)              (None, 4, 4, 48)     1584        ['add_7[0][0]']                  \n",
            "                                                                                                  \n",
            " add_8 (Add)                    (None, 4, 4, 48)     0           ['activation_27[0][0]',          \n",
            "                                                                  'conv2d_4[0][0]']               \n",
            "                                                                                                  \n",
            " separable_conv2d_27 (Separable  (None, 4, 4, 48)    2736        ['add_8[0][0]']                  \n",
            " Conv2D)                                                                                          \n",
            "                                                                                                  \n",
            " batch_normalization_28 (BatchN  (None, 4, 4, 48)    192         ['separable_conv2d_27[0][0]']    \n",
            " ormalization)                                                                                    \n",
            "                                                                                                  \n",
            " activation_28 (Activation)     (None, 4, 4, 48)     0           ['batch_normalization_28[0][0]'] \n",
            "                                                                                                  \n",
            " separable_conv2d_28 (Separable  (None, 4, 4, 48)    2736        ['activation_28[0][0]']          \n",
            " Conv2D)                                                                                          \n",
            "                                                                                                  \n",
            " batch_normalization_29 (BatchN  (None, 4, 4, 48)    192         ['separable_conv2d_28[0][0]']    \n",
            " ormalization)                                                                                    \n",
            "                                                                                                  \n",
            " activation_29 (Activation)     (None, 4, 4, 48)     0           ['batch_normalization_29[0][0]'] \n",
            "                                                                                                  \n",
            " separable_conv2d_29 (Separable  (None, 4, 4, 48)    2736        ['activation_29[0][0]']          \n",
            " Conv2D)                                                                                          \n",
            "                                                                                                  \n",
            " batch_normalization_30 (BatchN  (None, 4, 4, 48)    192         ['separable_conv2d_29[0][0]']    \n",
            " ormalization)                                                                                    \n",
            "                                                                                                  \n",
            " activation_30 (Activation)     (None, 4, 4, 48)     0           ['batch_normalization_30[0][0]'] \n",
            "                                                                                                  \n",
            " add_9 (Add)                    (None, 4, 4, 48)     0           ['activation_30[0][0]',          \n",
            "                                                                  'add_8[0][0]']                  \n",
            "                                                                                                  \n",
            " separable_conv2d_30 (Separable  (None, 4, 4, 48)    2736        ['add_9[0][0]']                  \n",
            " Conv2D)                                                                                          \n",
            "                                                                                                  \n",
            " batch_normalization_31 (BatchN  (None, 4, 4, 48)    192         ['separable_conv2d_30[0][0]']    \n",
            " ormalization)                                                                                    \n",
            "                                                                                                  \n",
            " activation_31 (Activation)     (None, 4, 4, 48)     0           ['batch_normalization_31[0][0]'] \n",
            "                                                                                                  \n",
            " separable_conv2d_31 (Separable  (None, 4, 4, 48)    2736        ['activation_31[0][0]']          \n",
            " Conv2D)                                                                                          \n",
            "                                                                                                  \n",
            " batch_normalization_32 (BatchN  (None, 4, 4, 48)    192         ['separable_conv2d_31[0][0]']    \n",
            " ormalization)                                                                                    \n",
            "                                                                                                  \n",
            " activation_32 (Activation)     (None, 4, 4, 48)     0           ['batch_normalization_32[0][0]'] \n",
            "                                                                                                  \n",
            " separable_conv2d_32 (Separable  (None, 4, 4, 48)    2736        ['activation_32[0][0]']          \n",
            " Conv2D)                                                                                          \n",
            "                                                                                                  \n",
            " batch_normalization_33 (BatchN  (None, 4, 4, 48)    192         ['separable_conv2d_32[0][0]']    \n",
            " ormalization)                                                                                    \n",
            "                                                                                                  \n",
            " activation_33 (Activation)     (None, 4, 4, 48)     0           ['batch_normalization_33[0][0]'] \n",
            "                                                                                                  \n",
            " add_10 (Add)                   (None, 4, 4, 48)     0           ['activation_33[0][0]',          \n",
            "                                                                  'add_9[0][0]']                  \n",
            "                                                                                                  \n",
            " separable_conv2d_33 (Separable  (None, 4, 4, 48)    2736        ['add_10[0][0]']                 \n",
            " Conv2D)                                                                                          \n",
            "                                                                                                  \n",
            " batch_normalization_34 (BatchN  (None, 4, 4, 48)    192         ['separable_conv2d_33[0][0]']    \n",
            " ormalization)                                                                                    \n",
            "                                                                                                  \n",
            " activation_34 (Activation)     (None, 4, 4, 48)     0           ['batch_normalization_34[0][0]'] \n",
            "                                                                                                  \n",
            " separable_conv2d_34 (Separable  (None, 4, 4, 48)    2736        ['activation_34[0][0]']          \n",
            " Conv2D)                                                                                          \n",
            "                                                                                                  \n",
            " batch_normalization_35 (BatchN  (None, 4, 4, 48)    192         ['separable_conv2d_34[0][0]']    \n",
            " ormalization)                                                                                    \n",
            "                                                                                                  \n",
            " activation_35 (Activation)     (None, 4, 4, 48)     0           ['batch_normalization_35[0][0]'] \n",
            "                                                                                                  \n",
            " separable_conv2d_35 (Separable  (None, 4, 4, 48)    2736        ['activation_35[0][0]']          \n",
            " Conv2D)                                                                                          \n",
            "                                                                                                  \n",
            " batch_normalization_36 (BatchN  (None, 4, 4, 48)    192         ['separable_conv2d_35[0][0]']    \n",
            " ormalization)                                                                                    \n",
            "                                                                                                  \n",
            " activation_36 (Activation)     (None, 4, 4, 48)     0           ['batch_normalization_36[0][0]'] \n",
            "                                                                                                  \n",
            " max_pooling2d_3 (MaxPooling2D)  (None, 2, 2, 48)    0           ['activation_36[0][0]']          \n",
            "                                                                                                  \n",
            " conv2d_5 (Conv2D)              (None, 2, 2, 48)     2352        ['add_10[0][0]']                 \n",
            "                                                                                                  \n",
            " add_11 (Add)                   (None, 2, 2, 48)     0           ['max_pooling2d_3[0][0]',        \n",
            "                                                                  'conv2d_5[0][0]']               \n",
            "                                                                                                  \n",
            " separable_conv2d_36 (Separable  (None, 2, 2, 64)    3504        ['add_11[0][0]']                 \n",
            " Conv2D)                                                                                          \n",
            "                                                                                                  \n",
            " batch_normalization_37 (BatchN  (None, 2, 2, 64)    256         ['separable_conv2d_36[0][0]']    \n",
            " ormalization)                                                                                    \n",
            "                                                                                                  \n",
            " activation_37 (Activation)     (None, 2, 2, 64)     0           ['batch_normalization_37[0][0]'] \n",
            "                                                                                                  \n",
            " separable_conv2d_37 (Separable  (None, 2, 2, 64)    4672        ['activation_37[0][0]']          \n",
            " Conv2D)                                                                                          \n",
            "                                                                                                  \n",
            " batch_normalization_38 (BatchN  (None, 2, 2, 64)    256         ['separable_conv2d_37[0][0]']    \n",
            " ormalization)                                                                                    \n",
            "                                                                                                  \n",
            " activation_38 (Activation)     (None, 2, 2, 64)     0           ['batch_normalization_38[0][0]'] \n",
            "                                                                                                  \n",
            " separable_conv2d_38 (Separable  (None, 2, 2, 64)    4672        ['activation_38[0][0]']          \n",
            " Conv2D)                                                                                          \n",
            "                                                                                                  \n",
            " batch_normalization_39 (BatchN  (None, 2, 2, 64)    256         ['separable_conv2d_38[0][0]']    \n",
            " ormalization)                                                                                    \n",
            "                                                                                                  \n",
            " activation_39 (Activation)     (None, 2, 2, 64)     0           ['batch_normalization_39[0][0]'] \n",
            "                                                                                                  \n",
            " conv2d_6 (Conv2D)              (None, 2, 2, 64)     3136        ['add_11[0][0]']                 \n",
            "                                                                                                  \n",
            " add_12 (Add)                   (None, 2, 2, 64)     0           ['activation_39[0][0]',          \n",
            "                                                                  'conv2d_6[0][0]']               \n",
            "                                                                                                  \n",
            " separable_conv2d_39 (Separable  (None, 2, 2, 64)    4672        ['add_12[0][0]']                 \n",
            " Conv2D)                                                                                          \n",
            "                                                                                                  \n",
            " batch_normalization_40 (BatchN  (None, 2, 2, 64)    256         ['separable_conv2d_39[0][0]']    \n",
            " ormalization)                                                                                    \n",
            "                                                                                                  \n",
            " activation_40 (Activation)     (None, 2, 2, 64)     0           ['batch_normalization_40[0][0]'] \n",
            "                                                                                                  \n",
            " separable_conv2d_40 (Separable  (None, 2, 2, 64)    4672        ['activation_40[0][0]']          \n",
            " Conv2D)                                                                                          \n",
            "                                                                                                  \n",
            " batch_normalization_41 (BatchN  (None, 2, 2, 64)    256         ['separable_conv2d_40[0][0]']    \n",
            " ormalization)                                                                                    \n",
            "                                                                                                  \n",
            " activation_41 (Activation)     (None, 2, 2, 64)     0           ['batch_normalization_41[0][0]'] \n",
            "                                                                                                  \n",
            " separable_conv2d_41 (Separable  (None, 2, 2, 64)    4672        ['activation_41[0][0]']          \n",
            " Conv2D)                                                                                          \n",
            "                                                                                                  \n",
            " batch_normalization_42 (BatchN  (None, 2, 2, 64)    256         ['separable_conv2d_41[0][0]']    \n",
            " ormalization)                                                                                    \n",
            "                                                                                                  \n",
            " activation_42 (Activation)     (None, 2, 2, 64)     0           ['batch_normalization_42[0][0]'] \n",
            "                                                                                                  \n",
            " add_13 (Add)                   (None, 2, 2, 64)     0           ['activation_42[0][0]',          \n",
            "                                                                  'add_12[0][0]']                 \n",
            "                                                                                                  \n",
            " separable_conv2d_42 (Separable  (None, 2, 2, 64)    4672        ['add_13[0][0]']                 \n",
            " Conv2D)                                                                                          \n",
            "                                                                                                  \n",
            " batch_normalization_43 (BatchN  (None, 2, 2, 64)    256         ['separable_conv2d_42[0][0]']    \n",
            " ormalization)                                                                                    \n",
            "                                                                                                  \n",
            " activation_43 (Activation)     (None, 2, 2, 64)     0           ['batch_normalization_43[0][0]'] \n",
            "                                                                                                  \n",
            " separable_conv2d_43 (Separable  (None, 2, 2, 64)    4672        ['activation_43[0][0]']          \n",
            " Conv2D)                                                                                          \n",
            "                                                                                                  \n",
            " batch_normalization_44 (BatchN  (None, 2, 2, 64)    256         ['separable_conv2d_43[0][0]']    \n",
            " ormalization)                                                                                    \n",
            "                                                                                                  \n",
            " activation_44 (Activation)     (None, 2, 2, 64)     0           ['batch_normalization_44[0][0]'] \n",
            "                                                                                                  \n",
            " separable_conv2d_44 (Separable  (None, 2, 2, 64)    4672        ['activation_44[0][0]']          \n",
            " Conv2D)                                                                                          \n",
            "                                                                                                  \n",
            " batch_normalization_45 (BatchN  (None, 2, 2, 64)    256         ['separable_conv2d_44[0][0]']    \n",
            " ormalization)                                                                                    \n",
            "                                                                                                  \n",
            " activation_45 (Activation)     (None, 2, 2, 64)     0           ['batch_normalization_45[0][0]'] \n",
            "                                                                                                  \n",
            " add_14 (Add)                   (None, 2, 2, 64)     0           ['activation_45[0][0]',          \n",
            "                                                                  'add_13[0][0]']                 \n",
            "                                                                                                  \n",
            " separable_conv2d_45 (Separable  (None, 2, 2, 64)    4672        ['add_14[0][0]']                 \n",
            " Conv2D)                                                                                          \n",
            "                                                                                                  \n",
            " batch_normalization_46 (BatchN  (None, 2, 2, 64)    256         ['separable_conv2d_45[0][0]']    \n",
            " ormalization)                                                                                    \n",
            "                                                                                                  \n",
            " activation_46 (Activation)     (None, 2, 2, 64)     0           ['batch_normalization_46[0][0]'] \n",
            "                                                                                                  \n",
            " separable_conv2d_46 (Separable  (None, 2, 2, 64)    4672        ['activation_46[0][0]']          \n",
            " Conv2D)                                                                                          \n",
            "                                                                                                  \n",
            " batch_normalization_47 (BatchN  (None, 2, 2, 64)    256         ['separable_conv2d_46[0][0]']    \n",
            " ormalization)                                                                                    \n",
            "                                                                                                  \n",
            " activation_47 (Activation)     (None, 2, 2, 64)     0           ['batch_normalization_47[0][0]'] \n",
            "                                                                                                  \n",
            " separable_conv2d_47 (Separable  (None, 2, 2, 64)    4672        ['activation_47[0][0]']          \n",
            " Conv2D)                                                                                          \n",
            "                                                                                                  \n",
            " batch_normalization_48 (BatchN  (None, 2, 2, 64)    256         ['separable_conv2d_47[0][0]']    \n",
            " ormalization)                                                                                    \n",
            "                                                                                                  \n",
            " activation_48 (Activation)     (None, 2, 2, 64)     0           ['batch_normalization_48[0][0]'] \n",
            "                                                                                                  \n",
            " max_pooling2d_4 (MaxPooling2D)  (None, 1, 1, 64)    0           ['activation_48[0][0]']          \n",
            "                                                                                                  \n",
            " conv2d_7 (Conv2D)              (None, 1, 1, 64)     4160        ['add_14[0][0]']                 \n",
            "                                                                                                  \n",
            " add_15 (Add)                   (None, 1, 1, 64)     0           ['max_pooling2d_4[0][0]',        \n",
            "                                                                  'conv2d_7[0][0]']               \n",
            "                                                                                                  \n",
            " flatten (Flatten)              (None, 64)           0           ['add_15[0][0]']                 \n",
            "                                                                                                  \n",
            " dense (Dense)                  (None, 64)           4160        ['flatten[0][0]']                \n",
            "                                                                                                  \n",
            " dropout (Dropout)              (None, 64)           0           ['dense[0][0]']                  \n",
            "                                                                                                  \n",
            " dense_1 (Dense)                (None, 10)           650         ['dropout[0][0]']                \n",
            "                                                                                                  \n",
            "==================================================================================================\n",
            "Total params: 132,794\n",
            "Trainable params: 128,922\n",
            "Non-trainable params: 3,872\n",
            "__________________________________________________________________________________________________\n"
          ]
        }
      ]
    },
    {
      "cell_type": "markdown",
      "source": [
        "# Compiling the model"
      ],
      "metadata": {
        "id": "hxQ69hMTNKIT"
      }
    },
    {
      "cell_type": "code",
      "source": [
        "optimizer = keras.optimizers.Adam(learning_rate=0.001)\n",
        "loss = \"categorical_crossentropy\"\n",
        "metrics = [\"accuracy\"]\n",
        "\n",
        "cifar10_model.compile(optimizer=optimizer, loss=loss, metrics=metrics)"
      ],
      "metadata": {
        "id": "uI4-JaY8NJmo"
      },
      "execution_count": 30,
      "outputs": []
    },
    {
      "cell_type": "markdown",
      "source": [
        "# Setting up some callbacks"
      ],
      "metadata": {
        "id": "U0wYnXNYNTtL"
      }
    },
    {
      "cell_type": "code",
      "source": [
        "callbacks = [\n",
        "             keras.callbacks.ModelCheckpoint(\"/content/drive/MyDrive/fashion_mnist/model_for_cifar_10_img_classification\", \n",
        "                                             save_best_only=True, \n",
        "                                             monitor =\"val_loss\"), \n",
        "             keras.callbacks.EarlyStopping(patience=10)\n",
        "]"
      ],
      "metadata": {
        "id": "0fSw08IXNY-C"
      },
      "execution_count": 31,
      "outputs": []
    },
    {
      "cell_type": "markdown",
      "source": [
        "# Training the model"
      ],
      "metadata": {
        "id": "J9vQRy_nNSyJ"
      }
    },
    {
      "cell_type": "code",
      "source": [
        "epoch_nr = 100\n",
        "batch_size = 128\n",
        "validation_data = (x_val, y_val)\n",
        "\n",
        "history_cifar10_model = cifar10_model.fit(x=x_train, y=y_train, epochs=epoch_nr, batch_size=batch_size, validation_data=validation_data, callbacks=callbacks)"
      ],
      "metadata": {
        "colab": {
          "base_uri": "https://localhost:8080/"
        },
        "id": "iaM7FI46RtMb",
        "outputId": "902e13fe-6d8c-4e78-f0c5-992c9e04e921"
      },
      "execution_count": 32,
      "outputs": [
        {
          "output_type": "stream",
          "name": "stdout",
          "text": [
            "Epoch 1/100\n",
            "313/313 [==============================] - ETA: 0s - loss: 2.2362 - accuracy: 0.1819INFO:tensorflow:Assets written to: /content/drive/MyDrive/fashion_mnist/model_for_cifar_10_img_classification/assets\n",
            "313/313 [==============================] - 223s 687ms/step - loss: 2.2362 - accuracy: 0.1819 - val_loss: 2.3037 - val_accuracy: 0.1107\n",
            "Epoch 2/100\n",
            "313/313 [==============================] - ETA: 0s - loss: 1.9707 - accuracy: 0.2631INFO:tensorflow:Assets written to: /content/drive/MyDrive/fashion_mnist/model_for_cifar_10_img_classification/assets\n",
            "313/313 [==============================] - 219s 699ms/step - loss: 1.9707 - accuracy: 0.2631 - val_loss: 1.7828 - val_accuracy: 0.3409\n",
            "Epoch 3/100\n",
            "313/313 [==============================] - 197s 630ms/step - loss: 1.8452 - accuracy: 0.3171 - val_loss: 1.8710 - val_accuracy: 0.3077\n",
            "Epoch 4/100\n",
            "313/313 [==============================] - ETA: 0s - loss: 1.7567 - accuracy: 0.3551INFO:tensorflow:Assets written to: /content/drive/MyDrive/fashion_mnist/model_for_cifar_10_img_classification/assets\n",
            "313/313 [==============================] - 219s 699ms/step - loss: 1.7567 - accuracy: 0.3551 - val_loss: 1.6137 - val_accuracy: 0.4046\n",
            "Epoch 5/100\n",
            "313/313 [==============================] - ETA: 0s - loss: 1.6840 - accuracy: 0.3899INFO:tensorflow:Assets written to: /content/drive/MyDrive/fashion_mnist/model_for_cifar_10_img_classification/assets\n",
            "313/313 [==============================] - 219s 701ms/step - loss: 1.6840 - accuracy: 0.3899 - val_loss: 1.5310 - val_accuracy: 0.4381\n",
            "Epoch 6/100\n",
            "313/313 [==============================] - 196s 627ms/step - loss: 1.6233 - accuracy: 0.4133 - val_loss: 1.5480 - val_accuracy: 0.4396\n",
            "Epoch 7/100\n",
            "313/313 [==============================] - 193s 615ms/step - loss: 1.5839 - accuracy: 0.4323 - val_loss: 1.7031 - val_accuracy: 0.3971\n",
            "Epoch 8/100\n",
            "313/313 [==============================] - 193s 616ms/step - loss: 1.5527 - accuracy: 0.4470 - val_loss: 1.5586 - val_accuracy: 0.4415\n",
            "Epoch 9/100\n",
            "313/313 [==============================] - 194s 620ms/step - loss: 1.5071 - accuracy: 0.4667 - val_loss: 1.6707 - val_accuracy: 0.4416\n",
            "Epoch 10/100\n",
            "313/313 [==============================] - 196s 625ms/step - loss: 1.4723 - accuracy: 0.4785 - val_loss: 1.8982 - val_accuracy: 0.4093\n",
            "Epoch 11/100\n",
            "313/313 [==============================] - ETA: 0s - loss: 1.4352 - accuracy: 0.4943INFO:tensorflow:Assets written to: /content/drive/MyDrive/fashion_mnist/model_for_cifar_10_img_classification/assets\n",
            "313/313 [==============================] - 218s 696ms/step - loss: 1.4352 - accuracy: 0.4943 - val_loss: 1.3998 - val_accuracy: 0.4848\n",
            "Epoch 12/100\n",
            "313/313 [==============================] - 195s 622ms/step - loss: 1.4055 - accuracy: 0.5061 - val_loss: 1.5526 - val_accuracy: 0.4698\n",
            "Epoch 13/100\n",
            "313/313 [==============================] - ETA: 0s - loss: 1.3846 - accuracy: 0.5163INFO:tensorflow:Assets written to: /content/drive/MyDrive/fashion_mnist/model_for_cifar_10_img_classification/assets\n",
            "313/313 [==============================] - 222s 709ms/step - loss: 1.3846 - accuracy: 0.5163 - val_loss: 1.3639 - val_accuracy: 0.5248\n",
            "Epoch 14/100\n",
            "313/313 [==============================] - 195s 622ms/step - loss: 1.3659 - accuracy: 0.5224 - val_loss: 1.4234 - val_accuracy: 0.5062\n",
            "Epoch 15/100\n",
            "313/313 [==============================] - 193s 618ms/step - loss: 1.3478 - accuracy: 0.5304 - val_loss: 1.7513 - val_accuracy: 0.4551\n",
            "Epoch 16/100\n",
            "313/313 [==============================] - ETA: 0s - loss: 1.3191 - accuracy: 0.5398INFO:tensorflow:Assets written to: /content/drive/MyDrive/fashion_mnist/model_for_cifar_10_img_classification/assets\n",
            "313/313 [==============================] - 224s 716ms/step - loss: 1.3191 - accuracy: 0.5398 - val_loss: 1.2864 - val_accuracy: 0.5395\n",
            "Epoch 17/100\n",
            "313/313 [==============================] - ETA: 0s - loss: 1.2999 - accuracy: 0.5491INFO:tensorflow:Assets written to: /content/drive/MyDrive/fashion_mnist/model_for_cifar_10_img_classification/assets\n",
            "313/313 [==============================] - 219s 701ms/step - loss: 1.2999 - accuracy: 0.5491 - val_loss: 1.2119 - val_accuracy: 0.5710\n",
            "Epoch 18/100\n",
            "313/313 [==============================] - 197s 629ms/step - loss: 1.2826 - accuracy: 0.5540 - val_loss: 1.2315 - val_accuracy: 0.5655\n",
            "Epoch 19/100\n",
            "313/313 [==============================] - 190s 606ms/step - loss: 1.2657 - accuracy: 0.5632 - val_loss: 1.4197 - val_accuracy: 0.5268\n",
            "Epoch 20/100\n",
            "313/313 [==============================] - ETA: 0s - loss: 1.2506 - accuracy: 0.5671INFO:tensorflow:Assets written to: /content/drive/MyDrive/fashion_mnist/model_for_cifar_10_img_classification/assets\n",
            "313/313 [==============================] - 219s 701ms/step - loss: 1.2506 - accuracy: 0.5671 - val_loss: 1.2081 - val_accuracy: 0.5736\n",
            "Epoch 21/100\n",
            "313/313 [==============================] - ETA: 0s - loss: 1.2333 - accuracy: 0.5714INFO:tensorflow:Assets written to: /content/drive/MyDrive/fashion_mnist/model_for_cifar_10_img_classification/assets\n",
            "313/313 [==============================] - 219s 699ms/step - loss: 1.2333 - accuracy: 0.5714 - val_loss: 1.2064 - val_accuracy: 0.5725\n",
            "Epoch 22/100\n",
            "313/313 [==============================] - 194s 621ms/step - loss: 1.2262 - accuracy: 0.5727 - val_loss: 1.2121 - val_accuracy: 0.5574\n",
            "Epoch 23/100\n",
            "313/313 [==============================] - 193s 616ms/step - loss: 1.2075 - accuracy: 0.5818 - val_loss: 1.3946 - val_accuracy: 0.5320\n",
            "Epoch 24/100\n",
            "313/313 [==============================] - 190s 608ms/step - loss: 1.2024 - accuracy: 0.5840 - val_loss: 1.2589 - val_accuracy: 0.5588\n",
            "Epoch 25/100\n",
            "313/313 [==============================] - ETA: 0s - loss: 1.1819 - accuracy: 0.5911INFO:tensorflow:Assets written to: /content/drive/MyDrive/fashion_mnist/model_for_cifar_10_img_classification/assets\n",
            "313/313 [==============================] - 216s 690ms/step - loss: 1.1819 - accuracy: 0.5911 - val_loss: 1.1507 - val_accuracy: 0.5973\n",
            "Epoch 26/100\n",
            "313/313 [==============================] - 192s 612ms/step - loss: 1.1691 - accuracy: 0.5953 - val_loss: 1.2896 - val_accuracy: 0.5556\n",
            "Epoch 27/100\n",
            "313/313 [==============================] - 192s 612ms/step - loss: 1.1677 - accuracy: 0.5977 - val_loss: 1.2953 - val_accuracy: 0.5645\n",
            "Epoch 28/100\n",
            "313/313 [==============================] - ETA: 0s - loss: 1.1579 - accuracy: 0.6011INFO:tensorflow:Assets written to: /content/drive/MyDrive/fashion_mnist/model_for_cifar_10_img_classification/assets\n",
            "313/313 [==============================] - 214s 684ms/step - loss: 1.1579 - accuracy: 0.6011 - val_loss: 1.0867 - val_accuracy: 0.6161\n",
            "Epoch 29/100\n",
            "313/313 [==============================] - ETA: 0s - loss: 1.1527 - accuracy: 0.6007INFO:tensorflow:Assets written to: /content/drive/MyDrive/fashion_mnist/model_for_cifar_10_img_classification/assets\n",
            "313/313 [==============================] - 214s 684ms/step - loss: 1.1527 - accuracy: 0.6007 - val_loss: 1.0858 - val_accuracy: 0.6174\n",
            "Epoch 30/100\n",
            "313/313 [==============================] - 189s 603ms/step - loss: 1.1321 - accuracy: 0.6082 - val_loss: 1.2114 - val_accuracy: 0.5934\n",
            "Epoch 31/100\n",
            "313/313 [==============================] - 191s 609ms/step - loss: 1.1286 - accuracy: 0.6120 - val_loss: 1.2441 - val_accuracy: 0.5710\n",
            "Epoch 32/100\n",
            "313/313 [==============================] - 191s 611ms/step - loss: 1.1225 - accuracy: 0.6135 - val_loss: 1.2008 - val_accuracy: 0.5961\n",
            "Epoch 33/100\n",
            "313/313 [==============================] - 196s 627ms/step - loss: 1.1157 - accuracy: 0.6136 - val_loss: 1.4484 - val_accuracy: 0.5454\n",
            "Epoch 34/100\n",
            "313/313 [==============================] - ETA: 0s - loss: 1.0993 - accuracy: 0.6204INFO:tensorflow:Assets written to: /content/drive/MyDrive/fashion_mnist/model_for_cifar_10_img_classification/assets\n",
            "313/313 [==============================] - 220s 702ms/step - loss: 1.0993 - accuracy: 0.6204 - val_loss: 1.0606 - val_accuracy: 0.6307\n",
            "Epoch 35/100\n",
            "313/313 [==============================] - 199s 635ms/step - loss: 1.0925 - accuracy: 0.6237 - val_loss: 1.2124 - val_accuracy: 0.5853\n",
            "Epoch 36/100\n",
            "313/313 [==============================] - 223s 713ms/step - loss: 1.0865 - accuracy: 0.6262 - val_loss: 1.3177 - val_accuracy: 0.5677\n",
            "Epoch 37/100\n",
            "313/313 [==============================] - ETA: 0s - loss: 1.0836 - accuracy: 0.6238INFO:tensorflow:Assets written to: /content/drive/MyDrive/fashion_mnist/model_for_cifar_10_img_classification/assets\n",
            "313/313 [==============================] - 275s 880ms/step - loss: 1.0836 - accuracy: 0.6238 - val_loss: 1.0370 - val_accuracy: 0.6418\n",
            "Epoch 38/100\n",
            "313/313 [==============================] - 198s 633ms/step - loss: 1.0759 - accuracy: 0.6292 - val_loss: 1.2234 - val_accuracy: 0.5881\n",
            "Epoch 39/100\n",
            "313/313 [==============================] - 188s 600ms/step - loss: 1.0700 - accuracy: 0.6323 - val_loss: 1.1296 - val_accuracy: 0.6160\n",
            "Epoch 40/100\n",
            "313/313 [==============================] - 188s 600ms/step - loss: 1.0710 - accuracy: 0.6304 - val_loss: 1.2059 - val_accuracy: 0.5846\n",
            "Epoch 41/100\n",
            "313/313 [==============================] - 186s 595ms/step - loss: 1.0557 - accuracy: 0.6375 - val_loss: 1.1419 - val_accuracy: 0.6147\n",
            "Epoch 42/100\n",
            "313/313 [==============================] - 190s 609ms/step - loss: 1.0542 - accuracy: 0.6370 - val_loss: 1.1842 - val_accuracy: 0.6059\n",
            "Epoch 43/100\n",
            "313/313 [==============================] - 192s 613ms/step - loss: 1.0460 - accuracy: 0.6431 - val_loss: 1.1443 - val_accuracy: 0.6194\n",
            "Epoch 44/100\n",
            "313/313 [==============================] - 194s 620ms/step - loss: 1.0438 - accuracy: 0.6417 - val_loss: 1.1848 - val_accuracy: 0.6060\n",
            "Epoch 45/100\n",
            "313/313 [==============================] - 194s 618ms/step - loss: 1.0267 - accuracy: 0.6470 - val_loss: 1.1083 - val_accuracy: 0.6304\n",
            "Epoch 46/100\n",
            "313/313 [==============================] - 193s 618ms/step - loss: 1.0340 - accuracy: 0.6482 - val_loss: 1.0888 - val_accuracy: 0.6300\n",
            "Epoch 47/100\n",
            "313/313 [==============================] - 194s 618ms/step - loss: 1.0224 - accuracy: 0.6470 - val_loss: 1.1010 - val_accuracy: 0.6210\n"
          ]
        }
      ]
    },
    {
      "cell_type": "markdown",
      "source": [
        "# Plotting the results"
      ],
      "metadata": {
        "id": "s9rrLZpQhqjF"
      }
    },
    {
      "cell_type": "code",
      "source": [
        "history = history_cifar10_model.history\n",
        "\n",
        "train_loss = history[\"loss\"]\n",
        "val_loss = history[\"val_loss\"]\n",
        "\n",
        "train_acc = history[\"accuracy\"]\n",
        "val_acc = history[\"val_accuracy\"]\n",
        "\n",
        "epochs = range(1, len(train_loss) + 1)\n",
        "\n",
        "plt.plot(epochs, train_loss, linestyle=\"solid\", color=\"green\", label=\"Training loss\")\n",
        "plt.plot(epochs, val_loss, linestyle=\"solid\", color=\"red\", label=\"Validation loss\")\n",
        "plt.xlabel(\"Epochs\")\n",
        "plt.ylabel(\"Loss\")\n",
        "plt.title(\"Training and validation loss\")\n",
        "plt.legend()\n",
        "plt.show()"
      ],
      "metadata": {
        "colab": {
          "base_uri": "https://localhost:8080/",
          "height": 295
        },
        "id": "S_OLiNbShZm7",
        "outputId": "c5e770d5-31f4-4309-ee36-cd922024820d"
      },
      "execution_count": 33,
      "outputs": [
        {
          "output_type": "display_data",
          "data": {
            "text/plain": [
              "<Figure size 432x288 with 1 Axes>"
            ],
            "image/png": "[encoded data removed]"
          },
          "metadata": {
            "needs_background": "light"
          }
        }
      ]
    },
    {
      "cell_type": "code",
      "source": [
        "plt.plot(epochs, train_acc, linestyle=\"solid\", color=\"green\", label=\"Training accuracy\")\n",
        "plt.plot(epochs, val_acc, linestyle=\"solid\", color=\"red\", label=\"Validation accuracy\")\n",
        "plt.xlabel(\"Epochs\")\n",
        "plt.ylabel(\"Accuracy\")\n",
        "plt.title(\"Training and validation accuracy\")\n",
        "plt.legend()\n",
        "plt.show()"
      ],
      "metadata": {
        "colab": {
          "base_uri": "https://localhost:8080/",
          "height": 295
        },
        "id": "MrtvVgBmhkEc",
        "outputId": "c3335997-354a-4a87-f43b-1b7deede3127"
      },
      "execution_count": 34,
      "outputs": [
        {
          "output_type": "display_data",
          "data": {
            "text/plain": [
              "<Figure size 432x288 with 1 Axes>"
            ],
            "image/png": "[encoded data removed]"
          },
          "metadata": {
            "needs_background": "light"
          }
        }
      ]
    },
    {
      "cell_type": "markdown",
      "source": [
        "# Load the model"
      ],
      "metadata": {
        "id": "82WO3yUohuLy"
      }
    },
    {
      "cell_type": "code",
      "source": [
        "cifar10_model = keras.models.load_model(\"/content/drive/MyDrive/fashion_mnist/model_for_cifar_10_img_classification\")"
      ],
      "metadata": {
        "id": "tNkpDhpShwTD"
      },
      "execution_count": 35,
      "outputs": []
    },
    {
      "cell_type": "markdown",
      "source": [
        "# Evaluate the model"
      ],
      "metadata": {
        "id": "30WpD76liH3H"
      }
    },
    {
      "cell_type": "code",
      "source": [
        "test_loss, test_accuracy = cifar10_model.evaluate(x=x_test, y=y_test)"
      ],
      "metadata": {
        "colab": {
          "base_uri": "https://localhost:8080/"
        },
        "id": "eWR0I40QiGpk",
        "outputId": "2b199e0b-20df-423a-88c7-014eef2a5e68"
      },
      "execution_count": 36,
      "outputs": [
        {
          "output_type": "stream",
          "name": "stdout",
          "text": [
            "313/313 [==============================] - 13s 37ms/step - loss: 1.0677 - accuracy: 0.6364\n"
          ]
        }
      ]
    },
    {
      "cell_type": "code",
      "source": [
        "print(f\"Test accuracy on new unseen data is {test_accuracy * 100}%\")"
      ],
      "metadata": {
        "colab": {
          "base_uri": "https://localhost:8080/"
        },
        "id": "xk7sYL31ieK9",
        "outputId": "4185c3bf-8612-4ad0-b803-44f811028903"
      },
      "execution_count": 39,
      "outputs": [
        {
          "output_type": "stream",
          "name": "stdout",
          "text": [
            "Test accuracy on new unseen data is 63.63999843597412%\n"
          ]
        }
      ]
    }
  ]
}