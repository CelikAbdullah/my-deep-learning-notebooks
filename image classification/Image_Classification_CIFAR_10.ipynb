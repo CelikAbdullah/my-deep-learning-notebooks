{
  "cells": [
    {
      "cell_type": "markdown",
      "metadata": {
        "id": "view-in-github",
        "colab_type": "text"
      },
      "source": [
        "<a href=\"https://colab.research.google.com/github/CelikAbdullah/my-deep-learning-notebooks/blob/main/image%20classification/Image_Classification_CIFAR_10.ipynb\" target=\"_parent\"><img src=\"https://colab.research.google.com/assets/colab-badge.svg\" alt=\"Open In Colab\"/></a>"
      ]
    },
    {
      "cell_type": "markdown",
      "metadata": {
        "id": "-5fkN6Tnjzxs"
      },
      "source": [
        "# Some imports"
      ]
    },
    {
      "cell_type": "code",
      "execution_count": 98,
      "metadata": {
        "id": "ecrb2sRUKo-v"
      },
      "outputs": [],
      "source": [
        "from tensorflow import keras\n",
        "import matplotlib.pyplot as plt"
      ]
    },
    {
      "cell_type": "markdown",
      "metadata": {
        "id": "6ie8maayj5SP"
      },
      "source": [
        "# Getting the CIFAR10 dataset"
      ]
    },
    {
      "cell_type": "code",
      "execution_count": 99,
      "metadata": {
        "id": "SDPTRfa2LQ3g"
      },
      "outputs": [],
      "source": [
        "(x_train, y_train), (x_test, y_test) = keras.datasets.cifar10.load_data()"
      ]
    },
    {
      "cell_type": "code",
      "execution_count": 100,
      "metadata": {
        "id": "61v0E5cILiMw"
      },
      "outputs": [],
      "source": [
        "assert x_train.shape == (50000, 32, 32, 3)\n",
        "assert x_test.shape == (10000, 32, 32, 3)\n",
        "assert y_train.shape == (50000, 1)\n",
        "assert y_test.shape == (10000, 1)"
      ]
    },
    {
      "cell_type": "code",
      "execution_count": 101,
      "metadata": {
        "colab": {
          "base_uri": "https://localhost:8080/",
          "height": 266
        },
        "id": "z4NPLHxcLlKX",
        "outputId": "b0066e69-2541-487c-89a8-4a9e88077407"
      },
      "outputs": [
        {
          "output_type": "display_data",
          "data": {
            "text/plain": [
              "<Figure size 432x288 with 1 Axes>"
            ],
            "image/png": "[encoded data removed]"
          },
          "metadata": {
            "needs_background": "light"
          }
        }
      ],
      "source": [
        "plt.imshow(x_train[1], cmap=plt.get_cmap('gray'))\n",
        "plt.show()"
      ]
    },
    {
      "cell_type": "markdown",
      "metadata": {
        "id": "glHskr7TMSS8"
      },
      "source": [
        "# Creating the validation dataset"
      ]
    },
    {
      "cell_type": "code",
      "execution_count": 102,
      "metadata": {
        "id": "EIuV6X3dLx1v"
      },
      "outputs": [],
      "source": [
        "x_val = x_train[:10000]\n",
        "x_train = x_train[10000:]\n",
        "\n",
        "y_val = y_train[:10000]\n",
        "y_train = y_train[10000:]"
      ]
    },
    {
      "cell_type": "markdown",
      "metadata": {
        "id": "_RhmIq2vQT2P"
      },
      "source": [
        "# One-hot encoding of the targets"
      ]
    },
    {
      "cell_type": "code",
      "execution_count": 103,
      "metadata": {
        "id": "KIMhcVyjQY18"
      },
      "outputs": [],
      "source": [
        "y_train = keras.utils.to_categorical(y_train)\n",
        "y_val = keras.utils.to_categorical(y_val)\n",
        "y_test = keras.utils.to_categorical(y_test)\n"
      ]
    },
    {
      "cell_type": "markdown",
      "metadata": {
        "id": "6HSmA_GjPCaA"
      },
      "source": [
        "# Data augmentation"
      ]
    },
    {
      "cell_type": "code",
      "execution_count": 104,
      "metadata": {
        "id": "2b33geI9PF0-"
      },
      "outputs": [],
      "source": [
        "data_augmentation = keras.Sequential(\n",
        "    [\n",
        "     keras.layers.RandomFlip(\"horizontal_and_vertical\"),\n",
        "     keras.layers.RandomRotation(0.2),\n",
        "    ]\n",
        ")"
      ]
    },
    {
      "cell_type": "markdown",
      "metadata": {
        "id": "ay4meiXDHXg2"
      },
      "source": [
        "# Building the model"
      ]
    },
    {
      "cell_type": "code",
      "source": [
        "def conv_block(x, filters, d_rate):\n",
        "  x = keras.layers.Conv2D(filters, 3, padding=\"same\", use_bias=False)(x)\n",
        "  x = keras.layers.BatchNormalization()(x)\n",
        "  x = keras.layers.Activation(activation=\"relu\")(x)\n",
        "  x = keras.layers.Conv2D(filters, 3, padding=\"same\", use_bias=False)(x)\n",
        "  x = keras.layers.BatchNormalization()(x)\n",
        "  x = keras.layers.Activation(activation=\"relu\")(x)\n",
        "  x = keras.layers.MaxPooling2D(2)(x)\n",
        "  x = keras.layers.Dropout(d_rate)(x)\n",
        "  return x"
      ],
      "metadata": {
        "id": "j16syWJUnsB-"
      },
      "execution_count": 105,
      "outputs": []
    },
    {
      "cell_type": "code",
      "source": [
        "inputs = keras.Input(shape=(32,32,3))\n",
        "augmented_data = data_augmentation(inputs)\n",
        "rescaled_inputs = keras.layers.Rescaling(1.0/255)(augmented_data)\n",
        "\n",
        "# 1st block\n",
        "x = conv_block(rescaled_inputs, 32, 0.2)\n",
        "# 2nd block\n",
        "x = conv_block(x, 64, 0.3)\n",
        "# 3rd block\n",
        "x = conv_block(x, 384, 0.4)\n",
        "# 4th block\n",
        "x = conv_block(x, 384, 0.4)\n",
        "\n",
        "# 5th block\n",
        "x = conv_block(x, 256, 0.5)\n",
        "\n",
        "x = keras.layers.Flatten()(x)\n",
        "x = keras.layers.Dense(256, activation=\"relu\")(x)\n",
        "x = keras.layers.Dropout(0.5)(x)\n",
        "outputs = keras.layers.Dense(10, activation=\"softmax\")(x)\n",
        "\n",
        "cifar10_model = keras.Model(inputs = inputs, outputs = outputs)\n",
        "cifar10_model.summary()"
      ],
      "metadata": {
        "colab": {
          "base_uri": "https://localhost:8080/"
        },
        "id": "eMzGg2UhZwU7",
        "outputId": "5d43b13a-fae2-42dc-cddc-c823b4f14c75"
      },
      "execution_count": 106,
      "outputs": [
        {
          "output_type": "stream",
          "name": "stdout",
          "text": [
            "Model: \"model_17\"\n",
            "_________________________________________________________________\n",
            " Layer (type)                Output Shape              Param #   \n",
            "=================================================================\n",
            " input_18 (InputLayer)       [(None, 32, 32, 3)]       0         \n",
            "                                                                 \n",
            " sequential_4 (Sequential)   (None, 32, 32, 3)         0         \n",
            "                                                                 \n",
            " rescaling_17 (Rescaling)    (None, 32, 32, 3)         0         \n",
            "                                                                 \n",
            " conv2d_204 (Conv2D)         (None, 32, 32, 32)        864       \n",
            "                                                                 \n",
            " batch_normalization_188 (Ba  (None, 32, 32, 32)       128       \n",
            " tchNormalization)                                               \n",
            "                                                                 \n",
            " activation_188 (Activation)  (None, 32, 32, 32)       0         \n",
            "                                                                 \n",
            " conv2d_205 (Conv2D)         (None, 32, 32, 32)        9216      \n",
            "                                                                 \n",
            " batch_normalization_189 (Ba  (None, 32, 32, 32)       128       \n",
            " tchNormalization)                                               \n",
            "                                                                 \n",
            " activation_189 (Activation)  (None, 32, 32, 32)       0         \n",
            "                                                                 \n",
            " max_pooling2d_78 (MaxPoolin  (None, 16, 16, 32)       0         \n",
            " g2D)                                                            \n",
            "                                                                 \n",
            " dropout_95 (Dropout)        (None, 16, 16, 32)        0         \n",
            "                                                                 \n",
            " conv2d_206 (Conv2D)         (None, 16, 16, 64)        18432     \n",
            "                                                                 \n",
            " batch_normalization_190 (Ba  (None, 16, 16, 64)       256       \n",
            " tchNormalization)                                               \n",
            "                                                                 \n",
            " activation_190 (Activation)  (None, 16, 16, 64)       0         \n",
            "                                                                 \n",
            " conv2d_207 (Conv2D)         (None, 16, 16, 64)        36864     \n",
            "                                                                 \n",
            " batch_normalization_191 (Ba  (None, 16, 16, 64)       256       \n",
            " tchNormalization)                                               \n",
            "                                                                 \n",
            " activation_191 (Activation)  (None, 16, 16, 64)       0         \n",
            "                                                                 \n",
            " max_pooling2d_79 (MaxPoolin  (None, 8, 8, 64)         0         \n",
            " g2D)                                                            \n",
            "                                                                 \n",
            " dropout_96 (Dropout)        (None, 8, 8, 64)          0         \n",
            "                                                                 \n",
            " conv2d_208 (Conv2D)         (None, 8, 8, 384)         221184    \n",
            "                                                                 \n",
            " batch_normalization_192 (Ba  (None, 8, 8, 384)        1536      \n",
            " tchNormalization)                                               \n",
            "                                                                 \n",
            " activation_192 (Activation)  (None, 8, 8, 384)        0         \n",
            "                                                                 \n",
            " conv2d_209 (Conv2D)         (None, 8, 8, 384)         1327104   \n",
            "                                                                 \n",
            " batch_normalization_193 (Ba  (None, 8, 8, 384)        1536      \n",
            " tchNormalization)                                               \n",
            "                                                                 \n",
            " activation_193 (Activation)  (None, 8, 8, 384)        0         \n",
            "                                                                 \n",
            " max_pooling2d_80 (MaxPoolin  (None, 4, 4, 384)        0         \n",
            " g2D)                                                            \n",
            "                                                                 \n",
            " dropout_97 (Dropout)        (None, 4, 4, 384)         0         \n",
            "                                                                 \n",
            " conv2d_210 (Conv2D)         (None, 4, 4, 384)         1327104   \n",
            "                                                                 \n",
            " batch_normalization_194 (Ba  (None, 4, 4, 384)        1536      \n",
            " tchNormalization)                                               \n",
            "                                                                 \n",
            " activation_194 (Activation)  (None, 4, 4, 384)        0         \n",
            "                                                                 \n",
            " conv2d_211 (Conv2D)         (None, 4, 4, 384)         1327104   \n",
            "                                                                 \n",
            " batch_normalization_195 (Ba  (None, 4, 4, 384)        1536      \n",
            " tchNormalization)                                               \n",
            "                                                                 \n",
            " activation_195 (Activation)  (None, 4, 4, 384)        0         \n",
            "                                                                 \n",
            " max_pooling2d_81 (MaxPoolin  (None, 2, 2, 384)        0         \n",
            " g2D)                                                            \n",
            "                                                                 \n",
            " dropout_98 (Dropout)        (None, 2, 2, 384)         0         \n",
            "                                                                 \n",
            " conv2d_212 (Conv2D)         (None, 2, 2, 256)         884736    \n",
            "                                                                 \n",
            " batch_normalization_196 (Ba  (None, 2, 2, 256)        1024      \n",
            " tchNormalization)                                               \n",
            "                                                                 \n",
            " activation_196 (Activation)  (None, 2, 2, 256)        0         \n",
            "                                                                 \n",
            " conv2d_213 (Conv2D)         (None, 2, 2, 256)         589824    \n",
            "                                                                 \n",
            " batch_normalization_197 (Ba  (None, 2, 2, 256)        1024      \n",
            " tchNormalization)                                               \n",
            "                                                                 \n",
            " activation_197 (Activation)  (None, 2, 2, 256)        0         \n",
            "                                                                 \n",
            " max_pooling2d_82 (MaxPoolin  (None, 1, 1, 256)        0         \n",
            " g2D)                                                            \n",
            "                                                                 \n",
            " dropout_99 (Dropout)        (None, 1, 1, 256)         0         \n",
            "                                                                 \n",
            " flatten_17 (Flatten)        (None, 256)               0         \n",
            "                                                                 \n",
            " dense_34 (Dense)            (None, 256)               65792     \n",
            "                                                                 \n",
            " dropout_100 (Dropout)       (None, 256)               0         \n",
            "                                                                 \n",
            " dense_35 (Dense)            (None, 10)                2570      \n",
            "                                                                 \n",
            "=================================================================\n",
            "Total params: 5,819,754\n",
            "Trainable params: 5,815,274\n",
            "Non-trainable params: 4,480\n",
            "_________________________________________________________________\n"
          ]
        }
      ]
    },
    {
      "cell_type": "markdown",
      "metadata": {
        "id": "hxQ69hMTNKIT"
      },
      "source": [
        "# Compiling the model"
      ]
    },
    {
      "cell_type": "code",
      "execution_count": 107,
      "metadata": {
        "id": "uI4-JaY8NJmo"
      },
      "outputs": [],
      "source": [
        "optimizer = \"adam\";\n",
        "loss = \"categorical_crossentropy\"\n",
        "metrics = [\"accuracy\"]\n",
        "\n",
        "cifar10_model.compile(optimizer=optimizer, loss=loss, metrics=metrics)"
      ]
    },
    {
      "cell_type": "markdown",
      "metadata": {
        "id": "U0wYnXNYNTtL"
      },
      "source": [
        "# Setting up some callbacks"
      ]
    },
    {
      "cell_type": "code",
      "execution_count": 108,
      "metadata": {
        "id": "0fSw08IXNY-C"
      },
      "outputs": [],
      "source": [
        "callbacks = [\n",
        "             keras.callbacks.ModelCheckpoint(\"/content/drive/MyDrive/mnist/model_for_cifar_10_img_classification.h5\", \n",
        "                                             save_best_only=True, \n",
        "                                             monitor =\"val_loss\"), \n",
        "             keras.callbacks.EarlyStopping(patience=20)\n",
        "]"
      ]
    },
    {
      "cell_type": "markdown",
      "metadata": {
        "id": "J9vQRy_nNSyJ"
      },
      "source": [
        "# Training the model"
      ]
    },
    {
      "cell_type": "code",
      "execution_count": 109,
      "metadata": {
        "colab": {
          "base_uri": "https://localhost:8080/"
        },
        "id": "iaM7FI46RtMb",
        "outputId": "a333b1e2-f679-49dc-eea2-83ea2535228c"
      },
      "outputs": [
        {
          "output_type": "stream",
          "name": "stdout",
          "text": [
            "Epoch 1/100\n",
            "313/313 [==============================] - 15s 39ms/step - loss: 2.1502 - accuracy: 0.1933 - val_loss: 2.8308 - val_accuracy: 0.1702\n",
            "Epoch 2/100\n",
            "313/313 [==============================] - 11s 34ms/step - loss: 1.8897 - accuracy: 0.2707 - val_loss: 2.9663 - val_accuracy: 0.2050\n",
            "Epoch 3/100\n",
            "313/313 [==============================] - 11s 36ms/step - loss: 1.7843 - accuracy: 0.3127 - val_loss: 1.6595 - val_accuracy: 0.3511\n",
            "Epoch 4/100\n",
            "313/313 [==============================] - 11s 34ms/step - loss: 1.6933 - accuracy: 0.3544 - val_loss: 1.7188 - val_accuracy: 0.3535\n",
            "Epoch 5/100\n",
            "313/313 [==============================] - 11s 34ms/step - loss: 1.6005 - accuracy: 0.3973 - val_loss: 1.7276 - val_accuracy: 0.3796\n",
            "Epoch 6/100\n",
            "313/313 [==============================] - 11s 34ms/step - loss: 1.5241 - accuracy: 0.4286 - val_loss: 2.1605 - val_accuracy: 0.3078\n",
            "Epoch 7/100\n",
            "313/313 [==============================] - 11s 34ms/step - loss: 1.4583 - accuracy: 0.4584 - val_loss: 1.6947 - val_accuracy: 0.3972\n",
            "Epoch 8/100\n",
            "313/313 [==============================] - 12s 37ms/step - loss: 1.4072 - accuracy: 0.4825 - val_loss: 1.5155 - val_accuracy: 0.4387\n",
            "Epoch 9/100\n",
            "313/313 [==============================] - 12s 37ms/step - loss: 1.3694 - accuracy: 0.5016 - val_loss: 1.4734 - val_accuracy: 0.4784\n",
            "Epoch 10/100\n",
            "313/313 [==============================] - 11s 35ms/step - loss: 1.3254 - accuracy: 0.5218 - val_loss: 1.2217 - val_accuracy: 0.5569\n",
            "Epoch 11/100\n",
            "313/313 [==============================] - 11s 35ms/step - loss: 1.2968 - accuracy: 0.5397 - val_loss: 1.4382 - val_accuracy: 0.5014\n",
            "Epoch 12/100\n",
            "313/313 [==============================] - 11s 35ms/step - loss: 1.2595 - accuracy: 0.5562 - val_loss: 1.3290 - val_accuracy: 0.5302\n",
            "Epoch 13/100\n",
            "313/313 [==============================] - 11s 36ms/step - loss: 1.2224 - accuracy: 0.5707 - val_loss: 1.2050 - val_accuracy: 0.5696\n",
            "Epoch 14/100\n",
            "313/313 [==============================] - 12s 38ms/step - loss: 1.1936 - accuracy: 0.5840 - val_loss: 1.1790 - val_accuracy: 0.5852\n",
            "Epoch 15/100\n",
            "313/313 [==============================] - 11s 36ms/step - loss: 1.1612 - accuracy: 0.5965 - val_loss: 1.2755 - val_accuracy: 0.5625\n",
            "Epoch 16/100\n",
            "313/313 [==============================] - 11s 36ms/step - loss: 1.1398 - accuracy: 0.6032 - val_loss: 1.0713 - val_accuracy: 0.6161\n",
            "Epoch 17/100\n",
            "313/313 [==============================] - 12s 37ms/step - loss: 1.1214 - accuracy: 0.6124 - val_loss: 1.1931 - val_accuracy: 0.5917\n",
            "Epoch 18/100\n",
            "313/313 [==============================] - 11s 35ms/step - loss: 1.1040 - accuracy: 0.6165 - val_loss: 1.1294 - val_accuracy: 0.6154\n",
            "Epoch 19/100\n",
            "313/313 [==============================] - 11s 35ms/step - loss: 1.0814 - accuracy: 0.6276 - val_loss: 1.1441 - val_accuracy: 0.5953\n",
            "Epoch 20/100\n",
            "313/313 [==============================] - 11s 35ms/step - loss: 1.0606 - accuracy: 0.6333 - val_loss: 1.0837 - val_accuracy: 0.6252\n",
            "Epoch 21/100\n",
            "313/313 [==============================] - 11s 37ms/step - loss: 1.0415 - accuracy: 0.6420 - val_loss: 1.0951 - val_accuracy: 0.6096\n",
            "Epoch 22/100\n",
            "313/313 [==============================] - 12s 38ms/step - loss: 1.0208 - accuracy: 0.6511 - val_loss: 0.9753 - val_accuracy: 0.6649\n",
            "Epoch 23/100\n",
            "313/313 [==============================] - 11s 35ms/step - loss: 1.0075 - accuracy: 0.6564 - val_loss: 1.1453 - val_accuracy: 0.6096\n",
            "Epoch 24/100\n",
            "313/313 [==============================] - 11s 36ms/step - loss: 0.9919 - accuracy: 0.6629 - val_loss: 0.9680 - val_accuracy: 0.6611\n",
            "Epoch 25/100\n",
            "313/313 [==============================] - 11s 35ms/step - loss: 0.9785 - accuracy: 0.6667 - val_loss: 0.9759 - val_accuracy: 0.6668\n",
            "Epoch 26/100\n",
            "313/313 [==============================] - 11s 36ms/step - loss: 0.9551 - accuracy: 0.6768 - val_loss: 0.9485 - val_accuracy: 0.6744\n",
            "Epoch 27/100\n",
            "313/313 [==============================] - 11s 35ms/step - loss: 0.9429 - accuracy: 0.6795 - val_loss: 1.0526 - val_accuracy: 0.6389\n",
            "Epoch 28/100\n",
            "313/313 [==============================] - 11s 37ms/step - loss: 0.9297 - accuracy: 0.6843 - val_loss: 0.9583 - val_accuracy: 0.6851\n",
            "Epoch 29/100\n",
            "313/313 [==============================] - 11s 36ms/step - loss: 0.9207 - accuracy: 0.6880 - val_loss: 0.7888 - val_accuracy: 0.7241\n",
            "Epoch 30/100\n",
            "313/313 [==============================] - 11s 35ms/step - loss: 0.9057 - accuracy: 0.6958 - val_loss: 0.9354 - val_accuracy: 0.6823\n",
            "Epoch 31/100\n",
            "313/313 [==============================] - 11s 36ms/step - loss: 0.8906 - accuracy: 0.6964 - val_loss: 0.8453 - val_accuracy: 0.7058\n",
            "Epoch 32/100\n",
            "313/313 [==============================] - 11s 35ms/step - loss: 0.8833 - accuracy: 0.7019 - val_loss: 0.8579 - val_accuracy: 0.7068\n",
            "Epoch 33/100\n",
            "313/313 [==============================] - 12s 38ms/step - loss: 0.8710 - accuracy: 0.7047 - val_loss: 0.7586 - val_accuracy: 0.7395\n",
            "Epoch 34/100\n",
            "313/313 [==============================] - 12s 37ms/step - loss: 0.8537 - accuracy: 0.7114 - val_loss: 0.8947 - val_accuracy: 0.6970\n",
            "Epoch 35/100\n",
            "313/313 [==============================] - 11s 36ms/step - loss: 0.8467 - accuracy: 0.7161 - val_loss: 0.7538 - val_accuracy: 0.7452\n",
            "Epoch 36/100\n",
            "313/313 [==============================] - 11s 35ms/step - loss: 0.8431 - accuracy: 0.7182 - val_loss: 0.7737 - val_accuracy: 0.7362\n",
            "Epoch 37/100\n",
            "313/313 [==============================] - 11s 35ms/step - loss: 0.8309 - accuracy: 0.7190 - val_loss: 0.7970 - val_accuracy: 0.7235\n",
            "Epoch 38/100\n",
            "313/313 [==============================] - 11s 35ms/step - loss: 0.8185 - accuracy: 0.7242 - val_loss: 0.7579 - val_accuracy: 0.7408\n",
            "Epoch 39/100\n",
            "313/313 [==============================] - 11s 35ms/step - loss: 0.8139 - accuracy: 0.7231 - val_loss: 0.9368 - val_accuracy: 0.6897\n",
            "Epoch 40/100\n",
            "313/313 [==============================] - 11s 35ms/step - loss: 0.8012 - accuracy: 0.7283 - val_loss: 0.8355 - val_accuracy: 0.7233\n",
            "Epoch 41/100\n",
            "313/313 [==============================] - 11s 35ms/step - loss: 0.7963 - accuracy: 0.7321 - val_loss: 0.8046 - val_accuracy: 0.7269\n",
            "Epoch 42/100\n",
            "313/313 [==============================] - 11s 36ms/step - loss: 0.7872 - accuracy: 0.7372 - val_loss: 0.7359 - val_accuracy: 0.7538\n",
            "Epoch 43/100\n",
            "313/313 [==============================] - 11s 35ms/step - loss: 0.7842 - accuracy: 0.7370 - val_loss: 0.8094 - val_accuracy: 0.7247\n",
            "Epoch 44/100\n",
            "313/313 [==============================] - 11s 35ms/step - loss: 0.7767 - accuracy: 0.7378 - val_loss: 0.7977 - val_accuracy: 0.7316\n",
            "Epoch 45/100\n",
            "313/313 [==============================] - 11s 35ms/step - loss: 0.7660 - accuracy: 0.7410 - val_loss: 0.7808 - val_accuracy: 0.7317\n",
            "Epoch 46/100\n",
            "313/313 [==============================] - 11s 35ms/step - loss: 0.7602 - accuracy: 0.7445 - val_loss: 0.9332 - val_accuracy: 0.6980\n",
            "Epoch 47/100\n",
            "313/313 [==============================] - 11s 35ms/step - loss: 0.7492 - accuracy: 0.7479 - val_loss: 0.7843 - val_accuracy: 0.7378\n",
            "Epoch 48/100\n",
            "313/313 [==============================] - 11s 35ms/step - loss: 0.7435 - accuracy: 0.7482 - val_loss: 0.7779 - val_accuracy: 0.7358\n",
            "Epoch 49/100\n",
            "313/313 [==============================] - 12s 37ms/step - loss: 0.7419 - accuracy: 0.7510 - val_loss: 0.7090 - val_accuracy: 0.7568\n",
            "Epoch 50/100\n",
            "313/313 [==============================] - 11s 36ms/step - loss: 0.7356 - accuracy: 0.7548 - val_loss: 0.6691 - val_accuracy: 0.7708\n",
            "Epoch 51/100\n",
            "313/313 [==============================] - 11s 35ms/step - loss: 0.7326 - accuracy: 0.7541 - val_loss: 0.7366 - val_accuracy: 0.7472\n",
            "Epoch 52/100\n",
            "313/313 [==============================] - 11s 35ms/step - loss: 0.7133 - accuracy: 0.7611 - val_loss: 0.7097 - val_accuracy: 0.7609\n",
            "Epoch 53/100\n",
            "313/313 [==============================] - 11s 36ms/step - loss: 0.7088 - accuracy: 0.7627 - val_loss: 0.7613 - val_accuracy: 0.7458\n",
            "Epoch 54/100\n",
            "313/313 [==============================] - 11s 35ms/step - loss: 0.7128 - accuracy: 0.7610 - val_loss: 0.7362 - val_accuracy: 0.7488\n",
            "Epoch 55/100\n",
            "313/313 [==============================] - 11s 35ms/step - loss: 0.7076 - accuracy: 0.7610 - val_loss: 0.7114 - val_accuracy: 0.7675\n",
            "Epoch 56/100\n",
            "313/313 [==============================] - 11s 35ms/step - loss: 0.7005 - accuracy: 0.7648 - val_loss: 0.7281 - val_accuracy: 0.7524\n",
            "Epoch 57/100\n",
            "313/313 [==============================] - 11s 35ms/step - loss: 0.6998 - accuracy: 0.7650 - val_loss: 0.6822 - val_accuracy: 0.7647\n",
            "Epoch 58/100\n",
            "313/313 [==============================] - 12s 38ms/step - loss: 0.6885 - accuracy: 0.7697 - val_loss: 0.6621 - val_accuracy: 0.7818\n",
            "Epoch 59/100\n",
            "313/313 [==============================] - 12s 37ms/step - loss: 0.6825 - accuracy: 0.7713 - val_loss: 0.7454 - val_accuracy: 0.7534\n",
            "Epoch 60/100\n",
            "313/313 [==============================] - 11s 35ms/step - loss: 0.6791 - accuracy: 0.7712 - val_loss: 0.7017 - val_accuracy: 0.7646\n",
            "Epoch 61/100\n",
            "313/313 [==============================] - 12s 37ms/step - loss: 0.6688 - accuracy: 0.7736 - val_loss: 0.7843 - val_accuracy: 0.7392\n",
            "Epoch 62/100\n",
            "313/313 [==============================] - 11s 35ms/step - loss: 0.6634 - accuracy: 0.7789 - val_loss: 0.6850 - val_accuracy: 0.7708\n",
            "Epoch 63/100\n",
            "313/313 [==============================] - 11s 36ms/step - loss: 0.6665 - accuracy: 0.7755 - val_loss: 0.6116 - val_accuracy: 0.7880\n",
            "Epoch 64/100\n",
            "313/313 [==============================] - 11s 35ms/step - loss: 0.6576 - accuracy: 0.7787 - val_loss: 0.6190 - val_accuracy: 0.7901\n",
            "Epoch 65/100\n",
            "313/313 [==============================] - 12s 37ms/step - loss: 0.6503 - accuracy: 0.7823 - val_loss: 0.7112 - val_accuracy: 0.7642\n",
            "Epoch 66/100\n",
            "313/313 [==============================] - 11s 36ms/step - loss: 0.6478 - accuracy: 0.7832 - val_loss: 0.5964 - val_accuracy: 0.7942\n",
            "Epoch 67/100\n",
            "313/313 [==============================] - 11s 35ms/step - loss: 0.6420 - accuracy: 0.7835 - val_loss: 0.6187 - val_accuracy: 0.7952\n",
            "Epoch 68/100\n",
            "313/313 [==============================] - 11s 35ms/step - loss: 0.6407 - accuracy: 0.7861 - val_loss: 0.6553 - val_accuracy: 0.7779\n",
            "Epoch 69/100\n",
            "313/313 [==============================] - 11s 35ms/step - loss: 0.6405 - accuracy: 0.7855 - val_loss: 0.6354 - val_accuracy: 0.7805\n",
            "Epoch 70/100\n",
            "313/313 [==============================] - 11s 36ms/step - loss: 0.6392 - accuracy: 0.7860 - val_loss: 0.5964 - val_accuracy: 0.7980\n",
            "Epoch 71/100\n",
            "313/313 [==============================] - 12s 37ms/step - loss: 0.6329 - accuracy: 0.7886 - val_loss: 0.6085 - val_accuracy: 0.7897\n",
            "Epoch 72/100\n",
            "313/313 [==============================] - 11s 35ms/step - loss: 0.6212 - accuracy: 0.7909 - val_loss: 0.6927 - val_accuracy: 0.7725\n",
            "Epoch 73/100\n",
            "313/313 [==============================] - 12s 38ms/step - loss: 0.6229 - accuracy: 0.7887 - val_loss: 0.6942 - val_accuracy: 0.7683\n",
            "Epoch 74/100\n",
            "313/313 [==============================] - 12s 37ms/step - loss: 0.6230 - accuracy: 0.7905 - val_loss: 0.7123 - val_accuracy: 0.7686\n",
            "Epoch 75/100\n",
            "313/313 [==============================] - 11s 35ms/step - loss: 0.6132 - accuracy: 0.7945 - val_loss: 0.6083 - val_accuracy: 0.7968\n",
            "Epoch 76/100\n",
            "313/313 [==============================] - 11s 35ms/step - loss: 0.6113 - accuracy: 0.7939 - val_loss: 0.6254 - val_accuracy: 0.7863\n",
            "Epoch 77/100\n",
            "313/313 [==============================] - 11s 35ms/step - loss: 0.6122 - accuracy: 0.7929 - val_loss: 0.5972 - val_accuracy: 0.7988\n",
            "Epoch 78/100\n",
            "313/313 [==============================] - 11s 36ms/step - loss: 0.6009 - accuracy: 0.7977 - val_loss: 0.6074 - val_accuracy: 0.7959\n",
            "Epoch 79/100\n",
            "313/313 [==============================] - 11s 36ms/step - loss: 0.6059 - accuracy: 0.7959 - val_loss: 0.5570 - val_accuracy: 0.8082\n",
            "Epoch 80/100\n",
            "313/313 [==============================] - 11s 36ms/step - loss: 0.5938 - accuracy: 0.7976 - val_loss: 0.5979 - val_accuracy: 0.7999\n",
            "Epoch 81/100\n",
            "313/313 [==============================] - 11s 35ms/step - loss: 0.5996 - accuracy: 0.7977 - val_loss: 0.5972 - val_accuracy: 0.7952\n",
            "Epoch 82/100\n",
            "313/313 [==============================] - 11s 35ms/step - loss: 0.5884 - accuracy: 0.7979 - val_loss: 0.6063 - val_accuracy: 0.7946\n",
            "Epoch 83/100\n",
            "313/313 [==============================] - 11s 35ms/step - loss: 0.5850 - accuracy: 0.8033 - val_loss: 0.6029 - val_accuracy: 0.7967\n",
            "Epoch 84/100\n",
            "313/313 [==============================] - 11s 35ms/step - loss: 0.5848 - accuracy: 0.8013 - val_loss: 0.5587 - val_accuracy: 0.8087\n",
            "Epoch 85/100\n",
            "313/313 [==============================] - 12s 37ms/step - loss: 0.5821 - accuracy: 0.8033 - val_loss: 0.6269 - val_accuracy: 0.7864\n",
            "Epoch 86/100\n",
            "313/313 [==============================] - 11s 35ms/step - loss: 0.5744 - accuracy: 0.8054 - val_loss: 0.6050 - val_accuracy: 0.7953\n",
            "Epoch 87/100\n",
            "313/313 [==============================] - 11s 35ms/step - loss: 0.5696 - accuracy: 0.8052 - val_loss: 0.5836 - val_accuracy: 0.8060\n",
            "Epoch 88/100\n",
            "313/313 [==============================] - 11s 36ms/step - loss: 0.5753 - accuracy: 0.8071 - val_loss: 0.6690 - val_accuracy: 0.7832\n",
            "Epoch 89/100\n",
            "313/313 [==============================] - 11s 35ms/step - loss: 0.5706 - accuracy: 0.8073 - val_loss: 0.6881 - val_accuracy: 0.7752\n",
            "Epoch 90/100\n",
            "313/313 [==============================] - 11s 36ms/step - loss: 0.5652 - accuracy: 0.8089 - val_loss: 0.5518 - val_accuracy: 0.8132\n",
            "Epoch 91/100\n",
            "313/313 [==============================] - 11s 35ms/step - loss: 0.5587 - accuracy: 0.8084 - val_loss: 0.5752 - val_accuracy: 0.8055\n",
            "Epoch 92/100\n",
            "313/313 [==============================] - 11s 35ms/step - loss: 0.5610 - accuracy: 0.8093 - val_loss: 0.6322 - val_accuracy: 0.7916\n",
            "Epoch 93/100\n",
            "313/313 [==============================] - 11s 35ms/step - loss: 0.5647 - accuracy: 0.8073 - val_loss: 0.6421 - val_accuracy: 0.7917\n",
            "Epoch 94/100\n",
            "313/313 [==============================] - 11s 35ms/step - loss: 0.5617 - accuracy: 0.8110 - val_loss: 0.6590 - val_accuracy: 0.7810\n",
            "Epoch 95/100\n",
            "313/313 [==============================] - 11s 35ms/step - loss: 0.5488 - accuracy: 0.8132 - val_loss: 0.5899 - val_accuracy: 0.8013\n",
            "Epoch 96/100\n",
            "313/313 [==============================] - 11s 35ms/step - loss: 0.5512 - accuracy: 0.8131 - val_loss: 0.5762 - val_accuracy: 0.8085\n",
            "Epoch 97/100\n",
            "313/313 [==============================] - 11s 35ms/step - loss: 0.5432 - accuracy: 0.8162 - val_loss: 0.5715 - val_accuracy: 0.8074\n",
            "Epoch 98/100\n",
            "313/313 [==============================] - 11s 35ms/step - loss: 0.5517 - accuracy: 0.8138 - val_loss: 0.5810 - val_accuracy: 0.8057\n",
            "Epoch 99/100\n",
            "313/313 [==============================] - 11s 36ms/step - loss: 0.5439 - accuracy: 0.8161 - val_loss: 0.6536 - val_accuracy: 0.7855\n",
            "Epoch 100/100\n",
            "313/313 [==============================] - 11s 35ms/step - loss: 0.5369 - accuracy: 0.8176 - val_loss: 0.6107 - val_accuracy: 0.8029\n"
          ]
        }
      ],
      "source": [
        "epoch_nr = 100\n",
        "batch_size = 128\n",
        "validation_data = (x_val, y_val)\n",
        "\n",
        "history_cifar10_model = cifar10_model.fit(x=x_train, y=y_train, epochs=epoch_nr, batch_size=batch_size, validation_data=validation_data, callbacks=callbacks)"
      ]
    },
    {
      "cell_type": "markdown",
      "metadata": {
        "id": "s9rrLZpQhqjF"
      },
      "source": [
        "# Plotting the results"
      ]
    },
    {
      "cell_type": "code",
      "execution_count": 110,
      "metadata": {
        "colab": {
          "base_uri": "https://localhost:8080/",
          "height": 295
        },
        "id": "S_OLiNbShZm7",
        "outputId": "1acd5b10-b17f-417c-bef5-6cefdb3131d1"
      },
      "outputs": [
        {
          "output_type": "display_data",
          "data": {
            "text/plain": [
              "<Figure size 432x288 with 1 Axes>"
            ],
            "image/png": "[encoded data removed]"
          },
          "metadata": {
            "needs_background": "light"
          }
        }
      ],
      "source": [
        "history = history_cifar10_model.history\n",
        "\n",
        "train_loss = history[\"loss\"]\n",
        "val_loss = history[\"val_loss\"]\n",
        "\n",
        "train_acc = history[\"accuracy\"]\n",
        "val_acc = history[\"val_accuracy\"]\n",
        "\n",
        "epochs = range(1, len(train_loss) + 1)\n",
        "\n",
        "plt.plot(epochs, train_loss, linestyle=\"solid\", color=\"green\", label=\"Training loss\")\n",
        "plt.plot(epochs, val_loss, linestyle=\"solid\", color=\"red\", label=\"Validation loss\")\n",
        "plt.xlabel(\"Epochs\")\n",
        "plt.ylabel(\"Loss\")\n",
        "plt.title(\"Training and validation loss\")\n",
        "plt.legend()\n",
        "plt.show()"
      ]
    },
    {
      "cell_type": "code",
      "execution_count": 111,
      "metadata": {
        "colab": {
          "base_uri": "https://localhost:8080/",
          "height": 295
        },
        "id": "MrtvVgBmhkEc",
        "outputId": "d3023c10-054c-4e82-db1f-5ba2eff0a717"
      },
      "outputs": [
        {
          "output_type": "display_data",
          "data": {
            "text/plain": [
              "<Figure size 432x288 with 1 Axes>"
            ],
            "image/png": "[encoded data removed]"
          },
          "metadata": {
            "needs_background": "light"
          }
        }
      ],
      "source": [
        "plt.plot(epochs, train_acc, linestyle=\"solid\", color=\"green\", label=\"Training accuracy\")\n",
        "plt.plot(epochs, val_acc, linestyle=\"solid\", color=\"red\", label=\"Validation accuracy\")\n",
        "plt.xlabel(\"Epochs\")\n",
        "plt.ylabel(\"Accuracy\")\n",
        "plt.title(\"Training and validation accuracy\")\n",
        "plt.legend()\n",
        "plt.show()"
      ]
    },
    {
      "cell_type": "markdown",
      "metadata": {
        "id": "82WO3yUohuLy"
      },
      "source": [
        "# Load the model"
      ]
    },
    {
      "cell_type": "code",
      "execution_count": 112,
      "metadata": {
        "id": "tNkpDhpShwTD"
      },
      "outputs": [],
      "source": [
        "cifar10_model = keras.models.load_model(\"/content/drive/MyDrive/mnist/model_for_cifar_10_img_classification.h5\")"
      ]
    },
    {
      "cell_type": "markdown",
      "metadata": {
        "id": "30WpD76liH3H"
      },
      "source": [
        "# Evaluate the model"
      ]
    },
    {
      "cell_type": "code",
      "execution_count": 113,
      "metadata": {
        "colab": {
          "base_uri": "https://localhost:8080/"
        },
        "id": "eWR0I40QiGpk",
        "outputId": "6fb9aa1e-7f96-447e-cffc-09209f9ce48b"
      },
      "outputs": [
        {
          "output_type": "stream",
          "name": "stdout",
          "text": [
            "313/313 [==============================] - 2s 6ms/step - loss: 0.5810 - accuracy: 0.8026\n"
          ]
        }
      ],
      "source": [
        "test_loss, test_accuracy = cifar10_model.evaluate(x=x_test, y=y_test)"
      ]
    },
    {
      "cell_type": "code",
      "execution_count": 114,
      "metadata": {
        "colab": {
          "base_uri": "https://localhost:8080/"
        },
        "id": "xk7sYL31ieK9",
        "outputId": "8746c66c-e811-44d2-ddb8-3ad122cdcede"
      },
      "outputs": [
        {
          "output_type": "stream",
          "name": "stdout",
          "text": [
            "Test accuracy on new unseen data is 80.26000261306763%\n"
          ]
        }
      ],
      "source": [
        "print(f\"Test accuracy on new unseen data is {test_accuracy * 100}%\")"
      ]
    }
  ],
  "metadata": {
    "colab": {
      "collapsed_sections": [],
      "name": "Image Classification - CIFAR-10.ipynb",
      "provenance": [],
      "authorship_tag": "ABX9TyNboPKqzSRMZbbhA75nW7uS",
      "include_colab_link": true
    },
    "kernelspec": {
      "display_name": "Python 3",
      "name": "python3"
    },
    "language_info": {
      "name": "python"
    },
    "gpuClass": "standard"
  },
  "nbformat": 4,
  "nbformat_minor": 0
}