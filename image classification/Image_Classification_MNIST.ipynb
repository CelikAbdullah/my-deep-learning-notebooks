{
  "nbformat": 4,
  "nbformat_minor": 0,
  "metadata": {
    "colab": {
      "name": "Image Classification - MNIST.ipynb",
      "provenance": [],
      "authorship_tag": "ABX9TyNN6UfSZuDHLvrGUsdNirtL",
      "include_colab_link": true
    },
    "kernelspec": {
      "name": "python3",
      "display_name": "Python 3"
    },
    "language_info": {
      "name": "python"
    }
  },
  "cells": [
    {
      "cell_type": "markdown",
      "metadata": {
        "id": "view-in-github",
        "colab_type": "text"
      },
      "source": [
        "<a href=\"https://colab.research.google.com/github/CelikAbdullah/my-deep-learning-notebooks/blob/main/image%20classification/Image_Classification_MNIST.ipynb\" target=\"_parent\"><img src=\"https://colab.research.google.com/assets/colab-badge.svg\" alt=\"Open In Colab\"/></a>"
      ]
    },
    {
      "cell_type": "code",
      "execution_count": 17,
      "metadata": {
        "id": "J9HF6S3X4dSH"
      },
      "outputs": [],
      "source": [
        "import numpy as np\n",
        "from tensorflow import keras\n",
        "import matplotlib.pyplot as plt"
      ]
    },
    {
      "cell_type": "markdown",
      "source": [
        "# Load the MNIST data"
      ],
      "metadata": {
        "id": "rJ72Ow5y4zk4"
      }
    },
    {
      "cell_type": "code",
      "source": [
        "(x_train, y_train), (x_test, y_test) = keras.datasets.mnist.load_data()"
      ],
      "metadata": {
        "colab": {
          "base_uri": "https://localhost:8080/"
        },
        "id": "oI6FM42R44bH",
        "outputId": "47d1af27-c03c-4a9f-a5a6-8581968bcdbc"
      },
      "execution_count": 2,
      "outputs": [
        {
          "output_type": "stream",
          "name": "stdout",
          "text": [
            "Downloading data from https://storage.googleapis.com/tensorflow/tf-keras-datasets/mnist.npz\n",
            "11493376/11490434 [==============================] - 0s 0us/step\n",
            "11501568/11490434 [==============================] - 0s 0us/step\n"
          ]
        }
      ]
    },
    {
      "cell_type": "markdown",
      "source": [
        "# Prepare the data"
      ],
      "metadata": {
        "id": "8y-LEhFl4oN9"
      }
    },
    {
      "cell_type": "code",
      "source": [
        "num_classes = 10\n",
        "input_shape = (28, 28, 1)\n",
        "\n",
        "\n",
        "x_train = x_train.astype(\"float32\") / 255\n",
        "x_test = x_test.astype(\"float32\") / 255\n",
        "\n",
        "x_train = np.expand_dims(x_train, -1)\n",
        "x_test = np.expand_dims(x_test, -1)\n",
        "print(\"x_train shape:\", x_train.shape)\n",
        "print(x_train.shape[0], \"train samples\")\n",
        "print(x_test.shape[0], \"test samples\")\n",
        "\n",
        "\n",
        "# convert class vectors to binary class matrices\n",
        "y_train = keras.utils.to_categorical(y_train, num_classes)\n",
        "y_test = keras.utils.to_categorical(y_test, num_classes)"
      ],
      "metadata": {
        "colab": {
          "base_uri": "https://localhost:8080/"
        },
        "id": "ade3Haz84nXL",
        "outputId": "25aa2f49-bf71-4cf6-9728-45710d2d6b56"
      },
      "execution_count": 3,
      "outputs": [
        {
          "output_type": "stream",
          "name": "stdout",
          "text": [
            "x_train shape: (60000, 28, 28, 1)\n",
            "60000 train samples\n",
            "10000 test samples\n"
          ]
        }
      ]
    },
    {
      "cell_type": "markdown",
      "source": [
        "# Building the model"
      ],
      "metadata": {
        "id": "omw8mcVh5DMj"
      }
    },
    {
      "cell_type": "code",
      "source": [
        "inputs = keras.Input(shape=input_shape)\n",
        "x = keras.layers.Conv2D(32, kernel_size=3, activation=\"relu\")(inputs)\n",
        "x = keras.layers.MaxPooling2D(pool_size=2)(x)\n",
        "x = keras.layers.Conv2D(64, kernel_size=3, activation=\"relu\")(x)\n",
        "x = keras.layers.MaxPooling2D(pool_size=2)(x)\n",
        "x = keras.layers.Flatten()(x)\n",
        "x = keras.layers.Dropout(rate=0.5)(x)\n",
        "outputs = keras.layers.Dense(num_classes, activation=\"softmax\")(x)\n",
        "\n",
        "mnist_model = keras.Model(inputs=inputs, outputs=outputs)\n",
        "mnist_model.summary()"
      ],
      "metadata": {
        "colab": {
          "base_uri": "https://localhost:8080/"
        },
        "id": "79UbQUoe5EyW",
        "outputId": "cefe6354-f0e4-458a-91a2-cd2345f752e7"
      },
      "execution_count": 10,
      "outputs": [
        {
          "output_type": "stream",
          "name": "stdout",
          "text": [
            "Model: \"model_1\"\n",
            "_________________________________________________________________\n",
            " Layer (type)                Output Shape              Param #   \n",
            "=================================================================\n",
            " input_3 (InputLayer)        [(None, 28, 28, 1)]       0         \n",
            "                                                                 \n",
            " conv2d_4 (Conv2D)           (None, 26, 26, 32)        320       \n",
            "                                                                 \n",
            " max_pooling2d_4 (MaxPooling  (None, 13, 13, 32)       0         \n",
            " 2D)                                                             \n",
            "                                                                 \n",
            " conv2d_5 (Conv2D)           (None, 11, 11, 64)        18496     \n",
            "                                                                 \n",
            " max_pooling2d_5 (MaxPooling  (None, 5, 5, 64)         0         \n",
            " 2D)                                                             \n",
            "                                                                 \n",
            " flatten_2 (Flatten)         (None, 1600)              0         \n",
            "                                                                 \n",
            " dropout_1 (Dropout)         (None, 1600)              0         \n",
            "                                                                 \n",
            " dense_1 (Dense)             (None, 10)                16010     \n",
            "                                                                 \n",
            "=================================================================\n",
            "Total params: 34,826\n",
            "Trainable params: 34,826\n",
            "Non-trainable params: 0\n",
            "_________________________________________________________________\n"
          ]
        }
      ]
    },
    {
      "cell_type": "markdown",
      "source": [
        "# Compile the model"
      ],
      "metadata": {
        "id": "C601keYi6StV"
      }
    },
    {
      "cell_type": "code",
      "source": [
        "mnist_model.compile(loss=\"categorical_crossentropy\", optimizer=\"adam\", metrics=[\"accuracy\"])"
      ],
      "metadata": {
        "id": "eXRLoMGn6V5K"
      },
      "execution_count": 11,
      "outputs": []
    },
    {
      "cell_type": "markdown",
      "source": [
        "# Setting some callbacks"
      ],
      "metadata": {
        "id": "5-Rp2hVb6-TZ"
      }
    },
    {
      "cell_type": "code",
      "source": [
        "callbacks = [\n",
        "             keras.callbacks.ModelCheckpoint(\"/content/drive/MyDrive/mnist/model_for_mnist_img_classification.h5\", \n",
        "                                             save_best_only=True, \n",
        "                                             monitor =\"val_loss\"), \n",
        "             keras.callbacks.EarlyStopping(patience=10)\n",
        "]"
      ],
      "metadata": {
        "id": "GkEB1D5J7Bkd"
      },
      "execution_count": 12,
      "outputs": []
    },
    {
      "cell_type": "markdown",
      "source": [
        "# Train the model"
      ],
      "metadata": {
        "id": "SNWfWOTy6O9f"
      }
    },
    {
      "cell_type": "code",
      "source": [
        "batch_size = 128\n",
        "epochs = 100\n",
        "\n",
        "history_mnist_model = mnist_model.fit(x_train, \n",
        "                                      y_train, \n",
        "                                      batch_size=batch_size, \n",
        "                                      epochs=epochs, \n",
        "                                      validation_split=0.1, callbacks=callbacks)"
      ],
      "metadata": {
        "colab": {
          "base_uri": "https://localhost:8080/"
        },
        "id": "iW05k_Hz6QcU",
        "outputId": "caf5d463-058c-495e-c821-c38064a48206"
      },
      "execution_count": 13,
      "outputs": [
        {
          "output_type": "stream",
          "name": "stdout",
          "text": [
            "Epoch 1/100\n",
            "422/422 [==============================] - 39s 92ms/step - loss: 0.3662 - accuracy: 0.8896 - val_loss: 0.0823 - val_accuracy: 0.9788\n",
            "Epoch 2/100\n",
            "422/422 [==============================] - 38s 91ms/step - loss: 0.1136 - accuracy: 0.9649 - val_loss: 0.0575 - val_accuracy: 0.9837\n",
            "Epoch 3/100\n",
            "422/422 [==============================] - 38s 91ms/step - loss: 0.0853 - accuracy: 0.9735 - val_loss: 0.0482 - val_accuracy: 0.9868\n",
            "Epoch 4/100\n",
            "422/422 [==============================] - 39s 91ms/step - loss: 0.0731 - accuracy: 0.9774 - val_loss: 0.0445 - val_accuracy: 0.9880\n",
            "Epoch 5/100\n",
            "422/422 [==============================] - 39s 92ms/step - loss: 0.0644 - accuracy: 0.9805 - val_loss: 0.0386 - val_accuracy: 0.9883\n",
            "Epoch 6/100\n",
            "422/422 [==============================] - 38s 91ms/step - loss: 0.0572 - accuracy: 0.9823 - val_loss: 0.0392 - val_accuracy: 0.9887\n",
            "Epoch 7/100\n",
            "422/422 [==============================] - 39s 93ms/step - loss: 0.0524 - accuracy: 0.9837 - val_loss: 0.0337 - val_accuracy: 0.9907\n",
            "Epoch 8/100\n",
            "422/422 [==============================] - 38s 91ms/step - loss: 0.0469 - accuracy: 0.9854 - val_loss: 0.0392 - val_accuracy: 0.9887\n",
            "Epoch 9/100\n",
            "422/422 [==============================] - 38s 91ms/step - loss: 0.0456 - accuracy: 0.9855 - val_loss: 0.0327 - val_accuracy: 0.9910\n",
            "Epoch 10/100\n",
            "422/422 [==============================] - 38s 91ms/step - loss: 0.0425 - accuracy: 0.9866 - val_loss: 0.0330 - val_accuracy: 0.9897\n",
            "Epoch 11/100\n",
            "422/422 [==============================] - 39s 92ms/step - loss: 0.0401 - accuracy: 0.9869 - val_loss: 0.0314 - val_accuracy: 0.9912\n",
            "Epoch 12/100\n",
            "422/422 [==============================] - 39s 92ms/step - loss: 0.0385 - accuracy: 0.9877 - val_loss: 0.0297 - val_accuracy: 0.9915\n",
            "Epoch 13/100\n",
            "422/422 [==============================] - 39s 92ms/step - loss: 0.0362 - accuracy: 0.9886 - val_loss: 0.0332 - val_accuracy: 0.9907\n",
            "Epoch 14/100\n",
            "422/422 [==============================] - 39s 92ms/step - loss: 0.0340 - accuracy: 0.9889 - val_loss: 0.0317 - val_accuracy: 0.9922\n",
            "Epoch 15/100\n",
            "422/422 [==============================] - 40s 94ms/step - loss: 0.0319 - accuracy: 0.9900 - val_loss: 0.0291 - val_accuracy: 0.9923\n",
            "Epoch 16/100\n",
            "422/422 [==============================] - 39s 92ms/step - loss: 0.0311 - accuracy: 0.9902 - val_loss: 0.0319 - val_accuracy: 0.9913\n",
            "Epoch 17/100\n",
            "422/422 [==============================] - 39s 92ms/step - loss: 0.0313 - accuracy: 0.9897 - val_loss: 0.0321 - val_accuracy: 0.9907\n",
            "Epoch 18/100\n",
            "422/422 [==============================] - 39s 92ms/step - loss: 0.0285 - accuracy: 0.9904 - val_loss: 0.0291 - val_accuracy: 0.9925\n",
            "Epoch 19/100\n",
            "422/422 [==============================] - 39s 92ms/step - loss: 0.0295 - accuracy: 0.9901 - val_loss: 0.0301 - val_accuracy: 0.9905\n",
            "Epoch 20/100\n",
            "422/422 [==============================] - 39s 92ms/step - loss: 0.0284 - accuracy: 0.9911 - val_loss: 0.0292 - val_accuracy: 0.9915\n",
            "Epoch 21/100\n",
            "422/422 [==============================] - 39s 93ms/step - loss: 0.0275 - accuracy: 0.9905 - val_loss: 0.0267 - val_accuracy: 0.9927\n",
            "Epoch 22/100\n",
            "422/422 [==============================] - 40s 94ms/step - loss: 0.0261 - accuracy: 0.9912 - val_loss: 0.0307 - val_accuracy: 0.9917\n",
            "Epoch 23/100\n",
            "422/422 [==============================] - 39s 92ms/step - loss: 0.0264 - accuracy: 0.9908 - val_loss: 0.0297 - val_accuracy: 0.9925\n",
            "Epoch 24/100\n",
            "422/422 [==============================] - 39s 92ms/step - loss: 0.0259 - accuracy: 0.9915 - val_loss: 0.0297 - val_accuracy: 0.9922\n",
            "Epoch 25/100\n",
            "422/422 [==============================] - 39s 92ms/step - loss: 0.0248 - accuracy: 0.9917 - val_loss: 0.0278 - val_accuracy: 0.9930\n",
            "Epoch 26/100\n",
            "422/422 [==============================] - 39s 92ms/step - loss: 0.0217 - accuracy: 0.9927 - val_loss: 0.0297 - val_accuracy: 0.9915\n",
            "Epoch 27/100\n",
            "422/422 [==============================] - 39s 92ms/step - loss: 0.0237 - accuracy: 0.9918 - val_loss: 0.0287 - val_accuracy: 0.9932\n",
            "Epoch 28/100\n",
            "422/422 [==============================] - 39s 92ms/step - loss: 0.0207 - accuracy: 0.9929 - val_loss: 0.0337 - val_accuracy: 0.9922\n",
            "Epoch 29/100\n",
            "422/422 [==============================] - 40s 95ms/step - loss: 0.0222 - accuracy: 0.9926 - val_loss: 0.0304 - val_accuracy: 0.9913\n",
            "Epoch 30/100\n",
            "422/422 [==============================] - 39s 92ms/step - loss: 0.0229 - accuracy: 0.9924 - val_loss: 0.0289 - val_accuracy: 0.9922\n",
            "Epoch 31/100\n",
            "422/422 [==============================] - 39s 92ms/step - loss: 0.0196 - accuracy: 0.9934 - val_loss: 0.0310 - val_accuracy: 0.9930\n"
          ]
        }
      ]
    },
    {
      "cell_type": "markdown",
      "source": [
        "# Plotting the results"
      ],
      "metadata": {
        "id": "MxxmJmtJAdtS"
      }
    },
    {
      "cell_type": "code",
      "source": [
        "history = history_mnist_model.history\n",
        "\n",
        "train_loss = history[\"loss\"]\n",
        "val_loss = history[\"val_loss\"]\n",
        "\n",
        "train_acc = history[\"accuracy\"]\n",
        "val_acc = history[\"val_accuracy\"]\n",
        "\n",
        "epochs = range(1, len(train_loss) + 1)\n",
        "\n",
        "plt.plot(epochs, train_loss, linestyle=\"solid\", color=\"green\", label=\"Training loss\")\n",
        "plt.plot(epochs, val_loss, linestyle=\"solid\", color=\"red\", label=\"Validation loss\")\n",
        "plt.xlabel(\"Epochs\")\n",
        "plt.ylabel(\"Loss\")\n",
        "plt.title(\"Training and validation loss\")\n",
        "plt.legend()\n",
        "plt.show()"
      ],
      "metadata": {
        "colab": {
          "base_uri": "https://localhost:8080/",
          "height": 295
        },
        "id": "FTV-R4QtAfpK",
        "outputId": "b303739a-854b-4cff-c146-bb165831a806"
      },
      "execution_count": 18,
      "outputs": [
        {
          "output_type": "display_data",
          "data": {
            "text/plain": [
              "<Figure size 432x288 with 1 Axes>"
            ],
            "image/png": "[encoded data removed]"
          },
          "metadata": {
            "needs_background": "light"
          }
        }
      ]
    },
    {
      "cell_type": "code",
      "source": [
        "plt.clf()\n",
        "plt.plot(epochs, train_acc, linestyle=\"solid\", color=\"green\", label=\"Training accuracy\")\n",
        "plt.plot(epochs, val_acc, linestyle=\"solid\", color=\"red\", label=\"Validation accuracy\")\n",
        "plt.xlabel(\"Epochs\")\n",
        "plt.ylabel(\"Accuracy\")\n",
        "plt.title(\"Training and validation accuracy\")\n",
        "plt.legend()\n",
        "plt.show()"
      ],
      "metadata": {
        "colab": {
          "base_uri": "https://localhost:8080/",
          "height": 295
        },
        "id": "uu480JYxBDkf",
        "outputId": "6a9c14bf-631d-4a31-d9d8-3e86c78d64de"
      },
      "execution_count": 19,
      "outputs": [
        {
          "output_type": "display_data",
          "data": {
            "text/plain": [
              "<Figure size 432x288 with 1 Axes>"
            ],
            "image/png": "[encoded data removed]"
          },
          "metadata": {
            "needs_background": "light"
          }
        }
      ]
    },
    {
      "cell_type": "markdown",
      "source": [
        "# Load the model"
      ],
      "metadata": {
        "id": "8ZeXWlD7BO68"
      }
    },
    {
      "cell_type": "code",
      "source": [
        "mnist_model = keras.models.load_model(\"/content/drive/MyDrive/mnist/model_for_mnist_img_classification.h5\")"
      ],
      "metadata": {
        "id": "d9amXHvNBQT0"
      },
      "execution_count": 21,
      "outputs": []
    },
    {
      "cell_type": "markdown",
      "source": [
        "# Evaluate the model"
      ],
      "metadata": {
        "id": "2MnSu8g2BeS3"
      }
    },
    {
      "cell_type": "code",
      "source": [
        "test_loss, test_accuracy = mnist_model.evaluate(x=x_test, y=y_test)"
      ],
      "metadata": {
        "colab": {
          "base_uri": "https://localhost:8080/"
        },
        "id": "Mjul-QYZBf5-",
        "outputId": "ee134819-72f1-4297-d93d-4e162733ea25"
      },
      "execution_count": 22,
      "outputs": [
        {
          "output_type": "stream",
          "name": "stdout",
          "text": [
            "313/313 [==============================] - 3s 9ms/step - loss: 0.0237 - accuracy: 0.9920\n"
          ]
        }
      ]
    },
    {
      "cell_type": "code",
      "source": [
        "print(f\"Test accuracy on new unseen data is {test_accuracy * 100}%\")"
      ],
      "metadata": {
        "colab": {
          "base_uri": "https://localhost:8080/"
        },
        "id": "sd-rYuuDBmFf",
        "outputId": "ef8fd1fe-a9f1-4287-b676-66b9c1446f13"
      },
      "execution_count": 23,
      "outputs": [
        {
          "output_type": "stream",
          "name": "stdout",
          "text": [
            "Test accuracy on new unseen data is 99.19999837875366%\n"
          ]
        }
      ]
    },
    {
      "cell_type": "markdown",
      "source": [
        "# Predictions"
      ],
      "metadata": {
        "id": "r5GhWHKKCufq"
      }
    },
    {
      "cell_type": "code",
      "source": [
        "# Creating a list of all the class labels\n",
        "class_names = ['0', '1', '2', '3', '4',\n",
        "               '5', '6', '7', '8', '9']"
      ],
      "metadata": {
        "id": "NjsZcVlmCzK8"
      },
      "execution_count": 48,
      "outputs": []
    },
    {
      "cell_type": "code",
      "source": [
        "# Making the Predictions\n",
        "pred = mnist_model.predict(x_test)\n",
        "print(pred)\n",
        "\n",
        "# Converting the predictions into label index \n",
        "pred_classes = np.argmax(pred, axis=1)\n",
        "print(pred_classes)"
      ],
      "metadata": {
        "colab": {
          "base_uri": "https://localhost:8080/"
        },
        "id": "_NaExQjLJkHX",
        "outputId": "fde63e38-daf5-48c9-c720-c1bb30e15672"
      },
      "execution_count": 51,
      "outputs": [
        {
          "output_type": "stream",
          "name": "stdout",
          "text": [
            "[[1.02838305e-09 4.91193891e-12 2.85021815e-06 ... 9.99996185e-01\n",
            "  6.90126489e-09 4.02234861e-07]\n",
            " [1.46708800e-07 3.35534693e-08 9.99999404e-01 ... 1.37426322e-12\n",
            "  8.36837231e-08 2.06640538e-11]\n",
            " [2.50933823e-07 9.99655485e-01 6.15921181e-06 ... 2.06061686e-05\n",
            "  8.27922213e-06 1.04985055e-07]\n",
            " ...\n",
            " [3.63550742e-14 2.78945356e-12 2.56054271e-12 ... 3.00256986e-10\n",
            "  2.80965821e-07 1.75499668e-08]\n",
            " [5.24939958e-09 3.16990391e-14 6.71272316e-10 ... 1.67739886e-13\n",
            "  3.41662853e-05 2.30311716e-08]\n",
            " [9.73069945e-08 2.65267561e-12 2.96333496e-06 ... 1.11697889e-13\n",
            "  3.17803665e-06 5.56724833e-10]]\n",
            "[7 2 1 ... 4 5 6]\n"
          ]
        }
      ]
    },
    {
      "cell_type": "code",
      "source": [
        "# Plotting the Actual vs. Predicted results\n",
        "\n",
        "fig, axes = plt.subplots(5, 5, figsize=(28,28))\n",
        "axes = axes.ravel()\n",
        "\n",
        "for i in np.arange(0, 25):\n",
        "  image = x_test[i] \n",
        "  image = image[:, :, 0]\n",
        "\n",
        "  axes[i].imshow(image, cmap='gray')\n",
        "  axes[i].set_title(\"True: %s \\nPredict: %s\" % (class_names[np.argmax(y_test[i])], class_names[pred_classes[i]]))\n",
        "  axes[i].axis('off')\n",
        "  plt.subplots_adjust(wspace=1)"
      ],
      "metadata": {
        "colab": {
          "base_uri": "https://localhost:8080/",
          "height": 1000
        },
        "id": "S-YgU2TVC9DX",
        "outputId": "f5bb33ff-ac11-4b29-f351-bb65256816de"
      },
      "execution_count": 54,
      "outputs": [
        {
          "output_type": "display_data",
          "data": {
            "text/plain": [
              "<Figure size 2016x2016 with 25 Axes>"
            ],
            "image/png": "[encoded data removed]"
          },
          "metadata": {
            "needs_background": "light"
          }
        }
      ]
    }
  ]
}