{
  "nbformat": 4,
  "nbformat_minor": 0,
  "metadata": {
    "colab": {
      "name": "Image Classification with the Fashion MNIST dataset using a VGGNet like model.ipynb",
      "provenance": [],
      "collapsed_sections": [],
      "mount_file_id": "1JzPhUWSWhj63NiV7OOxSTcCcwpkWDy8b",
      "authorship_tag": "ABX9TyPQC5WQRI+wA76tq0do7I9Z",
      "include_colab_link": true
    },
    "kernelspec": {
      "name": "python3",
      "display_name": "Python 3"
    },
    "language_info": {
      "name": "python"
    }
  },
  "cells": [
    {
      "cell_type": "markdown",
      "metadata": {
        "id": "view-in-github",
        "colab_type": "text"
      },
      "source": [
        "<a href=\"https://colab.research.google.com/github/CelikAbdullah/my-deep-learning-notebooks/blob/main/image%20classification/Image_Classification_with_the_Fashion_MNIST_dataset_using_a_VGGNet_like_model.ipynb\" target=\"_parent\"><img src=\"https://colab.research.google.com/assets/colab-badge.svg\" alt=\"Open In Colab\"/></a>"
      ]
    },
    {
      "cell_type": "markdown",
      "source": [
        "# Imports"
      ],
      "metadata": {
        "id": "f7sKHtZaxBmA"
      }
    },
    {
      "cell_type": "code",
      "source": [
        "from tensorflow import keras\n",
        "import matplotlib.pyplot as plt"
      ],
      "metadata": {
        "id": "zmhg9utgxD5R"
      },
      "execution_count": null,
      "outputs": []
    },
    {
      "cell_type": "markdown",
      "source": [
        "# Getting the Fashion MNIST dataset\n",
        "\n",
        "\n"
      ],
      "metadata": {
        "id": "v_TyYJx_xOD5"
      }
    },
    {
      "cell_type": "code",
      "source": [
        "(x_train, y_train), (x_test, y_test) = keras.datasets.fashion_mnist.load_data()"
      ],
      "metadata": {
        "id": "7GBbxDhJxRTj",
        "colab": {
          "base_uri": "https://localhost:8080/"
        },
        "outputId": "1a4bd52a-9286-4cc1-f68b-5110db45e959"
      },
      "execution_count": null,
      "outputs": [
        {
          "output_type": "stream",
          "name": "stdout",
          "text": [
            "Downloading data from https://storage.googleapis.com/tensorflow/tf-keras-datasets/train-labels-idx1-ubyte.gz\n",
            "32768/29515 [=================================] - 0s 0us/step\n",
            "40960/29515 [=========================================] - 0s 0us/step\n",
            "Downloading data from https://storage.googleapis.com/tensorflow/tf-keras-datasets/train-images-idx3-ubyte.gz\n",
            "26427392/26421880 [==============================] - 1s 0us/step\n",
            "26435584/26421880 [==============================] - 1s 0us/step\n",
            "Downloading data from https://storage.googleapis.com/tensorflow/tf-keras-datasets/t10k-labels-idx1-ubyte.gz\n",
            "16384/5148 [===============================================================================================] - 0s 0us/step\n",
            "Downloading data from https://storage.googleapis.com/tensorflow/tf-keras-datasets/t10k-images-idx3-ubyte.gz\n",
            "4423680/4422102 [==============================] - 0s 0us/step\n",
            "4431872/4422102 [==============================] - 0s 0us/step\n"
          ]
        }
      ]
    },
    {
      "cell_type": "code",
      "source": [
        "assert x_train.shape == (60000, 28, 28)\n",
        "assert x_test.shape == (10000, 28, 28)\n",
        "assert y_train.shape == (60000,)\n",
        "assert y_test.shape == (10000,)"
      ],
      "metadata": {
        "id": "UlqOt02hYqZc"
      },
      "execution_count": null,
      "outputs": []
    },
    {
      "cell_type": "code",
      "source": [
        "plt.imshow(x_train[0], cmap=plt.get_cmap('gray'))\n",
        "plt.show()\n",
        "  "
      ],
      "metadata": {
        "colab": {
          "base_uri": "https://localhost:8080/",
          "height": 265
        },
        "id": "_mR-h3sovo35",
        "outputId": "1c996f69-0570-4d6c-9491-75ad2415cc39"
      },
      "execution_count": null,
      "outputs": [
        {
          "output_type": "display_data",
          "data": {
            "text/plain": [
              "<Figure size 432x288 with 1 Axes>"
            ],
            "image/png": "[encoded data removed]"
          },
          "metadata": {
            "needs_background": "light"
          }
        }
      ]
    },
    {
      "cell_type": "markdown",
      "source": [
        "# Creating a validation dataset"
      ],
      "metadata": {
        "id": "1JhnmbKrxrKR"
      }
    },
    {
      "cell_type": "code",
      "source": [
        "x_val = x_train[:10000]\n",
        "x_train = x_train[10000:]\n",
        "\n",
        "y_val = y_train[:10000]\n",
        "y_train = y_train[10000:]"
      ],
      "metadata": {
        "id": "uKcUHHWwxu77"
      },
      "execution_count": null,
      "outputs": []
    },
    {
      "cell_type": "code",
      "source": [
        "x_train.shape, x_val.shape, x_test.shape"
      ],
      "metadata": {
        "colab": {
          "base_uri": "https://localhost:8080/"
        },
        "id": "AbIJklbSY5xS",
        "outputId": "2635e9ce-e314-431a-8e6c-a540b6d3997a"
      },
      "execution_count": null,
      "outputs": [
        {
          "output_type": "execute_result",
          "data": {
            "text/plain": [
              "((50000, 28, 28), (10000, 28, 28), (10000, 28, 28))"
            ]
          },
          "metadata": {},
          "execution_count": 6
        }
      ]
    },
    {
      "cell_type": "code",
      "source": [
        "y_train.shape, y_val.shape, y_test.shape"
      ],
      "metadata": {
        "colab": {
          "base_uri": "https://localhost:8080/"
        },
        "id": "rsaxJBX9ZP4s",
        "outputId": "abc4c263-4f76-43c7-f970-738694fe9119"
      },
      "execution_count": null,
      "outputs": [
        {
          "output_type": "execute_result",
          "data": {
            "text/plain": [
              "((50000,), (10000,), (10000,))"
            ]
          },
          "metadata": {},
          "execution_count": 7
        }
      ]
    },
    {
      "cell_type": "markdown",
      "source": [
        "# Preparing the data"
      ],
      "metadata": {
        "id": "Sb5HwyuGxnX8"
      }
    },
    {
      "cell_type": "code",
      "source": [
        "x_train = x_train.reshape((50000, 28, 28, 1))\n",
        "x_train = x_train.astype(\"float32\") / 255\n",
        "\n",
        "x_val = x_val.reshape((10000, 28, 28, 1))\n",
        "x_val = x_val.astype(\"float32\") / 255\n",
        "\n",
        "x_test = x_test.reshape((10000, 28, 28, 1))\n",
        "x_test = x_test.astype(\"float32\") / 255"
      ],
      "metadata": {
        "id": "GpR3IVhgyUCW"
      },
      "execution_count": null,
      "outputs": []
    },
    {
      "cell_type": "markdown",
      "source": [
        "# Building a VGGNet-like model "
      ],
      "metadata": {
        "id": "LSum9UierxuO"
      }
    },
    {
      "cell_type": "code",
      "source": [
        "inputs = keras.Input(shape=(28,28,1), name=\"input_layer\")\n",
        "\n",
        "# Conv block 1: Conv layer + Conv layer + Max Pooling\n",
        "x = keras.layers.Conv2D(filters=16, kernel_size=3, padding=\"same\", use_bias=False, kernel_regularizer=keras.regularizers.l2(0.0005),  name=\"Conv-1\")(inputs)\n",
        "x = keras.layers.BatchNormalization(name=\"BatchNorm-1\")(x)\n",
        "x = keras.layers.Activation(activation=\"relu\", name=\"Activation-1\")(x)\n",
        "x = keras.layers.Conv2D(filters=16, kernel_size=3, padding=\"same\", use_bias=False, kernel_regularizer=keras.regularizers.l2(0.0005),  name=\"Conv-2\")(x)\n",
        "x = keras.layers.BatchNormalization(name=\"BatchNorm-2\")(x)\n",
        "x = keras.layers.Activation(activation=\"relu\", name=\"Activation-2\")(x)\n",
        "x = keras.layers.MaxPool2D(pool_size=2, name=\"MaxPool-1\")(x)\n",
        "\n",
        "# Conv block 2: Conv layer + Conv layer + Max Pooling\n",
        "x = keras.layers.Conv2D(filters=32, kernel_size=3, padding=\"same\", use_bias=False, kernel_regularizer=keras.regularizers.l2(0.0005), name=\"Conv-3\")(x)\n",
        "x = keras.layers.BatchNormalization(name=\"BatchNorm-3\")(x)\n",
        "x = keras.layers.Activation(activation=\"relu\", name=\"Activation-3\")(x)\n",
        "x = keras.layers.Conv2D(filters=32, kernel_size=3, padding=\"same\", use_bias=False,kernel_regularizer=keras.regularizers.l2(0.0005), name=\"Conv-4\")(x)\n",
        "x = keras.layers.BatchNormalization(name=\"BatchNorm-4\")(x)\n",
        "x = keras.layers.Activation(activation=\"relu\", name=\"Activation-4\")(x)\n",
        "x = keras.layers.MaxPool2D(pool_size=2, name=\"MaxPool-2\")(x)\n",
        "\n",
        "# Conv block 3: Conv layer + Conv layer + Conv layer + Max Pooling\n",
        "x = keras.layers.Conv2D(filters=64, kernel_size=3, padding=\"same\", use_bias=False,kernel_regularizer=keras.regularizers.l2(0.0005), name=\"Conv-5\")(x)\n",
        "x = keras.layers.BatchNormalization(name=\"BatchNorm-5\")(x)\n",
        "x = keras.layers.Activation(activation=\"relu\", name=\"Activation-5\")(x)\n",
        "x = keras.layers.Conv2D(filters=64, kernel_size=3, padding=\"same\", use_bias=False,kernel_regularizer=keras.regularizers.l2(0.0005), name=\"Conv-6\")(x)\n",
        "x = keras.layers.BatchNormalization(name=\"BatchNorm-6\")(x)\n",
        "x = keras.layers.Activation(activation=\"relu\", name=\"Activation-6\")(x)\n",
        "x = keras.layers.Conv2D(filters=64, kernel_size=3, padding=\"same\", use_bias=False,kernel_regularizer=keras.regularizers.l2(0.0005), name=\"Conv-7\")(x)\n",
        "x = keras.layers.BatchNormalization(name=\"BatchNorm-7\")(x)\n",
        "x = keras.layers.Activation(activation=\"relu\", name=\"Activation-7\")(x)\n",
        "x = keras.layers.MaxPool2D(pool_size=2, name=\"MaxPool-3\")(x)\n",
        "\n",
        "# Conv block 4: Conv layer + Conv layer + Conv layer + Max Pooling\n",
        "x = keras.layers.Conv2D(filters=128, kernel_size=3, padding=\"same\", use_bias=False,kernel_regularizer=keras.regularizers.l2(0.0005), name=\"Conv-8\")(x)\n",
        "x = keras.layers.BatchNormalization(name=\"BatchNorm-8\")(x)\n",
        "x = keras.layers.Activation(activation=\"relu\", name=\"Activation-8\")(x)\n",
        "x = keras.layers.Conv2D(filters=128, kernel_size=3, padding=\"same\", use_bias=False,kernel_regularizer=keras.regularizers.l2(0.0005), name=\"Conv-9\")(x)\n",
        "x = keras.layers.BatchNormalization(name=\"BatchNorm-9\")(x)\n",
        "x = keras.layers.Activation(activation=\"relu\", name=\"Activation-9\")(x)\n",
        "x = keras.layers.Conv2D(filters=128, kernel_size=3, padding=\"same\", use_bias=False,kernel_regularizer=keras.regularizers.l2(0.0005), name=\"Conv-10\")(x)\n",
        "x = keras.layers.BatchNormalization(name=\"BatchNorm-10\")(x)\n",
        "x = keras.layers.Activation(activation=\"relu\", name=\"Activation-10\")(x)\n",
        "x = keras.layers.MaxPool2D(pool_size=2, name=\"MaxPool-4\")(x)\n",
        "\n",
        "x = keras.layers.Flatten(name=\"Flatten-1\")(x)\n",
        "x = keras.layers.Dense(256, activation=\"relu\", name=\"Dense-1\")(x)\n",
        "x = keras.layers.Dropout(rate=0.5, name=\"Dropout-1\")(x)\n",
        "outputs = keras.layers.Dense(10, activation=\"softmax\", name=\"output_layer\")(x)\n",
        "\n",
        "my_vggnet_model = keras.Model(inputs=inputs, outputs=outputs, name=\"vggnet-like-img-classification-model\")\n",
        "my_vggnet_model.summary()"
      ],
      "metadata": {
        "colab": {
          "base_uri": "https://localhost:8080/"
        },
        "id": "VHq5Njg8r8Gt",
        "outputId": "f3aaeffc-5458-47fc-a6f9-a241d111430a"
      },
      "execution_count": null,
      "outputs": [
        {
          "output_type": "stream",
          "name": "stdout",
          "text": [
            "Model: \"vggnet-like-img-classification-model\"\n",
            "_________________________________________________________________\n",
            " Layer (type)                Output Shape              Param #   \n",
            "=================================================================\n",
            " input_layer (InputLayer)    [(None, 28, 28, 1)]       0         \n",
            "                                                                 \n",
            " Conv-1 (Conv2D)             (None, 28, 28, 16)        144       \n",
            "                                                                 \n",
            " BatchNorm-1 (BatchNormaliza  (None, 28, 28, 16)       64        \n",
            " tion)                                                           \n",
            "                                                                 \n",
            " Activation-1 (Activation)   (None, 28, 28, 16)        0         \n",
            "                                                                 \n",
            " Conv-2 (Conv2D)             (None, 28, 28, 16)        2304      \n",
            "                                                                 \n",
            " BatchNorm-2 (BatchNormaliza  (None, 28, 28, 16)       64        \n",
            " tion)                                                           \n",
            "                                                                 \n",
            " Activation-2 (Activation)   (None, 28, 28, 16)        0         \n",
            "                                                                 \n",
            " MaxPool-1 (MaxPooling2D)    (None, 14, 14, 16)        0         \n",
            "                                                                 \n",
            " Conv-3 (Conv2D)             (None, 14, 14, 32)        4608      \n",
            "                                                                 \n",
            " BatchNorm-3 (BatchNormaliza  (None, 14, 14, 32)       128       \n",
            " tion)                                                           \n",
            "                                                                 \n",
            " Activation-3 (Activation)   (None, 14, 14, 32)        0         \n",
            "                                                                 \n",
            " Conv-4 (Conv2D)             (None, 14, 14, 32)        9216      \n",
            "                                                                 \n",
            " BatchNorm-4 (BatchNormaliza  (None, 14, 14, 32)       128       \n",
            " tion)                                                           \n",
            "                                                                 \n",
            " Activation-4 (Activation)   (None, 14, 14, 32)        0         \n",
            "                                                                 \n",
            " MaxPool-2 (MaxPooling2D)    (None, 7, 7, 32)          0         \n",
            "                                                                 \n",
            " Conv-5 (Conv2D)             (None, 7, 7, 64)          18432     \n",
            "                                                                 \n",
            " BatchNorm-5 (BatchNormaliza  (None, 7, 7, 64)         256       \n",
            " tion)                                                           \n",
            "                                                                 \n",
            " Activation-5 (Activation)   (None, 7, 7, 64)          0         \n",
            "                                                                 \n",
            " Conv-6 (Conv2D)             (None, 7, 7, 64)          36864     \n",
            "                                                                 \n",
            " BatchNorm-6 (BatchNormaliza  (None, 7, 7, 64)         256       \n",
            " tion)                                                           \n",
            "                                                                 \n",
            " Activation-6 (Activation)   (None, 7, 7, 64)          0         \n",
            "                                                                 \n",
            " Conv-7 (Conv2D)             (None, 7, 7, 64)          36864     \n",
            "                                                                 \n",
            " BatchNorm-7 (BatchNormaliza  (None, 7, 7, 64)         256       \n",
            " tion)                                                           \n",
            "                                                                 \n",
            " Activation-7 (Activation)   (None, 7, 7, 64)          0         \n",
            "                                                                 \n",
            " MaxPool-3 (MaxPooling2D)    (None, 3, 3, 64)          0         \n",
            "                                                                 \n",
            " Conv-8 (Conv2D)             (None, 3, 3, 128)         73728     \n",
            "                                                                 \n",
            " BatchNorm-8 (BatchNormaliza  (None, 3, 3, 128)        512       \n",
            " tion)                                                           \n",
            "                                                                 \n",
            " Activation-8 (Activation)   (None, 3, 3, 128)         0         \n",
            "                                                                 \n",
            " Conv-9 (Conv2D)             (None, 3, 3, 128)         147456    \n",
            "                                                                 \n",
            " BatchNorm-9 (BatchNormaliza  (None, 3, 3, 128)        512       \n",
            " tion)                                                           \n",
            "                                                                 \n",
            " Activation-9 (Activation)   (None, 3, 3, 128)         0         \n",
            "                                                                 \n",
            " Conv-10 (Conv2D)            (None, 3, 3, 128)         147456    \n",
            "                                                                 \n",
            " BatchNorm-10 (BatchNormaliz  (None, 3, 3, 128)        512       \n",
            " ation)                                                          \n",
            "                                                                 \n",
            " Activation-10 (Activation)  (None, 3, 3, 128)         0         \n",
            "                                                                 \n",
            " MaxPool-4 (MaxPooling2D)    (None, 1, 1, 128)         0         \n",
            "                                                                 \n",
            " Flatten-1 (Flatten)         (None, 128)               0         \n",
            "                                                                 \n",
            " Dense-1 (Dense)             (None, 256)               33024     \n",
            "                                                                 \n",
            " Dropout-1 (Dropout)         (None, 256)               0         \n",
            "                                                                 \n",
            " output_layer (Dense)        (None, 10)                2570      \n",
            "                                                                 \n",
            "=================================================================\n",
            "Total params: 515,354\n",
            "Trainable params: 514,010\n",
            "Non-trainable params: 1,344\n",
            "_________________________________________________________________\n"
          ]
        }
      ]
    },
    {
      "cell_type": "markdown",
      "source": [
        "# Compiling the model"
      ],
      "metadata": {
        "id": "oUdVHfZ0XEyK"
      }
    },
    {
      "cell_type": "code",
      "source": [
        "optimizer = keras.optimizers.SGD(learning_rate=0.0001, momentum = 0.9)\n",
        "loss =\"sparse_categorical_crossentropy\"\n",
        "metrics=[\"accuracy\"]\n",
        "\n",
        "my_vggnet_model.compile(optimizer=optimizer, loss=loss, metrics=metrics)"
      ],
      "metadata": {
        "id": "xzuoSsIAvgKH"
      },
      "execution_count": null,
      "outputs": []
    },
    {
      "cell_type": "markdown",
      "source": [
        "# Setting up some callbacks"
      ],
      "metadata": {
        "id": "nPdqyULBXN0M"
      }
    },
    {
      "cell_type": "code",
      "source": [
        "callbacks = [\n",
        "             keras.callbacks.ModelCheckpoint(\"/content/drive/MyDrive/fashion_mnist/fashion_mnist_my_vggnet_model\", \n",
        "                                             save_best_only=True, \n",
        "                                             monitor =\"val_loss\"), \n",
        "             keras.callbacks.EarlyStopping(patience=10), \n",
        "             keras.callbacks.ReduceLROnPlateau(monitor='val_loss', factor=0.1, patience=5)\n",
        "]"
      ],
      "metadata": {
        "id": "uJT-BnTAvn2w"
      },
      "execution_count": null,
      "outputs": []
    },
    {
      "cell_type": "markdown",
      "source": [
        "# Training the model"
      ],
      "metadata": {
        "id": "ihBORqBjXTpE"
      }
    },
    {
      "cell_type": "code",
      "source": [
        "history_my_vggnet_model = my_vggnet_model.fit(x=x_train, \n",
        "                        y=y_train, \n",
        "                        batch_size=128, \n",
        "                        epochs=100, \n",
        "                        callbacks=callbacks, \n",
        "                        validation_data=(x_val, y_val)\n",
        "                        )"
      ],
      "metadata": {
        "id": "tQBsPUz9vvcU",
        "colab": {
          "base_uri": "https://localhost:8080/"
        },
        "outputId": "ff1a82d4-1889-47cc-eb8a-2f6cd64b521d"
      },
      "execution_count": null,
      "outputs": [
        {
          "output_type": "stream",
          "name": "stdout",
          "text": [
            "Epoch 1/100\n",
            "391/391 [==============================] - ETA: 0s - loss: 1.9001 - accuracy: 0.4546INFO:tensorflow:Assets written to: /content/drive/MyDrive/fashion_mnist/fashion_mnist_my_vggnet_model/assets\n",
            "391/391 [==============================] - 12s 28ms/step - loss: 1.9001 - accuracy: 0.4546 - val_loss: 2.1317 - val_accuracy: 0.3623 - lr: 1.0000e-04\n",
            "Epoch 2/100\n",
            "388/391 [============================>.] - ETA: 0s - loss: 1.1512 - accuracy: 0.7056INFO:tensorflow:Assets written to: /content/drive/MyDrive/fashion_mnist/fashion_mnist_my_vggnet_model/assets\n",
            "391/391 [==============================] - 9s 22ms/step - loss: 1.1504 - accuracy: 0.7058 - val_loss: 0.9108 - val_accuracy: 0.7848 - lr: 1.0000e-04\n",
            "Epoch 3/100\n",
            "391/391 [==============================] - ETA: 0s - loss: 0.9726 - accuracy: 0.7626INFO:tensorflow:Assets written to: /content/drive/MyDrive/fashion_mnist/fashion_mnist_my_vggnet_model/assets\n",
            "391/391 [==============================] - 8s 21ms/step - loss: 0.9726 - accuracy: 0.7626 - val_loss: 0.8157 - val_accuracy: 0.8127 - lr: 1.0000e-04\n",
            "Epoch 4/100\n",
            "386/391 [============================>.] - ETA: 0s - loss: 0.8805 - accuracy: 0.7934INFO:tensorflow:Assets written to: /content/drive/MyDrive/fashion_mnist/fashion_mnist_my_vggnet_model/assets\n",
            "391/391 [==============================] - 8s 20ms/step - loss: 0.8802 - accuracy: 0.7935 - val_loss: 0.7619 - val_accuracy: 0.8279 - lr: 1.0000e-04\n",
            "Epoch 5/100\n",
            "390/391 [============================>.] - ETA: 0s - loss: 0.8201 - accuracy: 0.8173INFO:tensorflow:Assets written to: /content/drive/MyDrive/fashion_mnist/fashion_mnist_my_vggnet_model/assets\n",
            "391/391 [==============================] - 8s 21ms/step - loss: 0.8199 - accuracy: 0.8174 - val_loss: 0.7253 - val_accuracy: 0.8411 - lr: 1.0000e-04\n",
            "Epoch 6/100\n",
            "391/391 [==============================] - ETA: 0s - loss: 0.7794 - accuracy: 0.8303INFO:tensorflow:Assets written to: /content/drive/MyDrive/fashion_mnist/fashion_mnist_my_vggnet_model/assets\n",
            "391/391 [==============================] - 8s 21ms/step - loss: 0.7794 - accuracy: 0.8303 - val_loss: 0.7019 - val_accuracy: 0.8499 - lr: 1.0000e-04\n",
            "Epoch 7/100\n",
            "386/391 [============================>.] - ETA: 0s - loss: 0.7460 - accuracy: 0.8429INFO:tensorflow:Assets written to: /content/drive/MyDrive/fashion_mnist/fashion_mnist_my_vggnet_model/assets\n",
            "391/391 [==============================] - 8s 21ms/step - loss: 0.7464 - accuracy: 0.8427 - val_loss: 0.6811 - val_accuracy: 0.8556 - lr: 1.0000e-04\n",
            "Epoch 8/100\n",
            "386/391 [============================>.] - ETA: 0s - loss: 0.7193 - accuracy: 0.8514INFO:tensorflow:Assets written to: /content/drive/MyDrive/fashion_mnist/fashion_mnist_my_vggnet_model/assets\n",
            "391/391 [==============================] - 8s 21ms/step - loss: 0.7182 - accuracy: 0.8519 - val_loss: 0.6638 - val_accuracy: 0.8634 - lr: 1.0000e-04\n",
            "Epoch 9/100\n",
            "387/391 [============================>.] - ETA: 0s - loss: 0.6959 - accuracy: 0.8589INFO:tensorflow:Assets written to: /content/drive/MyDrive/fashion_mnist/fashion_mnist_my_vggnet_model/assets\n",
            "391/391 [==============================] - 8s 20ms/step - loss: 0.6953 - accuracy: 0.8592 - val_loss: 0.6513 - val_accuracy: 0.8691 - lr: 1.0000e-04\n",
            "Epoch 10/100\n",
            "391/391 [==============================] - ETA: 0s - loss: 0.6799 - accuracy: 0.8661INFO:tensorflow:Assets written to: /content/drive/MyDrive/fashion_mnist/fashion_mnist_my_vggnet_model/assets\n",
            "391/391 [==============================] - 17s 43ms/step - loss: 0.6799 - accuracy: 0.8661 - val_loss: 0.6419 - val_accuracy: 0.8726 - lr: 1.0000e-04\n",
            "Epoch 11/100\n",
            "388/391 [============================>.] - ETA: 0s - loss: 0.6627 - accuracy: 0.8714INFO:tensorflow:Assets written to: /content/drive/MyDrive/fashion_mnist/fashion_mnist_my_vggnet_model/assets\n",
            "391/391 [==============================] - 14s 36ms/step - loss: 0.6631 - accuracy: 0.8714 - val_loss: 0.6312 - val_accuracy: 0.8774 - lr: 1.0000e-04\n",
            "Epoch 12/100\n",
            "387/391 [============================>.] - ETA: 0s - loss: 0.6465 - accuracy: 0.8774INFO:tensorflow:Assets written to: /content/drive/MyDrive/fashion_mnist/fashion_mnist_my_vggnet_model/assets\n",
            "391/391 [==============================] - 13s 33ms/step - loss: 0.6467 - accuracy: 0.8772 - val_loss: 0.6252 - val_accuracy: 0.8787 - lr: 1.0000e-04\n",
            "Epoch 13/100\n",
            "390/391 [============================>.] - ETA: 0s - loss: 0.6351 - accuracy: 0.8818INFO:tensorflow:Assets written to: /content/drive/MyDrive/fashion_mnist/fashion_mnist_my_vggnet_model/assets\n",
            "391/391 [==============================] - 8s 20ms/step - loss: 0.6350 - accuracy: 0.8818 - val_loss: 0.6195 - val_accuracy: 0.8814 - lr: 1.0000e-04\n",
            "Epoch 14/100\n",
            "391/391 [==============================] - ETA: 0s - loss: 0.6234 - accuracy: 0.8843INFO:tensorflow:Assets written to: /content/drive/MyDrive/fashion_mnist/fashion_mnist_my_vggnet_model/assets\n",
            "391/391 [==============================] - 11s 27ms/step - loss: 0.6234 - accuracy: 0.8843 - val_loss: 0.6129 - val_accuracy: 0.8840 - lr: 1.0000e-04\n",
            "Epoch 15/100\n",
            "388/391 [============================>.] - ETA: 0s - loss: 0.6099 - accuracy: 0.8901INFO:tensorflow:Assets written to: /content/drive/MyDrive/fashion_mnist/fashion_mnist_my_vggnet_model/assets\n",
            "391/391 [==============================] - 8s 21ms/step - loss: 0.6098 - accuracy: 0.8900 - val_loss: 0.6049 - val_accuracy: 0.8868 - lr: 1.0000e-04\n",
            "Epoch 16/100\n",
            "389/391 [============================>.] - ETA: 0s - loss: 0.6012 - accuracy: 0.8938INFO:tensorflow:Assets written to: /content/drive/MyDrive/fashion_mnist/fashion_mnist_my_vggnet_model/assets\n",
            "391/391 [==============================] - 8s 21ms/step - loss: 0.6011 - accuracy: 0.8938 - val_loss: 0.6034 - val_accuracy: 0.8860 - lr: 1.0000e-04\n",
            "Epoch 17/100\n",
            "390/391 [============================>.] - ETA: 0s - loss: 0.5917 - accuracy: 0.8957INFO:tensorflow:Assets written to: /content/drive/MyDrive/fashion_mnist/fashion_mnist_my_vggnet_model/assets\n",
            "391/391 [==============================] - 9s 22ms/step - loss: 0.5918 - accuracy: 0.8957 - val_loss: 0.6017 - val_accuracy: 0.8857 - lr: 1.0000e-04\n",
            "Epoch 18/100\n",
            "390/391 [============================>.] - ETA: 0s - loss: 0.5816 - accuracy: 0.9000INFO:tensorflow:Assets written to: /content/drive/MyDrive/fashion_mnist/fashion_mnist_my_vggnet_model/assets\n",
            "391/391 [==============================] - 8s 21ms/step - loss: 0.5816 - accuracy: 0.9000 - val_loss: 0.5951 - val_accuracy: 0.8889 - lr: 1.0000e-04\n",
            "Epoch 19/100\n",
            "391/391 [==============================] - ETA: 0s - loss: 0.5726 - accuracy: 0.9016INFO:tensorflow:Assets written to: /content/drive/MyDrive/fashion_mnist/fashion_mnist_my_vggnet_model/assets\n",
            "391/391 [==============================] - 8s 20ms/step - loss: 0.5726 - accuracy: 0.9016 - val_loss: 0.5931 - val_accuracy: 0.8910 - lr: 1.0000e-04\n",
            "Epoch 20/100\n",
            "391/391 [==============================] - ETA: 0s - loss: 0.5670 - accuracy: 0.9062INFO:tensorflow:Assets written to: /content/drive/MyDrive/fashion_mnist/fashion_mnist_my_vggnet_model/assets\n",
            "391/391 [==============================] - 11s 27ms/step - loss: 0.5670 - accuracy: 0.9062 - val_loss: 0.5893 - val_accuracy: 0.8927 - lr: 1.0000e-04\n",
            "Epoch 21/100\n",
            "391/391 [==============================] - 4s 11ms/step - loss: 0.5566 - accuracy: 0.9076 - val_loss: 0.5899 - val_accuracy: 0.8912 - lr: 1.0000e-04\n",
            "Epoch 22/100\n",
            "388/391 [============================>.] - ETA: 0s - loss: 0.5491 - accuracy: 0.9095INFO:tensorflow:Assets written to: /content/drive/MyDrive/fashion_mnist/fashion_mnist_my_vggnet_model/assets\n",
            "391/391 [==============================] - 8s 20ms/step - loss: 0.5493 - accuracy: 0.9095 - val_loss: 0.5863 - val_accuracy: 0.8927 - lr: 1.0000e-04\n",
            "Epoch 23/100\n",
            "391/391 [==============================] - ETA: 0s - loss: 0.5452 - accuracy: 0.9122INFO:tensorflow:Assets written to: /content/drive/MyDrive/fashion_mnist/fashion_mnist_my_vggnet_model/assets\n",
            "391/391 [==============================] - 8s 21ms/step - loss: 0.5452 - accuracy: 0.9122 - val_loss: 0.5862 - val_accuracy: 0.8948 - lr: 1.0000e-04\n",
            "Epoch 24/100\n",
            "389/391 [============================>.] - ETA: 0s - loss: 0.5367 - accuracy: 0.9144INFO:tensorflow:Assets written to: /content/drive/MyDrive/fashion_mnist/fashion_mnist_my_vggnet_model/assets\n",
            "391/391 [==============================] - 8s 20ms/step - loss: 0.5368 - accuracy: 0.9145 - val_loss: 0.5834 - val_accuracy: 0.8950 - lr: 1.0000e-04\n",
            "Epoch 25/100\n",
            "390/391 [============================>.] - ETA: 0s - loss: 0.5276 - accuracy: 0.9186INFO:tensorflow:Assets written to: /content/drive/MyDrive/fashion_mnist/fashion_mnist_my_vggnet_model/assets\n",
            "391/391 [==============================] - 8s 21ms/step - loss: 0.5275 - accuracy: 0.9186 - val_loss: 0.5813 - val_accuracy: 0.8958 - lr: 1.0000e-04\n",
            "Epoch 26/100\n",
            "391/391 [==============================] - ETA: 0s - loss: 0.5243 - accuracy: 0.9196INFO:tensorflow:Assets written to: /content/drive/MyDrive/fashion_mnist/fashion_mnist_my_vggnet_model/assets\n",
            "391/391 [==============================] - 8s 21ms/step - loss: 0.5243 - accuracy: 0.9196 - val_loss: 0.5793 - val_accuracy: 0.8962 - lr: 1.0000e-04\n",
            "Epoch 27/100\n",
            "389/391 [============================>.] - ETA: 0s - loss: 0.5164 - accuracy: 0.9234INFO:tensorflow:Assets written to: /content/drive/MyDrive/fashion_mnist/fashion_mnist_my_vggnet_model/assets\n",
            "391/391 [==============================] - 8s 21ms/step - loss: 0.5166 - accuracy: 0.9233 - val_loss: 0.5779 - val_accuracy: 0.8973 - lr: 1.0000e-04\n",
            "Epoch 28/100\n",
            "391/391 [==============================] - 4s 11ms/step - loss: 0.5109 - accuracy: 0.9240 - val_loss: 0.5840 - val_accuracy: 0.8962 - lr: 1.0000e-04\n",
            "Epoch 29/100\n",
            "391/391 [==============================] - 4s 10ms/step - loss: 0.5048 - accuracy: 0.9250 - val_loss: 0.5806 - val_accuracy: 0.8974 - lr: 1.0000e-04\n",
            "Epoch 30/100\n",
            "391/391 [==============================] - 4s 10ms/step - loss: 0.4965 - accuracy: 0.9279 - val_loss: 0.5783 - val_accuracy: 0.8970 - lr: 1.0000e-04\n",
            "Epoch 31/100\n",
            "391/391 [==============================] - 4s 10ms/step - loss: 0.4931 - accuracy: 0.9302 - val_loss: 0.5782 - val_accuracy: 0.8983 - lr: 1.0000e-04\n",
            "Epoch 32/100\n",
            "389/391 [============================>.] - ETA: 0s - loss: 0.4866 - accuracy: 0.9322INFO:tensorflow:Assets written to: /content/drive/MyDrive/fashion_mnist/fashion_mnist_my_vggnet_model/assets\n",
            "391/391 [==============================] - 8s 21ms/step - loss: 0.4869 - accuracy: 0.9321 - val_loss: 0.5758 - val_accuracy: 0.9001 - lr: 1.0000e-04\n",
            "Epoch 33/100\n",
            "391/391 [==============================] - 4s 11ms/step - loss: 0.4813 - accuracy: 0.9331 - val_loss: 0.5762 - val_accuracy: 0.8997 - lr: 1.0000e-04\n",
            "Epoch 34/100\n",
            "386/391 [============================>.] - ETA: 0s - loss: 0.4749 - accuracy: 0.9361INFO:tensorflow:Assets written to: /content/drive/MyDrive/fashion_mnist/fashion_mnist_my_vggnet_model/assets\n",
            "391/391 [==============================] - 8s 20ms/step - loss: 0.4747 - accuracy: 0.9362 - val_loss: 0.5752 - val_accuracy: 0.8996 - lr: 1.0000e-04\n",
            "Epoch 35/100\n",
            "391/391 [==============================] - 4s 11ms/step - loss: 0.4681 - accuracy: 0.9390 - val_loss: 0.5765 - val_accuracy: 0.9027 - lr: 1.0000e-04\n",
            "Epoch 36/100\n",
            "391/391 [==============================] - 4s 11ms/step - loss: 0.4654 - accuracy: 0.9405 - val_loss: 0.5799 - val_accuracy: 0.8987 - lr: 1.0000e-04\n",
            "Epoch 37/100\n",
            "391/391 [==============================] - 4s 11ms/step - loss: 0.4573 - accuracy: 0.9418 - val_loss: 0.5755 - val_accuracy: 0.9009 - lr: 1.0000e-04\n",
            "Epoch 38/100\n",
            "391/391 [==============================] - 4s 11ms/step - loss: 0.4536 - accuracy: 0.9431 - val_loss: 0.5772 - val_accuracy: 0.9004 - lr: 1.0000e-04\n",
            "Epoch 39/100\n",
            "391/391 [==============================] - 4s 10ms/step - loss: 0.4474 - accuracy: 0.9466 - val_loss: 0.5780 - val_accuracy: 0.9012 - lr: 1.0000e-04\n",
            "Epoch 40/100\n",
            "391/391 [==============================] - 4s 10ms/step - loss: 0.4393 - accuracy: 0.9503 - val_loss: 0.5758 - val_accuracy: 0.9029 - lr: 1.0000e-05\n",
            "Epoch 41/100\n",
            "391/391 [==============================] - 4s 10ms/step - loss: 0.4380 - accuracy: 0.9502 - val_loss: 0.5764 - val_accuracy: 0.9023 - lr: 1.0000e-05\n",
            "Epoch 42/100\n",
            "391/391 [==============================] - 4s 10ms/step - loss: 0.4363 - accuracy: 0.9502 - val_loss: 0.5763 - val_accuracy: 0.9038 - lr: 1.0000e-05\n",
            "Epoch 43/100\n",
            "391/391 [==============================] - 4s 11ms/step - loss: 0.4355 - accuracy: 0.9503 - val_loss: 0.5764 - val_accuracy: 0.9033 - lr: 1.0000e-05\n",
            "Epoch 44/100\n",
            "391/391 [==============================] - 4s 10ms/step - loss: 0.4342 - accuracy: 0.9508 - val_loss: 0.5766 - val_accuracy: 0.9033 - lr: 1.0000e-05\n"
          ]
        }
      ]
    },
    {
      "cell_type": "markdown",
      "source": [
        "# Plotting the results"
      ],
      "metadata": {
        "id": "Fd31-OOuXa_k"
      }
    },
    {
      "cell_type": "code",
      "source": [
        "loss = history_my_vggnet_model.history[\"loss\"]\n",
        "accuracy = history_my_vggnet_model.history[\"accuracy\"]\n",
        "\n",
        "val_loss = history_my_vggnet_model.history[\"val_loss\"]\n",
        "val_accuracy = history_my_vggnet_model.history[\"val_accuracy\"]\n",
        "\n",
        "epochs = range(1, len(loss)+1)\n",
        "\n",
        "plt.plot(epochs, loss, \"bo\", label=\"Training loss\")\n",
        "plt.plot(epochs, val_loss, \"b\", label=\"Validation loss\")\n",
        "plt.title(\"Training and validation loss\")\n",
        "plt.xlabel(\"Epochs\")\n",
        "plt.ylabel(\"Loss\")\n",
        "plt.legend()\n",
        "plt.show()"
      ],
      "metadata": {
        "colab": {
          "base_uri": "https://localhost:8080/",
          "height": 295
        },
        "id": "U-mddAnNAJ9w",
        "outputId": "236c69d1-0460-4de1-f89a-63c2ec7a1fcd"
      },
      "execution_count": null,
      "outputs": [
        {
          "output_type": "display_data",
          "data": {
            "text/plain": [
              "<Figure size 432x288 with 1 Axes>"
            ],
            "image/png": "[encoded data removed]"
          },
          "metadata": {
            "needs_background": "light"
          }
        }
      ]
    },
    {
      "cell_type": "code",
      "source": [
        "plt.clf()\n",
        "plt.plot(epochs, accuracy, \"b\", label=\"Training accuracy\")\n",
        "plt.plot(epochs, val_accuracy, \"bo\", label=\"Validation accuracy\")\n",
        "plt.title(\"Training and validation accuracy\")\n",
        "plt.xlabel(\"Epochs\")\n",
        "plt.ylabel(\"Accuracy\")\n",
        "plt.legend()\n",
        "plt.show()"
      ],
      "metadata": {
        "colab": {
          "base_uri": "https://localhost:8080/",
          "height": 295
        },
        "id": "p24nwGPDAibr",
        "outputId": "8e771def-9291-494e-f895-eee11133b3e4"
      },
      "execution_count": null,
      "outputs": [
        {
          "output_type": "display_data",
          "data": {
            "text/plain": [
              "<Figure size 432x288 with 1 Axes>"
            ],
            "image/png": "[encoded data removed]"
          },
          "metadata": {
            "needs_background": "light"
          }
        }
      ]
    },
    {
      "cell_type": "markdown",
      "source": [
        "# Loading the model"
      ],
      "metadata": {
        "id": "jMINSNX1XYRG"
      }
    },
    {
      "cell_type": "code",
      "source": [
        "my_vggnet_model = keras.models.load_model(\"/content/drive/MyDrive/fashion_mnist/fashion_mnist_my_vggnet_model\")"
      ],
      "metadata": {
        "id": "Wx5hnI8uCRRw"
      },
      "execution_count": null,
      "outputs": []
    },
    {
      "cell_type": "markdown",
      "source": [
        "# Evaluating the model"
      ],
      "metadata": {
        "id": "n0UNZxx4Xq7v"
      }
    },
    {
      "cell_type": "code",
      "source": [
        "test_loss, test_accuracy = my_vggnet_model.evaluate(x=x_test, y=y_test)\n",
        "print(f\"The test accuracy on new unseen data is {test_accuracy}\")"
      ],
      "metadata": {
        "colab": {
          "base_uri": "https://localhost:8080/"
        },
        "id": "QbOujfQLBo2i",
        "outputId": "d35cc6d4-82d5-444a-f161-f201d159c18e"
      },
      "execution_count": null,
      "outputs": [
        {
          "output_type": "stream",
          "name": "stdout",
          "text": [
            "313/313 [==============================] - 12s 37ms/step - loss: 0.6053 - accuracy: 0.8877\n",
            "The test accuracy on new unseen data is 0.8877000212669373\n"
          ]
        }
      ]
    },
    {
      "cell_type": "code",
      "source": [
        "inputs = keras.Input(shape=(28,28,1))\n",
        "\n",
        "def residual_block(x, filters, pooling=False):\n",
        "  residual = x \n",
        "\n",
        "  x = keras.layers.Conv2D(filters, 3, padding=\"same\")(x)\n",
        "  x = keras.layers.BatchNormalization()(x)\n",
        "  x = keras.layers.Activation(\"relu\")(x)\n",
        "  x = keras.layers.Conv2D(filters, 3, padding=\"same\")(x)\n",
        "  x = keras.layers.BatchNormalization()(x)\n",
        "  x = keras.layers.Activation(\"relu\")(x)\n",
        "  x = keras.layers.Conv2D(filters, 3, padding=\"same\")(x)\n",
        "  x = keras.layers.BatchNormalization()(x)\n",
        "  x = keras.layers.Activation(\"relu\")(x)\n",
        "\n",
        "  if pooling: \n",
        "    x = keras.layers.MaxPooling2D(2, padding=\"same\")(x)\n",
        "    residual = keras.layers.Conv2D(filters, 1, strides=2)(residual)\n",
        "  elif filters != residual.shape[-1]:\n",
        "    residual = keras.layers.Conv2D(filters, 1)(residual)\n",
        "\n",
        "  x = keras.layers.add([x, residual])\n",
        "\n",
        "  return x\n",
        "\n",
        "\n",
        "x = residual_block(inputs, 16, True)\n",
        "x = residual_block(x, 32, True)\n",
        "x = residual_block(x, 64, True)\n",
        "x = residual_block(x, 128, True)\n",
        "x = residual_block(x, 256, True)\n",
        "x = residual_block(x, 512, True)\n",
        "\n",
        "x = keras.layers.Flatten()(x)\n",
        "x = keras.layers.Dense(512, activation=\"relu\")(x)\n",
        "x = keras.layers.Dropout(rate=0.5)(x)\n",
        "outputs = keras.layers.Dense(10, activation=\"softmax\")(x)\n",
        "\n",
        "\n",
        "model_with_residual_blocks = keras.Model(inputs=inputs, outputs=outputs)\n",
        "model_with_residual_blocks.summary()"
      ],
      "metadata": {
        "colab": {
          "base_uri": "https://localhost:8080/"
        },
        "id": "iRtIAIXtZXVS",
        "outputId": "3e2bb035-b145-4805-f47b-4ca3eb8dff0f"
      },
      "execution_count": null,
      "outputs": [
        {
          "output_type": "stream",
          "name": "stdout",
          "text": [
            "Model: \"model\"\n",
            "__________________________________________________________________________________________________\n",
            " Layer (type)                   Output Shape         Param #     Connected to                     \n",
            "==================================================================================================\n",
            " input_1 (InputLayer)           [(None, 28, 28, 1)]  0           []                               \n",
            "                                                                                                  \n",
            " conv2d (Conv2D)                (None, 28, 28, 16)   160         ['input_1[0][0]']                \n",
            "                                                                                                  \n",
            " batch_normalization (BatchNorm  (None, 28, 28, 16)  64          ['conv2d[0][0]']                 \n",
            " alization)                                                                                       \n",
            "                                                                                                  \n",
            " activation (Activation)        (None, 28, 28, 16)   0           ['batch_normalization[0][0]']    \n",
            "                                                                                                  \n",
            " conv2d_1 (Conv2D)              (None, 28, 28, 16)   2320        ['activation[0][0]']             \n",
            "                                                                                                  \n",
            " batch_normalization_1 (BatchNo  (None, 28, 28, 16)  64          ['conv2d_1[0][0]']               \n",
            " rmalization)                                                                                     \n",
            "                                                                                                  \n",
            " activation_1 (Activation)      (None, 28, 28, 16)   0           ['batch_normalization_1[0][0]']  \n",
            "                                                                                                  \n",
            " conv2d_2 (Conv2D)              (None, 28, 28, 16)   2320        ['activation_1[0][0]']           \n",
            "                                                                                                  \n",
            " batch_normalization_2 (BatchNo  (None, 28, 28, 16)  64          ['conv2d_2[0][0]']               \n",
            " rmalization)                                                                                     \n",
            "                                                                                                  \n",
            " activation_2 (Activation)      (None, 28, 28, 16)   0           ['batch_normalization_2[0][0]']  \n",
            "                                                                                                  \n",
            " max_pooling2d (MaxPooling2D)   (None, 14, 14, 16)   0           ['activation_2[0][0]']           \n",
            "                                                                                                  \n",
            " conv2d_3 (Conv2D)              (None, 14, 14, 16)   32          ['input_1[0][0]']                \n",
            "                                                                                                  \n",
            " add (Add)                      (None, 14, 14, 16)   0           ['max_pooling2d[0][0]',          \n",
            "                                                                  'conv2d_3[0][0]']               \n",
            "                                                                                                  \n",
            " conv2d_4 (Conv2D)              (None, 14, 14, 32)   4640        ['add[0][0]']                    \n",
            "                                                                                                  \n",
            " batch_normalization_3 (BatchNo  (None, 14, 14, 32)  128         ['conv2d_4[0][0]']               \n",
            " rmalization)                                                                                     \n",
            "                                                                                                  \n",
            " activation_3 (Activation)      (None, 14, 14, 32)   0           ['batch_normalization_3[0][0]']  \n",
            "                                                                                                  \n",
            " conv2d_5 (Conv2D)              (None, 14, 14, 32)   9248        ['activation_3[0][0]']           \n",
            "                                                                                                  \n",
            " batch_normalization_4 (BatchNo  (None, 14, 14, 32)  128         ['conv2d_5[0][0]']               \n",
            " rmalization)                                                                                     \n",
            "                                                                                                  \n",
            " activation_4 (Activation)      (None, 14, 14, 32)   0           ['batch_normalization_4[0][0]']  \n",
            "                                                                                                  \n",
            " conv2d_6 (Conv2D)              (None, 14, 14, 32)   9248        ['activation_4[0][0]']           \n",
            "                                                                                                  \n",
            " batch_normalization_5 (BatchNo  (None, 14, 14, 32)  128         ['conv2d_6[0][0]']               \n",
            " rmalization)                                                                                     \n",
            "                                                                                                  \n",
            " activation_5 (Activation)      (None, 14, 14, 32)   0           ['batch_normalization_5[0][0]']  \n",
            "                                                                                                  \n",
            " max_pooling2d_1 (MaxPooling2D)  (None, 7, 7, 32)    0           ['activation_5[0][0]']           \n",
            "                                                                                                  \n",
            " conv2d_7 (Conv2D)              (None, 7, 7, 32)     544         ['add[0][0]']                    \n",
            "                                                                                                  \n",
            " add_1 (Add)                    (None, 7, 7, 32)     0           ['max_pooling2d_1[0][0]',        \n",
            "                                                                  'conv2d_7[0][0]']               \n",
            "                                                                                                  \n",
            " conv2d_8 (Conv2D)              (None, 7, 7, 64)     18496       ['add_1[0][0]']                  \n",
            "                                                                                                  \n",
            " batch_normalization_6 (BatchNo  (None, 7, 7, 64)    256         ['conv2d_8[0][0]']               \n",
            " rmalization)                                                                                     \n",
            "                                                                                                  \n",
            " activation_6 (Activation)      (None, 7, 7, 64)     0           ['batch_normalization_6[0][0]']  \n",
            "                                                                                                  \n",
            " conv2d_9 (Conv2D)              (None, 7, 7, 64)     36928       ['activation_6[0][0]']           \n",
            "                                                                                                  \n",
            " batch_normalization_7 (BatchNo  (None, 7, 7, 64)    256         ['conv2d_9[0][0]']               \n",
            " rmalization)                                                                                     \n",
            "                                                                                                  \n",
            " activation_7 (Activation)      (None, 7, 7, 64)     0           ['batch_normalization_7[0][0]']  \n",
            "                                                                                                  \n",
            " conv2d_10 (Conv2D)             (None, 7, 7, 64)     36928       ['activation_7[0][0]']           \n",
            "                                                                                                  \n",
            " batch_normalization_8 (BatchNo  (None, 7, 7, 64)    256         ['conv2d_10[0][0]']              \n",
            " rmalization)                                                                                     \n",
            "                                                                                                  \n",
            " activation_8 (Activation)      (None, 7, 7, 64)     0           ['batch_normalization_8[0][0]']  \n",
            "                                                                                                  \n",
            " max_pooling2d_2 (MaxPooling2D)  (None, 4, 4, 64)    0           ['activation_8[0][0]']           \n",
            "                                                                                                  \n",
            " conv2d_11 (Conv2D)             (None, 4, 4, 64)     2112        ['add_1[0][0]']                  \n",
            "                                                                                                  \n",
            " add_2 (Add)                    (None, 4, 4, 64)     0           ['max_pooling2d_2[0][0]',        \n",
            "                                                                  'conv2d_11[0][0]']              \n",
            "                                                                                                  \n",
            " conv2d_12 (Conv2D)             (None, 4, 4, 128)    73856       ['add_2[0][0]']                  \n",
            "                                                                                                  \n",
            " batch_normalization_9 (BatchNo  (None, 4, 4, 128)   512         ['conv2d_12[0][0]']              \n",
            " rmalization)                                                                                     \n",
            "                                                                                                  \n",
            " activation_9 (Activation)      (None, 4, 4, 128)    0           ['batch_normalization_9[0][0]']  \n",
            "                                                                                                  \n",
            " conv2d_13 (Conv2D)             (None, 4, 4, 128)    147584      ['activation_9[0][0]']           \n",
            "                                                                                                  \n",
            " batch_normalization_10 (BatchN  (None, 4, 4, 128)   512         ['conv2d_13[0][0]']              \n",
            " ormalization)                                                                                    \n",
            "                                                                                                  \n",
            " activation_10 (Activation)     (None, 4, 4, 128)    0           ['batch_normalization_10[0][0]'] \n",
            "                                                                                                  \n",
            " conv2d_14 (Conv2D)             (None, 4, 4, 128)    147584      ['activation_10[0][0]']          \n",
            "                                                                                                  \n",
            " batch_normalization_11 (BatchN  (None, 4, 4, 128)   512         ['conv2d_14[0][0]']              \n",
            " ormalization)                                                                                    \n",
            "                                                                                                  \n",
            " activation_11 (Activation)     (None, 4, 4, 128)    0           ['batch_normalization_11[0][0]'] \n",
            "                                                                                                  \n",
            " max_pooling2d_3 (MaxPooling2D)  (None, 2, 2, 128)   0           ['activation_11[0][0]']          \n",
            "                                                                                                  \n",
            " conv2d_15 (Conv2D)             (None, 2, 2, 128)    8320        ['add_2[0][0]']                  \n",
            "                                                                                                  \n",
            " add_3 (Add)                    (None, 2, 2, 128)    0           ['max_pooling2d_3[0][0]',        \n",
            "                                                                  'conv2d_15[0][0]']              \n",
            "                                                                                                  \n",
            " conv2d_16 (Conv2D)             (None, 2, 2, 256)    295168      ['add_3[0][0]']                  \n",
            "                                                                                                  \n",
            " batch_normalization_12 (BatchN  (None, 2, 2, 256)   1024        ['conv2d_16[0][0]']              \n",
            " ormalization)                                                                                    \n",
            "                                                                                                  \n",
            " activation_12 (Activation)     (None, 2, 2, 256)    0           ['batch_normalization_12[0][0]'] \n",
            "                                                                                                  \n",
            " conv2d_17 (Conv2D)             (None, 2, 2, 256)    590080      ['activation_12[0][0]']          \n",
            "                                                                                                  \n",
            " batch_normalization_13 (BatchN  (None, 2, 2, 256)   1024        ['conv2d_17[0][0]']              \n",
            " ormalization)                                                                                    \n",
            "                                                                                                  \n",
            " activation_13 (Activation)     (None, 2, 2, 256)    0           ['batch_normalization_13[0][0]'] \n",
            "                                                                                                  \n",
            " conv2d_18 (Conv2D)             (None, 2, 2, 256)    590080      ['activation_13[0][0]']          \n",
            "                                                                                                  \n",
            " batch_normalization_14 (BatchN  (None, 2, 2, 256)   1024        ['conv2d_18[0][0]']              \n",
            " ormalization)                                                                                    \n",
            "                                                                                                  \n",
            " activation_14 (Activation)     (None, 2, 2, 256)    0           ['batch_normalization_14[0][0]'] \n",
            "                                                                                                  \n",
            " max_pooling2d_4 (MaxPooling2D)  (None, 1, 1, 256)   0           ['activation_14[0][0]']          \n",
            "                                                                                                  \n",
            " conv2d_19 (Conv2D)             (None, 1, 1, 256)    33024       ['add_3[0][0]']                  \n",
            "                                                                                                  \n",
            " add_4 (Add)                    (None, 1, 1, 256)    0           ['max_pooling2d_4[0][0]',        \n",
            "                                                                  'conv2d_19[0][0]']              \n",
            "                                                                                                  \n",
            " conv2d_20 (Conv2D)             (None, 1, 1, 512)    1180160     ['add_4[0][0]']                  \n",
            "                                                                                                  \n",
            " batch_normalization_15 (BatchN  (None, 1, 1, 512)   2048        ['conv2d_20[0][0]']              \n",
            " ormalization)                                                                                    \n",
            "                                                                                                  \n",
            " activation_15 (Activation)     (None, 1, 1, 512)    0           ['batch_normalization_15[0][0]'] \n",
            "                                                                                                  \n",
            " conv2d_21 (Conv2D)             (None, 1, 1, 512)    2359808     ['activation_15[0][0]']          \n",
            "                                                                                                  \n",
            " batch_normalization_16 (BatchN  (None, 1, 1, 512)   2048        ['conv2d_21[0][0]']              \n",
            " ormalization)                                                                                    \n",
            "                                                                                                  \n",
            " activation_16 (Activation)     (None, 1, 1, 512)    0           ['batch_normalization_16[0][0]'] \n",
            "                                                                                                  \n",
            " conv2d_22 (Conv2D)             (None, 1, 1, 512)    2359808     ['activation_16[0][0]']          \n",
            "                                                                                                  \n",
            " batch_normalization_17 (BatchN  (None, 1, 1, 512)   2048        ['conv2d_22[0][0]']              \n",
            " ormalization)                                                                                    \n",
            "                                                                                                  \n",
            " activation_17 (Activation)     (None, 1, 1, 512)    0           ['batch_normalization_17[0][0]'] \n",
            "                                                                                                  \n",
            " max_pooling2d_5 (MaxPooling2D)  (None, 1, 1, 512)   0           ['activation_17[0][0]']          \n",
            "                                                                                                  \n",
            " conv2d_23 (Conv2D)             (None, 1, 1, 512)    131584      ['add_4[0][0]']                  \n",
            "                                                                                                  \n",
            " add_5 (Add)                    (None, 1, 1, 512)    0           ['max_pooling2d_5[0][0]',        \n",
            "                                                                  'conv2d_23[0][0]']              \n",
            "                                                                                                  \n",
            " flatten (Flatten)              (None, 512)          0           ['add_5[0][0]']                  \n",
            "                                                                                                  \n",
            " dense (Dense)                  (None, 512)          262656      ['flatten[0][0]']                \n",
            "                                                                                                  \n",
            " dropout (Dropout)              (None, 512)          0           ['dense[0][0]']                  \n",
            "                                                                                                  \n",
            " dense_1 (Dense)                (None, 10)           5130        ['dropout[0][0]']                \n",
            "                                                                                                  \n",
            "==================================================================================================\n",
            "Total params: 8,319,914\n",
            "Trainable params: 8,313,866\n",
            "Non-trainable params: 6,048\n",
            "__________________________________________________________________________________________________\n"
          ]
        }
      ]
    },
    {
      "cell_type": "code",
      "source": [
        "optimizer = keras.optimizers.SGD(learning_rate=0.0001, momentum = 0.9)\n",
        "loss =\"sparse_categorical_crossentropy\"\n",
        "metrics=[\"accuracy\"]\n",
        "\n",
        "model_with_residual_blocks.compile(optimizer=optimizer, loss=loss, metrics=metrics)"
      ],
      "metadata": {
        "id": "fiVCmJtCvQUg"
      },
      "execution_count": null,
      "outputs": []
    },
    {
      "cell_type": "code",
      "source": [
        "callbacks = [\n",
        "             keras.callbacks.ModelCheckpoint(\"/content/drive/MyDrive/fashion_mnist/fashion_mnist_model_with_residual_blocks\", \n",
        "                                             save_best_only=True, \n",
        "                                             monitor =\"val_loss\"), \n",
        "             keras.callbacks.EarlyStopping(patience=10), \n",
        "             keras.callbacks.ReduceLROnPlateau(monitor='val_loss', factor=0.1, patience=5)\n",
        "]"
      ],
      "metadata": {
        "id": "vNHJnSp7vZlp"
      },
      "execution_count": null,
      "outputs": []
    },
    {
      "cell_type": "code",
      "source": [
        "history_model_with_residual_blocks = model_with_residual_blocks.fit(x=x_train, \n",
        "                        y=y_train, \n",
        "                        batch_size=128, \n",
        "                        epochs=100, \n",
        "                        callbacks=callbacks, \n",
        "                        validation_data=(x_val, y_val)\n",
        "                        )"
      ],
      "metadata": {
        "colab": {
          "base_uri": "https://localhost:8080/"
        },
        "id": "RDVbXH4evvft",
        "outputId": "5f9a4577-b8c1-4ca1-cfe0-9b92c59a12a8"
      },
      "execution_count": null,
      "outputs": [
        {
          "output_type": "stream",
          "name": "stdout",
          "text": [
            "Epoch 1/100\n",
            "391/391 [==============================] - ETA: 0s - loss: 1.2670 - accuracy: 0.5908INFO:tensorflow:Assets written to: /content/drive/MyDrive/fashion_mnist/fashion_mnist_model_with_residual_blocks/assets\n",
            "391/391 [==============================] - 56s 103ms/step - loss: 1.2670 - accuracy: 0.5908 - val_loss: 1.2277 - val_accuracy: 0.6013 - lr: 1.0000e-04\n",
            "Epoch 2/100\n",
            "391/391 [==============================] - ETA: 0s - loss: 0.6530 - accuracy: 0.7695INFO:tensorflow:Assets written to: /content/drive/MyDrive/fashion_mnist/fashion_mnist_model_with_residual_blocks/assets\n",
            "391/391 [==============================] - 39s 99ms/step - loss: 0.6530 - accuracy: 0.7695 - val_loss: 0.5043 - val_accuracy: 0.8171 - lr: 1.0000e-04\n",
            "Epoch 3/100\n",
            "391/391 [==============================] - ETA: 0s - loss: 0.5340 - accuracy: 0.8102INFO:tensorflow:Assets written to: /content/drive/MyDrive/fashion_mnist/fashion_mnist_model_with_residual_blocks/assets\n",
            "391/391 [==============================] - 38s 98ms/step - loss: 0.5340 - accuracy: 0.8102 - val_loss: 0.4533 - val_accuracy: 0.8347 - lr: 1.0000e-04\n",
            "Epoch 4/100\n",
            "391/391 [==============================] - ETA: 0s - loss: 0.4673 - accuracy: 0.8335INFO:tensorflow:Assets written to: /content/drive/MyDrive/fashion_mnist/fashion_mnist_model_with_residual_blocks/assets\n",
            "391/391 [==============================] - 39s 99ms/step - loss: 0.4673 - accuracy: 0.8335 - val_loss: 0.4178 - val_accuracy: 0.8480 - lr: 1.0000e-04\n",
            "Epoch 5/100\n",
            "391/391 [==============================] - ETA: 0s - loss: 0.4131 - accuracy: 0.8512INFO:tensorflow:Assets written to: /content/drive/MyDrive/fashion_mnist/fashion_mnist_model_with_residual_blocks/assets\n",
            "391/391 [==============================] - 38s 98ms/step - loss: 0.4131 - accuracy: 0.8512 - val_loss: 0.3954 - val_accuracy: 0.8590 - lr: 1.0000e-04\n",
            "Epoch 6/100\n",
            "391/391 [==============================] - ETA: 0s - loss: 0.3792 - accuracy: 0.8654INFO:tensorflow:Assets written to: /content/drive/MyDrive/fashion_mnist/fashion_mnist_model_with_residual_blocks/assets\n",
            "391/391 [==============================] - 38s 97ms/step - loss: 0.3792 - accuracy: 0.8654 - val_loss: 0.3794 - val_accuracy: 0.8615 - lr: 1.0000e-04\n",
            "Epoch 7/100\n",
            "391/391 [==============================] - ETA: 0s - loss: 0.3507 - accuracy: 0.8748INFO:tensorflow:Assets written to: /content/drive/MyDrive/fashion_mnist/fashion_mnist_model_with_residual_blocks/assets\n",
            "391/391 [==============================] - 39s 99ms/step - loss: 0.3507 - accuracy: 0.8748 - val_loss: 0.3698 - val_accuracy: 0.8682 - lr: 1.0000e-04\n",
            "Epoch 8/100\n",
            "391/391 [==============================] - ETA: 0s - loss: 0.3245 - accuracy: 0.8833INFO:tensorflow:Assets written to: /content/drive/MyDrive/fashion_mnist/fashion_mnist_model_with_residual_blocks/assets\n",
            "391/391 [==============================] - 39s 99ms/step - loss: 0.3245 - accuracy: 0.8833 - val_loss: 0.3652 - val_accuracy: 0.8729 - lr: 1.0000e-04\n",
            "Epoch 9/100\n",
            "391/391 [==============================] - ETA: 0s - loss: 0.3030 - accuracy: 0.8936INFO:tensorflow:Assets written to: /content/drive/MyDrive/fashion_mnist/fashion_mnist_model_with_residual_blocks/assets\n",
            "391/391 [==============================] - 38s 98ms/step - loss: 0.3030 - accuracy: 0.8936 - val_loss: 0.3591 - val_accuracy: 0.8710 - lr: 1.0000e-04\n",
            "Epoch 10/100\n",
            "391/391 [==============================] - ETA: 0s - loss: 0.2808 - accuracy: 0.9011INFO:tensorflow:Assets written to: /content/drive/MyDrive/fashion_mnist/fashion_mnist_model_with_residual_blocks/assets\n",
            "391/391 [==============================] - 38s 98ms/step - loss: 0.2808 - accuracy: 0.9011 - val_loss: 0.3569 - val_accuracy: 0.8746 - lr: 1.0000e-04\n",
            "Epoch 11/100\n",
            "391/391 [==============================] - ETA: 0s - loss: 0.2653 - accuracy: 0.9056INFO:tensorflow:Assets written to: /content/drive/MyDrive/fashion_mnist/fashion_mnist_model_with_residual_blocks/assets\n",
            "391/391 [==============================] - 38s 98ms/step - loss: 0.2653 - accuracy: 0.9056 - val_loss: 0.3505 - val_accuracy: 0.8744 - lr: 1.0000e-04\n",
            "Epoch 12/100\n",
            "391/391 [==============================] - ETA: 0s - loss: 0.2482 - accuracy: 0.9127INFO:tensorflow:Assets written to: /content/drive/MyDrive/fashion_mnist/fashion_mnist_model_with_residual_blocks/assets\n",
            "391/391 [==============================] - 38s 98ms/step - loss: 0.2482 - accuracy: 0.9127 - val_loss: 0.3491 - val_accuracy: 0.8780 - lr: 1.0000e-04\n",
            "Epoch 13/100\n",
            "391/391 [==============================] - 29s 75ms/step - loss: 0.2283 - accuracy: 0.9187 - val_loss: 0.3548 - val_accuracy: 0.8764 - lr: 1.0000e-04\n",
            "Epoch 14/100\n",
            "391/391 [==============================] - 28s 71ms/step - loss: 0.2114 - accuracy: 0.9263 - val_loss: 0.3539 - val_accuracy: 0.8766 - lr: 1.0000e-04\n",
            "Epoch 15/100\n",
            "391/391 [==============================] - 28s 72ms/step - loss: 0.1985 - accuracy: 0.9320 - val_loss: 0.3539 - val_accuracy: 0.8796 - lr: 1.0000e-04\n",
            "Epoch 16/100\n",
            "391/391 [==============================] - 28s 72ms/step - loss: 0.1842 - accuracy: 0.9370 - val_loss: 0.3550 - val_accuracy: 0.8814 - lr: 1.0000e-04\n",
            "Epoch 17/100\n",
            "391/391 [==============================] - 28s 72ms/step - loss: 0.1712 - accuracy: 0.9405 - val_loss: 0.3644 - val_accuracy: 0.8778 - lr: 1.0000e-04\n",
            "Epoch 18/100\n",
            "391/391 [==============================] - 28s 72ms/step - loss: 0.1500 - accuracy: 0.9503 - val_loss: 0.3600 - val_accuracy: 0.8799 - lr: 1.0000e-05\n",
            "Epoch 19/100\n",
            "391/391 [==============================] - 28s 72ms/step - loss: 0.1461 - accuracy: 0.9525 - val_loss: 0.3605 - val_accuracy: 0.8801 - lr: 1.0000e-05\n",
            "Epoch 20/100\n",
            "391/391 [==============================] - 28s 72ms/step - loss: 0.1433 - accuracy: 0.9535 - val_loss: 0.3614 - val_accuracy: 0.8812 - lr: 1.0000e-05\n",
            "Epoch 21/100\n",
            "391/391 [==============================] - 28s 72ms/step - loss: 0.1415 - accuracy: 0.9530 - val_loss: 0.3633 - val_accuracy: 0.8812 - lr: 1.0000e-05\n",
            "Epoch 22/100\n",
            "391/391 [==============================] - 28s 71ms/step - loss: 0.1390 - accuracy: 0.9539 - val_loss: 0.3645 - val_accuracy: 0.8824 - lr: 1.0000e-05\n"
          ]
        }
      ]
    }
  ]
}