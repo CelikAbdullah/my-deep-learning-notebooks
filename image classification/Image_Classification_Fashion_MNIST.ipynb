{
  "nbformat": 4,
  "nbformat_minor": 0,
  "metadata": {
    "colab": {
      "name": "Image Classification - Fashion MNIST.ipynb",
      "provenance": [],
      "collapsed_sections": [],
      "authorship_tag": "ABX9TyNjKb6GzZ/+8i2hwhPdF9zm",
      "include_colab_link": true
    },
    "kernelspec": {
      "name": "python3",
      "display_name": "Python 3"
    },
    "language_info": {
      "name": "python"
    }
  },
  "cells": [
    {
      "cell_type": "markdown",
      "metadata": {
        "id": "view-in-github",
        "colab_type": "text"
      },
      "source": [
        "<a href=\"https://colab.research.google.com/github/CelikAbdullah/my-deep-learning-notebooks/blob/main/image%20classification/Image_Classification_Fashion_MNIST.ipynb\" target=\"_parent\"><img src=\"https://colab.research.google.com/assets/colab-badge.svg\" alt=\"Open In Colab\"/></a>"
      ]
    },
    {
      "cell_type": "markdown",
      "source": [
        "# Imports"
      ],
      "metadata": {
        "id": "gVrZIta42ArF"
      }
    },
    {
      "cell_type": "code",
      "execution_count": 1,
      "metadata": {
        "id": "QTnV1ZsQ1Kep"
      },
      "outputs": [],
      "source": [
        "from tensorflow import keras\n",
        "import matplotlib.pyplot as plt"
      ]
    },
    {
      "cell_type": "markdown",
      "source": [
        "# Getting the Fashion MNIST dataset"
      ],
      "metadata": {
        "id": "p8nJ6EGD2EG9"
      }
    },
    {
      "cell_type": "code",
      "source": [
        "(x_train, y_train), (x_test, y_test) = keras.datasets.fashion_mnist.load_data()"
      ],
      "metadata": {
        "colab": {
          "base_uri": "https://localhost:8080/"
        },
        "id": "XoVyjfrI1aMU",
        "outputId": "34a2fad3-ebf3-453a-e717-8c47a9715414"
      },
      "execution_count": 2,
      "outputs": [
        {
          "output_type": "stream",
          "name": "stdout",
          "text": [
            "Downloading data from https://storage.googleapis.com/tensorflow/tf-keras-datasets/train-labels-idx1-ubyte.gz\n",
            "32768/29515 [=================================] - 0s 0us/step\n",
            "40960/29515 [=========================================] - 0s 0us/step\n",
            "Downloading data from https://storage.googleapis.com/tensorflow/tf-keras-datasets/train-images-idx3-ubyte.gz\n",
            "26427392/26421880 [==============================] - 0s 0us/step\n",
            "26435584/26421880 [==============================] - 0s 0us/step\n",
            "Downloading data from https://storage.googleapis.com/tensorflow/tf-keras-datasets/t10k-labels-idx1-ubyte.gz\n",
            "16384/5148 [===============================================================================================] - 0s 0us/step\n",
            "Downloading data from https://storage.googleapis.com/tensorflow/tf-keras-datasets/t10k-images-idx3-ubyte.gz\n",
            "4423680/4422102 [==============================] - 0s 0us/step\n",
            "4431872/4422102 [==============================] - 0s 0us/step\n"
          ]
        }
      ]
    },
    {
      "cell_type": "code",
      "source": [
        "assert x_train.shape == (60000, 28, 28)\n",
        "assert x_test.shape == (10000, 28, 28)\n",
        "assert y_train.shape == (60000,)\n",
        "assert y_test.shape == (10000,)"
      ],
      "metadata": {
        "id": "aVz0Tt3-1bte"
      },
      "execution_count": 3,
      "outputs": []
    },
    {
      "cell_type": "code",
      "source": [
        "plt.imshow(x_train[5], cmap=plt.get_cmap('gray'))\n",
        "plt.show()"
      ],
      "metadata": {
        "colab": {
          "base_uri": "https://localhost:8080/",
          "height": 265
        },
        "id": "XKOYJAVe1ftG",
        "outputId": "c9ebe205-583d-4f4e-93c9-6c1505c79c39"
      },
      "execution_count": 4,
      "outputs": [
        {
          "output_type": "display_data",
          "data": {
            "text/plain": [
              "<Figure size 432x288 with 1 Axes>"
            ],
            "image/png": "[encoded data removed]"
          },
          "metadata": {
            "needs_background": "light"
          }
        }
      ]
    },
    {
      "cell_type": "markdown",
      "source": [
        "# Creating a validation dataset"
      ],
      "metadata": {
        "id": "6SjcDPb22KiZ"
      }
    },
    {
      "cell_type": "code",
      "source": [
        "x_val = x_train[:10000]\n",
        "x_train = x_train[10000:]\n",
        "\n",
        "y_val = y_train[:10000]\n",
        "y_train = y_train[10000:]"
      ],
      "metadata": {
        "id": "6KT4PcS11mEh"
      },
      "execution_count": 5,
      "outputs": []
    },
    {
      "cell_type": "code",
      "source": [
        "x_train.shape, x_val.shape, x_test.shape"
      ],
      "metadata": {
        "colab": {
          "base_uri": "https://localhost:8080/"
        },
        "id": "oIu5D4ZM1r8o",
        "outputId": "97e39be6-92f9-4e6e-bdcd-e367496c24be"
      },
      "execution_count": 6,
      "outputs": [
        {
          "output_type": "execute_result",
          "data": {
            "text/plain": [
              "((50000, 28, 28), (10000, 28, 28), (10000, 28, 28))"
            ]
          },
          "metadata": {},
          "execution_count": 6
        }
      ]
    },
    {
      "cell_type": "code",
      "source": [
        "y_train.shape, y_val.shape, y_test.shape"
      ],
      "metadata": {
        "colab": {
          "base_uri": "https://localhost:8080/"
        },
        "id": "ttZZ2mts10is",
        "outputId": "4e32d4ec-a983-4d0d-cd65-363f3f08ec13"
      },
      "execution_count": 7,
      "outputs": [
        {
          "output_type": "execute_result",
          "data": {
            "text/plain": [
              "((50000,), (10000,), (10000,))"
            ]
          },
          "metadata": {},
          "execution_count": 7
        }
      ]
    },
    {
      "cell_type": "markdown",
      "source": [
        "# Preparing the data"
      ],
      "metadata": {
        "id": "vug2WGw82O5W"
      }
    },
    {
      "cell_type": "code",
      "source": [
        "x_train = x_train.reshape((50000, 28, 28, 1))\n",
        "x_train = x_train.astype(\"float32\") / 255\n",
        "\n",
        "x_val = x_val.reshape((10000, 28, 28, 1))\n",
        "x_val = x_val.astype(\"float32\") / 255\n",
        "\n",
        "x_test = x_test.reshape((10000, 28, 28, 1))\n",
        "x_test = x_test.astype(\"float32\") / 255"
      ],
      "metadata": {
        "id": "ax3-y-oJ13q1"
      },
      "execution_count": 8,
      "outputs": []
    },
    {
      "cell_type": "markdown",
      "source": [
        "# Building a model with residual blocks"
      ],
      "metadata": {
        "id": "-ZD6yIoz17Kz"
      }
    },
    {
      "cell_type": "code",
      "source": [
        "# a helper function \n",
        "def residual_block(x, num_filters, pooling = False):\n",
        "  # residual is pointing to the original input\n",
        "  residual = x\n",
        "\n",
        "  # a block containing conv layers\n",
        "  x = keras.layers.SeparableConv2D(num_filters, 3, padding=\"same\", use_bias=False)(x)\n",
        "  x = keras.layers.BatchNormalization()(x)\n",
        "  x = keras.layers.Activation(\"relu\")(x)\n",
        "  x = keras.layers.SeparableConv2D(num_filters, 3, padding=\"same\", use_bias=False)(x)\n",
        "  x = keras.layers.BatchNormalization()(x)\n",
        "  x = keras.layers.Activation(\"relu\")(x)\n",
        "  x = keras.layers.SeparableConv2D(num_filters, 3, padding=\"same\", use_bias=False)(x)\n",
        "  x = keras.layers.BatchNormalization()(x)\n",
        "  x = keras.layers.Activation(\"relu\")(x)\n",
        "\n",
        "  if pooling: \n",
        "    x = keras.layers.MaxPooling2D(2, padding=\"same\")(x)\n",
        "    residual = keras.layers.Conv2D(num_filters, 1, strides=2)(residual)\n",
        "\n",
        "  elif num_filters != residual.shape[-1]:\n",
        "    residual = keras.layers.Conv2D(num_filters, 1)(residual)\n",
        "\n",
        "  x = keras.layers.add([x, residual])\n",
        "\n",
        "  return x"
      ],
      "metadata": {
        "id": "M_ercjPd16ZY"
      },
      "execution_count": 9,
      "outputs": []
    },
    {
      "cell_type": "code",
      "source": [
        "num_classes = 10\n",
        "\n",
        "inputs = keras.Input(shape=(28,28,1))\n",
        "\n",
        "x = keras.layers.Conv2D(16,3,padding=\"same\", use_bias=False)(inputs)\n",
        "x = keras.layers.BatchNormalization()(x)\n",
        "x = keras.layers.Activation(\"relu\")(x)\n",
        "x = keras.layers.MaxPooling2D(2)(x)\n",
        "\n",
        "\n",
        "x = residual_block(x, 16, False)\n",
        "x = residual_block(x, 16, False)\n",
        "x = residual_block(x, 16, False)\n",
        "x = residual_block(x, 16, True)\n",
        "x = residual_block(x, 32, False)\n",
        "x = residual_block(x, 32, False)\n",
        "x = residual_block(x, 32, False)\n",
        "x = residual_block(x, 32, True)\n",
        "x = residual_block(x, 48, False)\n",
        "x = residual_block(x, 48, False)\n",
        "x = residual_block(x, 48, False)\n",
        "x = residual_block(x, 48, True)\n",
        "x = residual_block(x, 64, False)\n",
        "x = residual_block(x, 64, False)\n",
        "x = residual_block(x, 64, False)\n",
        "x = residual_block(x, 64, True)\n",
        "\n",
        "\n",
        "\n",
        "\n",
        "x = keras.layers.Flatten()(x)\n",
        "x = keras.layers.Dense(64, activation=\"relu\")(x)\n",
        "x = keras.layers.Dropout(0.5)(x)\n",
        "outputs = keras.layers.Dense(num_classes, activation=\"softmax\")(x)\n",
        "\n",
        "model_with_residual_blocks = keras.Model(inputs=inputs, outputs=outputs, name=\"model_with_residual_blocks\")"
      ],
      "metadata": {
        "id": "dP9DCxOn3-S3"
      },
      "execution_count": 13,
      "outputs": []
    },
    {
      "cell_type": "code",
      "source": [
        "model_with_residual_blocks.summary()"
      ],
      "metadata": {
        "colab": {
          "base_uri": "https://localhost:8080/"
        },
        "id": "m-hqktIo6JEX",
        "outputId": "a22dafb9-a9f6-40d4-9368-e16ca878f871"
      },
      "execution_count": 14,
      "outputs": [
        {
          "output_type": "stream",
          "name": "stdout",
          "text": [
            "Model: \"model_with_residual_blocks\"\n",
            "__________________________________________________________________________________________________\n",
            " Layer (type)                   Output Shape         Param #     Connected to                     \n",
            "==================================================================================================\n",
            " input_3 (InputLayer)           [(None, 28, 28, 1)]  0           []                               \n",
            "                                                                                                  \n",
            " conv2d_16 (Conv2D)             (None, 28, 28, 16)   144         ['input_3[0][0]']                \n",
            "                                                                                                  \n",
            " batch_normalization_98 (BatchN  (None, 28, 28, 16)  64          ['conv2d_16[0][0]']              \n",
            " ormalization)                                                                                    \n",
            "                                                                                                  \n",
            " activation_98 (Activation)     (None, 28, 28, 16)   0           ['batch_normalization_98[0][0]'] \n",
            "                                                                                                  \n",
            " max_pooling2d_10 (MaxPooling2D  (None, 14, 14, 16)  0           ['activation_98[0][0]']          \n",
            " )                                                                                                \n",
            "                                                                                                  \n",
            " separable_conv2d_96 (Separable  (None, 14, 14, 16)  400         ['max_pooling2d_10[0][0]']       \n",
            " Conv2D)                                                                                          \n",
            "                                                                                                  \n",
            " batch_normalization_99 (BatchN  (None, 14, 14, 16)  64          ['separable_conv2d_96[0][0]']    \n",
            " ormalization)                                                                                    \n",
            "                                                                                                  \n",
            " activation_99 (Activation)     (None, 14, 14, 16)   0           ['batch_normalization_99[0][0]'] \n",
            "                                                                                                  \n",
            " separable_conv2d_97 (Separable  (None, 14, 14, 16)  400         ['activation_99[0][0]']          \n",
            " Conv2D)                                                                                          \n",
            "                                                                                                  \n",
            " batch_normalization_100 (Batch  (None, 14, 14, 16)  64          ['separable_conv2d_97[0][0]']    \n",
            " Normalization)                                                                                   \n",
            "                                                                                                  \n",
            " activation_100 (Activation)    (None, 14, 14, 16)   0           ['batch_normalization_100[0][0]']\n",
            "                                                                                                  \n",
            " separable_conv2d_98 (Separable  (None, 14, 14, 16)  400         ['activation_100[0][0]']         \n",
            " Conv2D)                                                                                          \n",
            "                                                                                                  \n",
            " batch_normalization_101 (Batch  (None, 14, 14, 16)  64          ['separable_conv2d_98[0][0]']    \n",
            " Normalization)                                                                                   \n",
            "                                                                                                  \n",
            " activation_101 (Activation)    (None, 14, 14, 16)   0           ['batch_normalization_101[0][0]']\n",
            "                                                                                                  \n",
            " add_32 (Add)                   (None, 14, 14, 16)   0           ['activation_101[0][0]',         \n",
            "                                                                  'max_pooling2d_10[0][0]']       \n",
            "                                                                                                  \n",
            " separable_conv2d_99 (Separable  (None, 14, 14, 16)  400         ['add_32[0][0]']                 \n",
            " Conv2D)                                                                                          \n",
            "                                                                                                  \n",
            " batch_normalization_102 (Batch  (None, 14, 14, 16)  64          ['separable_conv2d_99[0][0]']    \n",
            " Normalization)                                                                                   \n",
            "                                                                                                  \n",
            " activation_102 (Activation)    (None, 14, 14, 16)   0           ['batch_normalization_102[0][0]']\n",
            "                                                                                                  \n",
            " separable_conv2d_100 (Separabl  (None, 14, 14, 16)  400         ['activation_102[0][0]']         \n",
            " eConv2D)                                                                                         \n",
            "                                                                                                  \n",
            " batch_normalization_103 (Batch  (None, 14, 14, 16)  64          ['separable_conv2d_100[0][0]']   \n",
            " Normalization)                                                                                   \n",
            "                                                                                                  \n",
            " activation_103 (Activation)    (None, 14, 14, 16)   0           ['batch_normalization_103[0][0]']\n",
            "                                                                                                  \n",
            " separable_conv2d_101 (Separabl  (None, 14, 14, 16)  400         ['activation_103[0][0]']         \n",
            " eConv2D)                                                                                         \n",
            "                                                                                                  \n",
            " batch_normalization_104 (Batch  (None, 14, 14, 16)  64          ['separable_conv2d_101[0][0]']   \n",
            " Normalization)                                                                                   \n",
            "                                                                                                  \n",
            " activation_104 (Activation)    (None, 14, 14, 16)   0           ['batch_normalization_104[0][0]']\n",
            "                                                                                                  \n",
            " add_33 (Add)                   (None, 14, 14, 16)   0           ['activation_104[0][0]',         \n",
            "                                                                  'add_32[0][0]']                 \n",
            "                                                                                                  \n",
            " separable_conv2d_102 (Separabl  (None, 14, 14, 16)  400         ['add_33[0][0]']                 \n",
            " eConv2D)                                                                                         \n",
            "                                                                                                  \n",
            " batch_normalization_105 (Batch  (None, 14, 14, 16)  64          ['separable_conv2d_102[0][0]']   \n",
            " Normalization)                                                                                   \n",
            "                                                                                                  \n",
            " activation_105 (Activation)    (None, 14, 14, 16)   0           ['batch_normalization_105[0][0]']\n",
            "                                                                                                  \n",
            " separable_conv2d_103 (Separabl  (None, 14, 14, 16)  400         ['activation_105[0][0]']         \n",
            " eConv2D)                                                                                         \n",
            "                                                                                                  \n",
            " batch_normalization_106 (Batch  (None, 14, 14, 16)  64          ['separable_conv2d_103[0][0]']   \n",
            " Normalization)                                                                                   \n",
            "                                                                                                  \n",
            " activation_106 (Activation)    (None, 14, 14, 16)   0           ['batch_normalization_106[0][0]']\n",
            "                                                                                                  \n",
            " separable_conv2d_104 (Separabl  (None, 14, 14, 16)  400         ['activation_106[0][0]']         \n",
            " eConv2D)                                                                                         \n",
            "                                                                                                  \n",
            " batch_normalization_107 (Batch  (None, 14, 14, 16)  64          ['separable_conv2d_104[0][0]']   \n",
            " Normalization)                                                                                   \n",
            "                                                                                                  \n",
            " activation_107 (Activation)    (None, 14, 14, 16)   0           ['batch_normalization_107[0][0]']\n",
            "                                                                                                  \n",
            " add_34 (Add)                   (None, 14, 14, 16)   0           ['activation_107[0][0]',         \n",
            "                                                                  'add_33[0][0]']                 \n",
            "                                                                                                  \n",
            " separable_conv2d_105 (Separabl  (None, 14, 14, 16)  400         ['add_34[0][0]']                 \n",
            " eConv2D)                                                                                         \n",
            "                                                                                                  \n",
            " batch_normalization_108 (Batch  (None, 14, 14, 16)  64          ['separable_conv2d_105[0][0]']   \n",
            " Normalization)                                                                                   \n",
            "                                                                                                  \n",
            " activation_108 (Activation)    (None, 14, 14, 16)   0           ['batch_normalization_108[0][0]']\n",
            "                                                                                                  \n",
            " separable_conv2d_106 (Separabl  (None, 14, 14, 16)  400         ['activation_108[0][0]']         \n",
            " eConv2D)                                                                                         \n",
            "                                                                                                  \n",
            " batch_normalization_109 (Batch  (None, 14, 14, 16)  64          ['separable_conv2d_106[0][0]']   \n",
            " Normalization)                                                                                   \n",
            "                                                                                                  \n",
            " activation_109 (Activation)    (None, 14, 14, 16)   0           ['batch_normalization_109[0][0]']\n",
            "                                                                                                  \n",
            " separable_conv2d_107 (Separabl  (None, 14, 14, 16)  400         ['activation_109[0][0]']         \n",
            " eConv2D)                                                                                         \n",
            "                                                                                                  \n",
            " batch_normalization_110 (Batch  (None, 14, 14, 16)  64          ['separable_conv2d_107[0][0]']   \n",
            " Normalization)                                                                                   \n",
            "                                                                                                  \n",
            " activation_110 (Activation)    (None, 14, 14, 16)   0           ['batch_normalization_110[0][0]']\n",
            "                                                                                                  \n",
            " max_pooling2d_11 (MaxPooling2D  (None, 7, 7, 16)    0           ['activation_110[0][0]']         \n",
            " )                                                                                                \n",
            "                                                                                                  \n",
            " conv2d_17 (Conv2D)             (None, 7, 7, 16)     272         ['add_34[0][0]']                 \n",
            "                                                                                                  \n",
            " add_35 (Add)                   (None, 7, 7, 16)     0           ['max_pooling2d_11[0][0]',       \n",
            "                                                                  'conv2d_17[0][0]']              \n",
            "                                                                                                  \n",
            " separable_conv2d_108 (Separabl  (None, 7, 7, 32)    656         ['add_35[0][0]']                 \n",
            " eConv2D)                                                                                         \n",
            "                                                                                                  \n",
            " batch_normalization_111 (Batch  (None, 7, 7, 32)    128         ['separable_conv2d_108[0][0]']   \n",
            " Normalization)                                                                                   \n",
            "                                                                                                  \n",
            " activation_111 (Activation)    (None, 7, 7, 32)     0           ['batch_normalization_111[0][0]']\n",
            "                                                                                                  \n",
            " separable_conv2d_109 (Separabl  (None, 7, 7, 32)    1312        ['activation_111[0][0]']         \n",
            " eConv2D)                                                                                         \n",
            "                                                                                                  \n",
            " batch_normalization_112 (Batch  (None, 7, 7, 32)    128         ['separable_conv2d_109[0][0]']   \n",
            " Normalization)                                                                                   \n",
            "                                                                                                  \n",
            " activation_112 (Activation)    (None, 7, 7, 32)     0           ['batch_normalization_112[0][0]']\n",
            "                                                                                                  \n",
            " separable_conv2d_110 (Separabl  (None, 7, 7, 32)    1312        ['activation_112[0][0]']         \n",
            " eConv2D)                                                                                         \n",
            "                                                                                                  \n",
            " batch_normalization_113 (Batch  (None, 7, 7, 32)    128         ['separable_conv2d_110[0][0]']   \n",
            " Normalization)                                                                                   \n",
            "                                                                                                  \n",
            " activation_113 (Activation)    (None, 7, 7, 32)     0           ['batch_normalization_113[0][0]']\n",
            "                                                                                                  \n",
            " conv2d_18 (Conv2D)             (None, 7, 7, 32)     544         ['add_35[0][0]']                 \n",
            "                                                                                                  \n",
            " add_36 (Add)                   (None, 7, 7, 32)     0           ['activation_113[0][0]',         \n",
            "                                                                  'conv2d_18[0][0]']              \n",
            "                                                                                                  \n",
            " separable_conv2d_111 (Separabl  (None, 7, 7, 32)    1312        ['add_36[0][0]']                 \n",
            " eConv2D)                                                                                         \n",
            "                                                                                                  \n",
            " batch_normalization_114 (Batch  (None, 7, 7, 32)    128         ['separable_conv2d_111[0][0]']   \n",
            " Normalization)                                                                                   \n",
            "                                                                                                  \n",
            " activation_114 (Activation)    (None, 7, 7, 32)     0           ['batch_normalization_114[0][0]']\n",
            "                                                                                                  \n",
            " separable_conv2d_112 (Separabl  (None, 7, 7, 32)    1312        ['activation_114[0][0]']         \n",
            " eConv2D)                                                                                         \n",
            "                                                                                                  \n",
            " batch_normalization_115 (Batch  (None, 7, 7, 32)    128         ['separable_conv2d_112[0][0]']   \n",
            " Normalization)                                                                                   \n",
            "                                                                                                  \n",
            " activation_115 (Activation)    (None, 7, 7, 32)     0           ['batch_normalization_115[0][0]']\n",
            "                                                                                                  \n",
            " separable_conv2d_113 (Separabl  (None, 7, 7, 32)    1312        ['activation_115[0][0]']         \n",
            " eConv2D)                                                                                         \n",
            "                                                                                                  \n",
            " batch_normalization_116 (Batch  (None, 7, 7, 32)    128         ['separable_conv2d_113[0][0]']   \n",
            " Normalization)                                                                                   \n",
            "                                                                                                  \n",
            " activation_116 (Activation)    (None, 7, 7, 32)     0           ['batch_normalization_116[0][0]']\n",
            "                                                                                                  \n",
            " add_37 (Add)                   (None, 7, 7, 32)     0           ['activation_116[0][0]',         \n",
            "                                                                  'add_36[0][0]']                 \n",
            "                                                                                                  \n",
            " separable_conv2d_114 (Separabl  (None, 7, 7, 32)    1312        ['add_37[0][0]']                 \n",
            " eConv2D)                                                                                         \n",
            "                                                                                                  \n",
            " batch_normalization_117 (Batch  (None, 7, 7, 32)    128         ['separable_conv2d_114[0][0]']   \n",
            " Normalization)                                                                                   \n",
            "                                                                                                  \n",
            " activation_117 (Activation)    (None, 7, 7, 32)     0           ['batch_normalization_117[0][0]']\n",
            "                                                                                                  \n",
            " separable_conv2d_115 (Separabl  (None, 7, 7, 32)    1312        ['activation_117[0][0]']         \n",
            " eConv2D)                                                                                         \n",
            "                                                                                                  \n",
            " batch_normalization_118 (Batch  (None, 7, 7, 32)    128         ['separable_conv2d_115[0][0]']   \n",
            " Normalization)                                                                                   \n",
            "                                                                                                  \n",
            " activation_118 (Activation)    (None, 7, 7, 32)     0           ['batch_normalization_118[0][0]']\n",
            "                                                                                                  \n",
            " separable_conv2d_116 (Separabl  (None, 7, 7, 32)    1312        ['activation_118[0][0]']         \n",
            " eConv2D)                                                                                         \n",
            "                                                                                                  \n",
            " batch_normalization_119 (Batch  (None, 7, 7, 32)    128         ['separable_conv2d_116[0][0]']   \n",
            " Normalization)                                                                                   \n",
            "                                                                                                  \n",
            " activation_119 (Activation)    (None, 7, 7, 32)     0           ['batch_normalization_119[0][0]']\n",
            "                                                                                                  \n",
            " add_38 (Add)                   (None, 7, 7, 32)     0           ['activation_119[0][0]',         \n",
            "                                                                  'add_37[0][0]']                 \n",
            "                                                                                                  \n",
            " separable_conv2d_117 (Separabl  (None, 7, 7, 32)    1312        ['add_38[0][0]']                 \n",
            " eConv2D)                                                                                         \n",
            "                                                                                                  \n",
            " batch_normalization_120 (Batch  (None, 7, 7, 32)    128         ['separable_conv2d_117[0][0]']   \n",
            " Normalization)                                                                                   \n",
            "                                                                                                  \n",
            " activation_120 (Activation)    (None, 7, 7, 32)     0           ['batch_normalization_120[0][0]']\n",
            "                                                                                                  \n",
            " separable_conv2d_118 (Separabl  (None, 7, 7, 32)    1312        ['activation_120[0][0]']         \n",
            " eConv2D)                                                                                         \n",
            "                                                                                                  \n",
            " batch_normalization_121 (Batch  (None, 7, 7, 32)    128         ['separable_conv2d_118[0][0]']   \n",
            " Normalization)                                                                                   \n",
            "                                                                                                  \n",
            " activation_121 (Activation)    (None, 7, 7, 32)     0           ['batch_normalization_121[0][0]']\n",
            "                                                                                                  \n",
            " separable_conv2d_119 (Separabl  (None, 7, 7, 32)    1312        ['activation_121[0][0]']         \n",
            " eConv2D)                                                                                         \n",
            "                                                                                                  \n",
            " batch_normalization_122 (Batch  (None, 7, 7, 32)    128         ['separable_conv2d_119[0][0]']   \n",
            " Normalization)                                                                                   \n",
            "                                                                                                  \n",
            " activation_122 (Activation)    (None, 7, 7, 32)     0           ['batch_normalization_122[0][0]']\n",
            "                                                                                                  \n",
            " max_pooling2d_12 (MaxPooling2D  (None, 4, 4, 32)    0           ['activation_122[0][0]']         \n",
            " )                                                                                                \n",
            "                                                                                                  \n",
            " conv2d_19 (Conv2D)             (None, 4, 4, 32)     1056        ['add_38[0][0]']                 \n",
            "                                                                                                  \n",
            " add_39 (Add)                   (None, 4, 4, 32)     0           ['max_pooling2d_12[0][0]',       \n",
            "                                                                  'conv2d_19[0][0]']              \n",
            "                                                                                                  \n",
            " separable_conv2d_120 (Separabl  (None, 4, 4, 48)    1824        ['add_39[0][0]']                 \n",
            " eConv2D)                                                                                         \n",
            "                                                                                                  \n",
            " batch_normalization_123 (Batch  (None, 4, 4, 48)    192         ['separable_conv2d_120[0][0]']   \n",
            " Normalization)                                                                                   \n",
            "                                                                                                  \n",
            " activation_123 (Activation)    (None, 4, 4, 48)     0           ['batch_normalization_123[0][0]']\n",
            "                                                                                                  \n",
            " separable_conv2d_121 (Separabl  (None, 4, 4, 48)    2736        ['activation_123[0][0]']         \n",
            " eConv2D)                                                                                         \n",
            "                                                                                                  \n",
            " batch_normalization_124 (Batch  (None, 4, 4, 48)    192         ['separable_conv2d_121[0][0]']   \n",
            " Normalization)                                                                                   \n",
            "                                                                                                  \n",
            " activation_124 (Activation)    (None, 4, 4, 48)     0           ['batch_normalization_124[0][0]']\n",
            "                                                                                                  \n",
            " separable_conv2d_122 (Separabl  (None, 4, 4, 48)    2736        ['activation_124[0][0]']         \n",
            " eConv2D)                                                                                         \n",
            "                                                                                                  \n",
            " batch_normalization_125 (Batch  (None, 4, 4, 48)    192         ['separable_conv2d_122[0][0]']   \n",
            " Normalization)                                                                                   \n",
            "                                                                                                  \n",
            " activation_125 (Activation)    (None, 4, 4, 48)     0           ['batch_normalization_125[0][0]']\n",
            "                                                                                                  \n",
            " conv2d_20 (Conv2D)             (None, 4, 4, 48)     1584        ['add_39[0][0]']                 \n",
            "                                                                                                  \n",
            " add_40 (Add)                   (None, 4, 4, 48)     0           ['activation_125[0][0]',         \n",
            "                                                                  'conv2d_20[0][0]']              \n",
            "                                                                                                  \n",
            " separable_conv2d_123 (Separabl  (None, 4, 4, 48)    2736        ['add_40[0][0]']                 \n",
            " eConv2D)                                                                                         \n",
            "                                                                                                  \n",
            " batch_normalization_126 (Batch  (None, 4, 4, 48)    192         ['separable_conv2d_123[0][0]']   \n",
            " Normalization)                                                                                   \n",
            "                                                                                                  \n",
            " activation_126 (Activation)    (None, 4, 4, 48)     0           ['batch_normalization_126[0][0]']\n",
            "                                                                                                  \n",
            " separable_conv2d_124 (Separabl  (None, 4, 4, 48)    2736        ['activation_126[0][0]']         \n",
            " eConv2D)                                                                                         \n",
            "                                                                                                  \n",
            " batch_normalization_127 (Batch  (None, 4, 4, 48)    192         ['separable_conv2d_124[0][0]']   \n",
            " Normalization)                                                                                   \n",
            "                                                                                                  \n",
            " activation_127 (Activation)    (None, 4, 4, 48)     0           ['batch_normalization_127[0][0]']\n",
            "                                                                                                  \n",
            " separable_conv2d_125 (Separabl  (None, 4, 4, 48)    2736        ['activation_127[0][0]']         \n",
            " eConv2D)                                                                                         \n",
            "                                                                                                  \n",
            " batch_normalization_128 (Batch  (None, 4, 4, 48)    192         ['separable_conv2d_125[0][0]']   \n",
            " Normalization)                                                                                   \n",
            "                                                                                                  \n",
            " activation_128 (Activation)    (None, 4, 4, 48)     0           ['batch_normalization_128[0][0]']\n",
            "                                                                                                  \n",
            " add_41 (Add)                   (None, 4, 4, 48)     0           ['activation_128[0][0]',         \n",
            "                                                                  'add_40[0][0]']                 \n",
            "                                                                                                  \n",
            " separable_conv2d_126 (Separabl  (None, 4, 4, 48)    2736        ['add_41[0][0]']                 \n",
            " eConv2D)                                                                                         \n",
            "                                                                                                  \n",
            " batch_normalization_129 (Batch  (None, 4, 4, 48)    192         ['separable_conv2d_126[0][0]']   \n",
            " Normalization)                                                                                   \n",
            "                                                                                                  \n",
            " activation_129 (Activation)    (None, 4, 4, 48)     0           ['batch_normalization_129[0][0]']\n",
            "                                                                                                  \n",
            " separable_conv2d_127 (Separabl  (None, 4, 4, 48)    2736        ['activation_129[0][0]']         \n",
            " eConv2D)                                                                                         \n",
            "                                                                                                  \n",
            " batch_normalization_130 (Batch  (None, 4, 4, 48)    192         ['separable_conv2d_127[0][0]']   \n",
            " Normalization)                                                                                   \n",
            "                                                                                                  \n",
            " activation_130 (Activation)    (None, 4, 4, 48)     0           ['batch_normalization_130[0][0]']\n",
            "                                                                                                  \n",
            " separable_conv2d_128 (Separabl  (None, 4, 4, 48)    2736        ['activation_130[0][0]']         \n",
            " eConv2D)                                                                                         \n",
            "                                                                                                  \n",
            " batch_normalization_131 (Batch  (None, 4, 4, 48)    192         ['separable_conv2d_128[0][0]']   \n",
            " Normalization)                                                                                   \n",
            "                                                                                                  \n",
            " activation_131 (Activation)    (None, 4, 4, 48)     0           ['batch_normalization_131[0][0]']\n",
            "                                                                                                  \n",
            " add_42 (Add)                   (None, 4, 4, 48)     0           ['activation_131[0][0]',         \n",
            "                                                                  'add_41[0][0]']                 \n",
            "                                                                                                  \n",
            " separable_conv2d_129 (Separabl  (None, 4, 4, 48)    2736        ['add_42[0][0]']                 \n",
            " eConv2D)                                                                                         \n",
            "                                                                                                  \n",
            " batch_normalization_132 (Batch  (None, 4, 4, 48)    192         ['separable_conv2d_129[0][0]']   \n",
            " Normalization)                                                                                   \n",
            "                                                                                                  \n",
            " activation_132 (Activation)    (None, 4, 4, 48)     0           ['batch_normalization_132[0][0]']\n",
            "                                                                                                  \n",
            " separable_conv2d_130 (Separabl  (None, 4, 4, 48)    2736        ['activation_132[0][0]']         \n",
            " eConv2D)                                                                                         \n",
            "                                                                                                  \n",
            " batch_normalization_133 (Batch  (None, 4, 4, 48)    192         ['separable_conv2d_130[0][0]']   \n",
            " Normalization)                                                                                   \n",
            "                                                                                                  \n",
            " activation_133 (Activation)    (None, 4, 4, 48)     0           ['batch_normalization_133[0][0]']\n",
            "                                                                                                  \n",
            " separable_conv2d_131 (Separabl  (None, 4, 4, 48)    2736        ['activation_133[0][0]']         \n",
            " eConv2D)                                                                                         \n",
            "                                                                                                  \n",
            " batch_normalization_134 (Batch  (None, 4, 4, 48)    192         ['separable_conv2d_131[0][0]']   \n",
            " Normalization)                                                                                   \n",
            "                                                                                                  \n",
            " activation_134 (Activation)    (None, 4, 4, 48)     0           ['batch_normalization_134[0][0]']\n",
            "                                                                                                  \n",
            " max_pooling2d_13 (MaxPooling2D  (None, 2, 2, 48)    0           ['activation_134[0][0]']         \n",
            " )                                                                                                \n",
            "                                                                                                  \n",
            " conv2d_21 (Conv2D)             (None, 2, 2, 48)     2352        ['add_42[0][0]']                 \n",
            "                                                                                                  \n",
            " add_43 (Add)                   (None, 2, 2, 48)     0           ['max_pooling2d_13[0][0]',       \n",
            "                                                                  'conv2d_21[0][0]']              \n",
            "                                                                                                  \n",
            " separable_conv2d_132 (Separabl  (None, 2, 2, 64)    3504        ['add_43[0][0]']                 \n",
            " eConv2D)                                                                                         \n",
            "                                                                                                  \n",
            " batch_normalization_135 (Batch  (None, 2, 2, 64)    256         ['separable_conv2d_132[0][0]']   \n",
            " Normalization)                                                                                   \n",
            "                                                                                                  \n",
            " activation_135 (Activation)    (None, 2, 2, 64)     0           ['batch_normalization_135[0][0]']\n",
            "                                                                                                  \n",
            " separable_conv2d_133 (Separabl  (None, 2, 2, 64)    4672        ['activation_135[0][0]']         \n",
            " eConv2D)                                                                                         \n",
            "                                                                                                  \n",
            " batch_normalization_136 (Batch  (None, 2, 2, 64)    256         ['separable_conv2d_133[0][0]']   \n",
            " Normalization)                                                                                   \n",
            "                                                                                                  \n",
            " activation_136 (Activation)    (None, 2, 2, 64)     0           ['batch_normalization_136[0][0]']\n",
            "                                                                                                  \n",
            " separable_conv2d_134 (Separabl  (None, 2, 2, 64)    4672        ['activation_136[0][0]']         \n",
            " eConv2D)                                                                                         \n",
            "                                                                                                  \n",
            " batch_normalization_137 (Batch  (None, 2, 2, 64)    256         ['separable_conv2d_134[0][0]']   \n",
            " Normalization)                                                                                   \n",
            "                                                                                                  \n",
            " activation_137 (Activation)    (None, 2, 2, 64)     0           ['batch_normalization_137[0][0]']\n",
            "                                                                                                  \n",
            " conv2d_22 (Conv2D)             (None, 2, 2, 64)     3136        ['add_43[0][0]']                 \n",
            "                                                                                                  \n",
            " add_44 (Add)                   (None, 2, 2, 64)     0           ['activation_137[0][0]',         \n",
            "                                                                  'conv2d_22[0][0]']              \n",
            "                                                                                                  \n",
            " separable_conv2d_135 (Separabl  (None, 2, 2, 64)    4672        ['add_44[0][0]']                 \n",
            " eConv2D)                                                                                         \n",
            "                                                                                                  \n",
            " batch_normalization_138 (Batch  (None, 2, 2, 64)    256         ['separable_conv2d_135[0][0]']   \n",
            " Normalization)                                                                                   \n",
            "                                                                                                  \n",
            " activation_138 (Activation)    (None, 2, 2, 64)     0           ['batch_normalization_138[0][0]']\n",
            "                                                                                                  \n",
            " separable_conv2d_136 (Separabl  (None, 2, 2, 64)    4672        ['activation_138[0][0]']         \n",
            " eConv2D)                                                                                         \n",
            "                                                                                                  \n",
            " batch_normalization_139 (Batch  (None, 2, 2, 64)    256         ['separable_conv2d_136[0][0]']   \n",
            " Normalization)                                                                                   \n",
            "                                                                                                  \n",
            " activation_139 (Activation)    (None, 2, 2, 64)     0           ['batch_normalization_139[0][0]']\n",
            "                                                                                                  \n",
            " separable_conv2d_137 (Separabl  (None, 2, 2, 64)    4672        ['activation_139[0][0]']         \n",
            " eConv2D)                                                                                         \n",
            "                                                                                                  \n",
            " batch_normalization_140 (Batch  (None, 2, 2, 64)    256         ['separable_conv2d_137[0][0]']   \n",
            " Normalization)                                                                                   \n",
            "                                                                                                  \n",
            " activation_140 (Activation)    (None, 2, 2, 64)     0           ['batch_normalization_140[0][0]']\n",
            "                                                                                                  \n",
            " add_45 (Add)                   (None, 2, 2, 64)     0           ['activation_140[0][0]',         \n",
            "                                                                  'add_44[0][0]']                 \n",
            "                                                                                                  \n",
            " separable_conv2d_138 (Separabl  (None, 2, 2, 64)    4672        ['add_45[0][0]']                 \n",
            " eConv2D)                                                                                         \n",
            "                                                                                                  \n",
            " batch_normalization_141 (Batch  (None, 2, 2, 64)    256         ['separable_conv2d_138[0][0]']   \n",
            " Normalization)                                                                                   \n",
            "                                                                                                  \n",
            " activation_141 (Activation)    (None, 2, 2, 64)     0           ['batch_normalization_141[0][0]']\n",
            "                                                                                                  \n",
            " separable_conv2d_139 (Separabl  (None, 2, 2, 64)    4672        ['activation_141[0][0]']         \n",
            " eConv2D)                                                                                         \n",
            "                                                                                                  \n",
            " batch_normalization_142 (Batch  (None, 2, 2, 64)    256         ['separable_conv2d_139[0][0]']   \n",
            " Normalization)                                                                                   \n",
            "                                                                                                  \n",
            " activation_142 (Activation)    (None, 2, 2, 64)     0           ['batch_normalization_142[0][0]']\n",
            "                                                                                                  \n",
            " separable_conv2d_140 (Separabl  (None, 2, 2, 64)    4672        ['activation_142[0][0]']         \n",
            " eConv2D)                                                                                         \n",
            "                                                                                                  \n",
            " batch_normalization_143 (Batch  (None, 2, 2, 64)    256         ['separable_conv2d_140[0][0]']   \n",
            " Normalization)                                                                                   \n",
            "                                                                                                  \n",
            " activation_143 (Activation)    (None, 2, 2, 64)     0           ['batch_normalization_143[0][0]']\n",
            "                                                                                                  \n",
            " add_46 (Add)                   (None, 2, 2, 64)     0           ['activation_143[0][0]',         \n",
            "                                                                  'add_45[0][0]']                 \n",
            "                                                                                                  \n",
            " separable_conv2d_141 (Separabl  (None, 2, 2, 64)    4672        ['add_46[0][0]']                 \n",
            " eConv2D)                                                                                         \n",
            "                                                                                                  \n",
            " batch_normalization_144 (Batch  (None, 2, 2, 64)    256         ['separable_conv2d_141[0][0]']   \n",
            " Normalization)                                                                                   \n",
            "                                                                                                  \n",
            " activation_144 (Activation)    (None, 2, 2, 64)     0           ['batch_normalization_144[0][0]']\n",
            "                                                                                                  \n",
            " separable_conv2d_142 (Separabl  (None, 2, 2, 64)    4672        ['activation_144[0][0]']         \n",
            " eConv2D)                                                                                         \n",
            "                                                                                                  \n",
            " batch_normalization_145 (Batch  (None, 2, 2, 64)    256         ['separable_conv2d_142[0][0]']   \n",
            " Normalization)                                                                                   \n",
            "                                                                                                  \n",
            " activation_145 (Activation)    (None, 2, 2, 64)     0           ['batch_normalization_145[0][0]']\n",
            "                                                                                                  \n",
            " separable_conv2d_143 (Separabl  (None, 2, 2, 64)    4672        ['activation_145[0][0]']         \n",
            " eConv2D)                                                                                         \n",
            "                                                                                                  \n",
            " batch_normalization_146 (Batch  (None, 2, 2, 64)    256         ['separable_conv2d_143[0][0]']   \n",
            " Normalization)                                                                                   \n",
            "                                                                                                  \n",
            " activation_146 (Activation)    (None, 2, 2, 64)     0           ['batch_normalization_146[0][0]']\n",
            "                                                                                                  \n",
            " max_pooling2d_14 (MaxPooling2D  (None, 1, 1, 64)    0           ['activation_146[0][0]']         \n",
            " )                                                                                                \n",
            "                                                                                                  \n",
            " conv2d_23 (Conv2D)             (None, 1, 1, 64)     4160        ['add_46[0][0]']                 \n",
            "                                                                                                  \n",
            " add_47 (Add)                   (None, 1, 1, 64)     0           ['max_pooling2d_14[0][0]',       \n",
            "                                                                  'conv2d_23[0][0]']              \n",
            "                                                                                                  \n",
            " flatten_2 (Flatten)            (None, 64)           0           ['add_47[0][0]']                 \n",
            "                                                                                                  \n",
            " dense_4 (Dense)                (None, 64)           4160        ['flatten_2[0][0]']              \n",
            "                                                                                                  \n",
            " dropout_2 (Dropout)            (None, 64)           0           ['dense_4[0][0]']                \n",
            "                                                                                                  \n",
            " dense_5 (Dense)                (None, 10)           650         ['dropout_2[0][0]']              \n",
            "                                                                                                  \n",
            "==================================================================================================\n",
            "Total params: 132,506\n",
            "Trainable params: 128,634\n",
            "Non-trainable params: 3,872\n",
            "__________________________________________________________________________________________________\n"
          ]
        }
      ]
    },
    {
      "cell_type": "markdown",
      "source": [
        "# Compiling the model"
      ],
      "metadata": {
        "id": "Ee5AjQdY8y0o"
      }
    },
    {
      "cell_type": "code",
      "source": [
        "# optimizer = keras.optimizers.SGD(learning_rate=0.0001, momentum=0.9)\n",
        "optimizer = keras.optimizers.Adam(learning_rate=0.001)\n",
        "loss = \"sparse_categorical_crossentropy\"\n",
        "metrics = [\"accuracy\"]\n",
        "\n",
        "model_with_residual_blocks.compile(optimizer=optimizer, loss=loss, metrics=metrics)\n"
      ],
      "metadata": {
        "id": "PCckkvS18NuG"
      },
      "execution_count": 16,
      "outputs": []
    },
    {
      "cell_type": "markdown",
      "source": [
        "# Setting up some callbacks"
      ],
      "metadata": {
        "id": "vG_KCOb-81yg"
      }
    },
    {
      "cell_type": "code",
      "source": [
        "callbacks = [\n",
        "             keras.callbacks.ModelCheckpoint(\"/content/drive/MyDrive/fashion_mnist/fashion_mnist_model_with_residual_blocks\", \n",
        "                                             save_best_only=True, \n",
        "                                             monitor =\"val_loss\"), \n",
        "             keras.callbacks.EarlyStopping(patience=10), \n",
        "             #keras.callbacks.ReduceLROnPlateau(monitor='val_loss', factor=0.1, patience=2)\n",
        "]"
      ],
      "metadata": {
        "id": "qO-_FIMS89Kb"
      },
      "execution_count": 17,
      "outputs": []
    },
    {
      "cell_type": "code",
      "source": [
        "history_model_with_residual_blocks= model_with_residual_blocks.fit(x=x_train, \n",
        "                        y=y_train, \n",
        "                        batch_size=128, \n",
        "                        epochs=100, \n",
        "                        callbacks=callbacks, \n",
        "                        validation_data=(x_val, y_val)\n",
        "                        )"
      ],
      "metadata": {
        "colab": {
          "base_uri": "https://localhost:8080/"
        },
        "id": "aSvPfEDO9Ekg",
        "outputId": "5ca20ed1-7b76-4815-b468-fd4ad790091e"
      },
      "execution_count": 18,
      "outputs": [
        {
          "output_type": "stream",
          "name": "stdout",
          "text": [
            "Epoch 1/100\n",
            "391/391 [==============================] - ETA: 0s - loss: 0.8129 - accuracy: 0.7202INFO:tensorflow:Assets written to: /content/drive/MyDrive/fashion_mnist/fashion_mnist_model_with_residual_blocks/assets\n",
            "391/391 [==============================] - 198s 488ms/step - loss: 0.8129 - accuracy: 0.7202 - val_loss: 2.2457 - val_accuracy: 0.1996\n",
            "Epoch 2/100\n",
            "391/391 [==============================] - ETA: 0s - loss: 0.4765 - accuracy: 0.8353INFO:tensorflow:Assets written to: /content/drive/MyDrive/fashion_mnist/fashion_mnist_model_with_residual_blocks/assets\n",
            "391/391 [==============================] - 198s 506ms/step - loss: 0.4765 - accuracy: 0.8353 - val_loss: 0.3797 - val_accuracy: 0.8602\n",
            "Epoch 3/100\n",
            "391/391 [==============================] - 177s 453ms/step - loss: 0.4008 - accuracy: 0.8614 - val_loss: 0.3874 - val_accuracy: 0.8636\n",
            "Epoch 4/100\n",
            "391/391 [==============================] - ETA: 0s - loss: 0.3527 - accuracy: 0.8775INFO:tensorflow:Assets written to: /content/drive/MyDrive/fashion_mnist/fashion_mnist_model_with_residual_blocks/assets\n",
            "391/391 [==============================] - 200s 510ms/step - loss: 0.3527 - accuracy: 0.8775 - val_loss: 0.3526 - val_accuracy: 0.8729\n",
            "Epoch 5/100\n",
            "391/391 [==============================] - 179s 457ms/step - loss: 0.3275 - accuracy: 0.8850 - val_loss: 0.3665 - val_accuracy: 0.8791\n",
            "Epoch 6/100\n",
            "391/391 [==============================] - ETA: 0s - loss: 0.3077 - accuracy: 0.8929INFO:tensorflow:Assets written to: /content/drive/MyDrive/fashion_mnist/fashion_mnist_model_with_residual_blocks/assets\n",
            "391/391 [==============================] - 201s 515ms/step - loss: 0.3077 - accuracy: 0.8929 - val_loss: 0.3440 - val_accuracy: 0.8793\n",
            "Epoch 7/100\n",
            "391/391 [==============================] - ETA: 0s - loss: 0.2918 - accuracy: 0.8978INFO:tensorflow:Assets written to: /content/drive/MyDrive/fashion_mnist/fashion_mnist_model_with_residual_blocks/assets\n",
            "391/391 [==============================] - 196s 502ms/step - loss: 0.2918 - accuracy: 0.8978 - val_loss: 0.3205 - val_accuracy: 0.8887\n",
            "Epoch 8/100\n",
            "391/391 [==============================] - ETA: 0s - loss: 0.2848 - accuracy: 0.9011INFO:tensorflow:Assets written to: /content/drive/MyDrive/fashion_mnist/fashion_mnist_model_with_residual_blocks/assets\n",
            "391/391 [==============================] - 197s 505ms/step - loss: 0.2848 - accuracy: 0.9011 - val_loss: 0.3195 - val_accuracy: 0.8892\n",
            "Epoch 9/100\n",
            "391/391 [==============================] - 175s 447ms/step - loss: 0.2638 - accuracy: 0.9062 - val_loss: 0.3503 - val_accuracy: 0.8850\n",
            "Epoch 10/100\n",
            "391/391 [==============================] - 175s 448ms/step - loss: 0.2584 - accuracy: 0.9095 - val_loss: 0.3204 - val_accuracy: 0.8950\n",
            "Epoch 11/100\n",
            "391/391 [==============================] - 175s 448ms/step - loss: 0.2512 - accuracy: 0.9118 - val_loss: 0.3265 - val_accuracy: 0.8829\n",
            "Epoch 12/100\n",
            "391/391 [==============================] - 176s 449ms/step - loss: 0.2384 - accuracy: 0.9146 - val_loss: 0.3224 - val_accuracy: 0.8840\n",
            "Epoch 13/100\n",
            "391/391 [==============================] - ETA: 0s - loss: 0.2320 - accuracy: 0.9183INFO:tensorflow:Assets written to: /content/drive/MyDrive/fashion_mnist/fashion_mnist_model_with_residual_blocks/assets\n",
            "391/391 [==============================] - 201s 515ms/step - loss: 0.2320 - accuracy: 0.9183 - val_loss: 0.3121 - val_accuracy: 0.9011\n",
            "Epoch 14/100\n",
            "391/391 [==============================] - 177s 453ms/step - loss: 0.2250 - accuracy: 0.9198 - val_loss: 0.3204 - val_accuracy: 0.8897\n",
            "Epoch 15/100\n",
            "391/391 [==============================] - ETA: 0s - loss: 0.2210 - accuracy: 0.9209INFO:tensorflow:Assets written to: /content/drive/MyDrive/fashion_mnist/fashion_mnist_model_with_residual_blocks/assets\n",
            "391/391 [==============================] - 201s 515ms/step - loss: 0.2210 - accuracy: 0.9209 - val_loss: 0.3084 - val_accuracy: 0.8981\n",
            "Epoch 16/100\n",
            "391/391 [==============================] - ETA: 0s - loss: 0.2161 - accuracy: 0.9243INFO:tensorflow:Assets written to: /content/drive/MyDrive/fashion_mnist/fashion_mnist_model_with_residual_blocks/assets\n",
            "391/391 [==============================] - 200s 512ms/step - loss: 0.2161 - accuracy: 0.9243 - val_loss: 0.3070 - val_accuracy: 0.8944\n",
            "Epoch 17/100\n",
            "391/391 [==============================] - ETA: 0s - loss: 0.2040 - accuracy: 0.9279INFO:tensorflow:Assets written to: /content/drive/MyDrive/fashion_mnist/fashion_mnist_model_with_residual_blocks/assets\n",
            "391/391 [==============================] - 200s 512ms/step - loss: 0.2040 - accuracy: 0.9279 - val_loss: 0.2930 - val_accuracy: 0.9023\n",
            "Epoch 18/100\n",
            "391/391 [==============================] - 174s 444ms/step - loss: 0.2024 - accuracy: 0.9271 - val_loss: 0.3469 - val_accuracy: 0.8865\n",
            "Epoch 19/100\n",
            "391/391 [==============================] - 173s 443ms/step - loss: 0.1943 - accuracy: 0.9303 - val_loss: 0.3261 - val_accuracy: 0.8956\n",
            "Epoch 20/100\n",
            "391/391 [==============================] - 173s 443ms/step - loss: 0.1898 - accuracy: 0.9318 - val_loss: 0.3439 - val_accuracy: 0.8925\n",
            "Epoch 21/100\n",
            "391/391 [==============================] - 173s 443ms/step - loss: 0.1812 - accuracy: 0.9347 - val_loss: 0.2948 - val_accuracy: 0.9071\n",
            "Epoch 22/100\n",
            "391/391 [==============================] - 178s 454ms/step - loss: 0.1824 - accuracy: 0.9346 - val_loss: 0.3324 - val_accuracy: 0.8951\n",
            "Epoch 23/100\n",
            "391/391 [==============================] - 176s 450ms/step - loss: 0.1655 - accuracy: 0.9417 - val_loss: 0.3174 - val_accuracy: 0.9089\n",
            "Epoch 24/100\n",
            "391/391 [==============================] - 176s 451ms/step - loss: 0.1738 - accuracy: 0.9379 - val_loss: 0.3032 - val_accuracy: 0.9039\n",
            "Epoch 25/100\n",
            "391/391 [==============================] - 176s 451ms/step - loss: 0.1676 - accuracy: 0.9401 - val_loss: 0.3126 - val_accuracy: 0.9041\n",
            "Epoch 26/100\n",
            "391/391 [==============================] - 176s 450ms/step - loss: 0.1603 - accuracy: 0.9420 - val_loss: 0.3597 - val_accuracy: 0.8930\n",
            "Epoch 27/100\n",
            "391/391 [==============================] - 176s 450ms/step - loss: 0.1578 - accuracy: 0.9444 - val_loss: 0.3516 - val_accuracy: 0.8954\n"
          ]
        }
      ]
    },
    {
      "cell_type": "markdown",
      "source": [
        "# Plotting the results"
      ],
      "metadata": {
        "id": "rCO_Tp7kQPny"
      }
    },
    {
      "cell_type": "code",
      "source": [
        "history = history_model_with_residual_blocks.history\n",
        "\n",
        "train_loss = history[\"loss\"]\n",
        "val_loss = history[\"val_loss\"]\n",
        "\n",
        "train_acc = history[\"accuracy\"]\n",
        "val_acc = history[\"val_accuracy\"]\n",
        "\n",
        "epochs = range(1, len(train_loss) + 1)\n",
        "\n",
        "plt.plot(epochs, train_loss, linestyle=\"solid\", color=\"green\", label=\"Training loss\")\n",
        "plt.plot(epochs, val_loss, linestyle=\"solid\", color=\"red\", label=\"Validation loss\")\n",
        "plt.xlabel(\"Epochs\")\n",
        "plt.ylabel(\"Loss\")\n",
        "plt.title(\"Training and validation loss\")\n",
        "plt.legend()\n",
        "plt.show()"
      ],
      "metadata": {
        "colab": {
          "base_uri": "https://localhost:8080/",
          "height": 295
        },
        "id": "0FckXamXQTTm",
        "outputId": "7a7780b7-2246-4338-fe51-8ffa6468180a"
      },
      "execution_count": 21,
      "outputs": [
        {
          "output_type": "display_data",
          "data": {
            "text/plain": [
              "<Figure size 432x288 with 1 Axes>"
            ],
            "image/png": "[encoded data removed]"
          },
          "metadata": {
            "needs_background": "light"
          }
        }
      ]
    },
    {
      "cell_type": "code",
      "source": [
        "plt.clf()\n",
        "\n",
        "plt.plot(epochs, train_acc, linestyle=\"solid\", color=\"green\", label=\"Training accuracy\")\n",
        "plt.plot(epochs, val_acc, linestyle=\"solid\", color=\"red\", label=\"Validation accuracy\")\n",
        "plt.xlabel(\"Epochs\")\n",
        "plt.ylabel(\"Accuracy\")\n",
        "plt.title(\"Training and validation accuracy\")\n",
        "plt.legend()\n",
        "plt.show()"
      ],
      "metadata": {
        "colab": {
          "base_uri": "https://localhost:8080/",
          "height": 295
        },
        "id": "jKcC2a-DSJab",
        "outputId": "bb95c6ce-cd99-45bc-cfee-eb4cda2520b0"
      },
      "execution_count": 22,
      "outputs": [
        {
          "output_type": "display_data",
          "data": {
            "text/plain": [
              "<Figure size 432x288 with 1 Axes>"
            ],
            "image/png": "[encoded data removed]"
          },
          "metadata": {
            "needs_background": "light"
          }
        }
      ]
    },
    {
      "cell_type": "code",
      "source": [
        "model = keras.models.load_model(\"/content/drive/MyDrive/fashion_mnist/fashion_mnist_model_with_residual_blocks\")"
      ],
      "metadata": {
        "id": "WuSkT6M9TVaD"
      },
      "execution_count": 23,
      "outputs": []
    },
    {
      "cell_type": "code",
      "source": [
        "test_loss, test_acc = model.evaluate(x=x_test, y=y_test)\n",
        "print(f\"The test accuracy on new unseen data is {test_acc}\")"
      ],
      "metadata": {
        "colab": {
          "base_uri": "https://localhost:8080/"
        },
        "id": "c2ind3EXSxXY",
        "outputId": "34b56779-a4e1-44c5-f3d1-1c7910e380a1"
      },
      "execution_count": 24,
      "outputs": [
        {
          "output_type": "stream",
          "name": "stdout",
          "text": [
            "313/313 [==============================] - 10s 28ms/step - loss: 0.3152 - accuracy: 0.8985\n",
            "The test accuracy on new unseen data is 0.8985000252723694\n"
          ]
        }
      ]
    }
  ]
}