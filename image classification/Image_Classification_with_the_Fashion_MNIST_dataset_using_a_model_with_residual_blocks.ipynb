{
  "nbformat": 4,
  "nbformat_minor": 0,
  "metadata": {
    "colab": {
      "name": "Image Classification with the Fashion MNIST dataset using a model with residual blocks.ipynb",
      "provenance": [],
      "collapsed_sections": [],
      "authorship_tag": "ABX9TyNAPx1tJNZMi+rhdD0d7syx",
      "include_colab_link": true
    },
    "kernelspec": {
      "name": "python3",
      "display_name": "Python 3"
    },
    "language_info": {
      "name": "python"
    }
  },
  "cells": [
    {
      "cell_type": "markdown",
      "metadata": {
        "id": "view-in-github",
        "colab_type": "text"
      },
      "source": [
        "<a href=\"https://colab.research.google.com/github/CelikAbdullah/my-deep-learning-notebooks/blob/main/image%20classification/Image_Classification_with_the_Fashion_MNIST_dataset_using_a_model_with_residual_blocks.ipynb\" target=\"_parent\"><img src=\"https://colab.research.google.com/assets/colab-badge.svg\" alt=\"Open In Colab\"/></a>"
      ]
    },
    {
      "cell_type": "markdown",
      "source": [
        "# Imports"
      ],
      "metadata": {
        "id": "gVrZIta42ArF"
      }
    },
    {
      "cell_type": "code",
      "execution_count": 1,
      "metadata": {
        "id": "QTnV1ZsQ1Kep"
      },
      "outputs": [],
      "source": [
        "from tensorflow import keras\n",
        "import matplotlib.pyplot as plt"
      ]
    },
    {
      "cell_type": "markdown",
      "source": [
        "# Getting the Fashion MNIST dataset"
      ],
      "metadata": {
        "id": "p8nJ6EGD2EG9"
      }
    },
    {
      "cell_type": "code",
      "source": [
        "(x_train, y_train), (x_test, y_test) = keras.datasets.fashion_mnist.load_data()"
      ],
      "metadata": {
        "colab": {
          "base_uri": "https://localhost:8080/"
        },
        "id": "XoVyjfrI1aMU",
        "outputId": "f0054879-6348-455b-9da3-2562be2a3008"
      },
      "execution_count": 2,
      "outputs": [
        {
          "output_type": "stream",
          "name": "stdout",
          "text": [
            "Downloading data from https://storage.googleapis.com/tensorflow/tf-keras-datasets/train-labels-idx1-ubyte.gz\n",
            "32768/29515 [=================================] - 0s 0us/step\n",
            "40960/29515 [=========================================] - 0s 0us/step\n",
            "Downloading data from https://storage.googleapis.com/tensorflow/tf-keras-datasets/train-images-idx3-ubyte.gz\n",
            "26427392/26421880 [==============================] - 0s 0us/step\n",
            "26435584/26421880 [==============================] - 0s 0us/step\n",
            "Downloading data from https://storage.googleapis.com/tensorflow/tf-keras-datasets/t10k-labels-idx1-ubyte.gz\n",
            "16384/5148 [===============================================================================================] - 0s 0us/step\n",
            "Downloading data from https://storage.googleapis.com/tensorflow/tf-keras-datasets/t10k-images-idx3-ubyte.gz\n",
            "4423680/4422102 [==============================] - 0s 0us/step\n",
            "4431872/4422102 [==============================] - 0s 0us/step\n"
          ]
        }
      ]
    },
    {
      "cell_type": "code",
      "source": [
        "assert x_train.shape == (60000, 28, 28)\n",
        "assert x_test.shape == (10000, 28, 28)\n",
        "assert y_train.shape == (60000,)\n",
        "assert y_test.shape == (10000,)"
      ],
      "metadata": {
        "id": "aVz0Tt3-1bte"
      },
      "execution_count": 3,
      "outputs": []
    },
    {
      "cell_type": "code",
      "source": [
        "plt.imshow(x_train[5], cmap=plt.get_cmap('gray'))\n",
        "plt.show()"
      ],
      "metadata": {
        "colab": {
          "base_uri": "https://localhost:8080/",
          "height": 265
        },
        "id": "XKOYJAVe1ftG",
        "outputId": "59e0fe1b-b479-43ec-8b08-ebdfb146d4f6"
      },
      "execution_count": 5,
      "outputs": [
        {
          "output_type": "display_data",
          "data": {
            "text/plain": [
              "<Figure size 432x288 with 1 Axes>"
            ],
            "image/png": "[encoded data removed]"
          },
          "metadata": {
            "needs_background": "light"
          }
        }
      ]
    },
    {
      "cell_type": "markdown",
      "source": [
        "# Creating a validation dataset"
      ],
      "metadata": {
        "id": "6SjcDPb22KiZ"
      }
    },
    {
      "cell_type": "code",
      "source": [
        "x_val = x_train[:10000]\n",
        "x_train = x_train[10000:]\n",
        "\n",
        "y_val = y_train[:10000]\n",
        "y_train = y_train[10000:]"
      ],
      "metadata": {
        "id": "6KT4PcS11mEh"
      },
      "execution_count": 6,
      "outputs": []
    },
    {
      "cell_type": "code",
      "source": [
        "x_train.shape, x_val.shape, x_test.shape"
      ],
      "metadata": {
        "colab": {
          "base_uri": "https://localhost:8080/"
        },
        "id": "oIu5D4ZM1r8o",
        "outputId": "85ca7458-9df9-4319-c42f-311b74077156"
      },
      "execution_count": 7,
      "outputs": [
        {
          "output_type": "execute_result",
          "data": {
            "text/plain": [
              "((50000, 28, 28), (10000, 28, 28), (10000, 28, 28))"
            ]
          },
          "metadata": {},
          "execution_count": 7
        }
      ]
    },
    {
      "cell_type": "code",
      "source": [
        "y_train.shape, y_val.shape, y_test.shape"
      ],
      "metadata": {
        "colab": {
          "base_uri": "https://localhost:8080/"
        },
        "id": "ttZZ2mts10is",
        "outputId": "d8ee10fc-6e34-4c73-d4d8-3460f54f5d55"
      },
      "execution_count": 8,
      "outputs": [
        {
          "output_type": "execute_result",
          "data": {
            "text/plain": [
              "((50000,), (10000,), (10000,))"
            ]
          },
          "metadata": {},
          "execution_count": 8
        }
      ]
    },
    {
      "cell_type": "markdown",
      "source": [
        "# Preparing the data"
      ],
      "metadata": {
        "id": "vug2WGw82O5W"
      }
    },
    {
      "cell_type": "code",
      "source": [
        "x_train = x_train.reshape((50000, 28, 28, 1))\n",
        "x_train = x_train.astype(\"float32\") / 255\n",
        "\n",
        "x_val = x_val.reshape((10000, 28, 28, 1))\n",
        "x_val = x_val.astype(\"float32\") / 255\n",
        "\n",
        "x_test = x_test.reshape((10000, 28, 28, 1))\n",
        "x_test = x_test.astype(\"float32\") / 255"
      ],
      "metadata": {
        "id": "ax3-y-oJ13q1"
      },
      "execution_count": 9,
      "outputs": []
    },
    {
      "cell_type": "markdown",
      "source": [
        "# Building a model with residual blocks"
      ],
      "metadata": {
        "id": "-ZD6yIoz17Kz"
      }
    },
    {
      "cell_type": "code",
      "source": [
        "# a helper function \n",
        "def residual_block(x, num_filters, pooling = False):\n",
        "  # residual is pointing to the original input\n",
        "  residual = x\n",
        "\n",
        "  # a block containing conv layers\n",
        "  x = keras.layers.SeparableConv2D(num_filters, 3, padding=\"same\", use_bias=False)(x)\n",
        "  x = keras.layers.BatchNormalization()(x)\n",
        "  x = keras.layers.Activation(\"relu\")(x)\n",
        "  x = keras.layers.SeparableConv2D(num_filters, 3, padding=\"same\", use_bias=False)(x)\n",
        "  x = keras.layers.BatchNormalization()(x)\n",
        "  x = keras.layers.Activation(\"relu\")(x)\n",
        "  x = keras.layers.SeparableConv2D(num_filters, 3, padding=\"same\", use_bias=False)(x)\n",
        "  x = keras.layers.BatchNormalization()(x)\n",
        "  x = keras.layers.Activation(\"relu\")(x)\n",
        "\n",
        "  if pooling: \n",
        "    x = keras.layers.MaxPooling2D(2, padding=\"same\")(x)\n",
        "    residual = keras.layers.Conv2D(num_filters, 1, strides=2)(residual)\n",
        "\n",
        "  elif num_filters != residual.shape[-1]:\n",
        "    residual = keras.layers.Conv2D(num_filters, 1)(residual)\n",
        "\n",
        "  x = keras.layers.add([x, residual])\n",
        "\n",
        "  return x"
      ],
      "metadata": {
        "id": "M_ercjPd16ZY"
      },
      "execution_count": 29,
      "outputs": []
    },
    {
      "cell_type": "code",
      "source": [
        "num_classes = 10\n",
        "\n",
        "inputs = keras.Input(shape=(28,28,1))\n",
        "\n",
        "x = keras.layers.Conv2D(16,3,padding=\"same\", use_bias=False)(inputs)\n",
        "x = keras.layers.BatchNormalization()(x)\n",
        "x = keras.layers.Activation(\"relu\")(x)\n",
        "x = keras.layers.MaxPooling2D(2)(x)\n",
        "\n",
        "\n",
        "x = residual_block(x, 32, True)\n",
        "x = residual_block(x, 64, True)\n",
        "x = residual_block(x, 128, True)\n",
        "x = residual_block(x, 256, True)\n",
        "x = residual_block(x, 512, True)\n",
        "\n",
        "x = keras.layers.Flatten()(x)\n",
        "x = keras.layers.Dense(512, activation=\"relu\")(x)\n",
        "x = keras.layers.Dropout(0.5)(x)\n",
        "outputs = keras.layers.Dense(num_classes, activation=\"softmax\")(x)\n",
        "\n",
        "model_with_residual_blocks = keras.Model(inputs=inputs, outputs=outputs, name=\"model_with_residual_blocks\")"
      ],
      "metadata": {
        "id": "dP9DCxOn3-S3"
      },
      "execution_count": 30,
      "outputs": []
    },
    {
      "cell_type": "code",
      "source": [
        "model_with_residual_blocks.summary()"
      ],
      "metadata": {
        "colab": {
          "base_uri": "https://localhost:8080/"
        },
        "id": "m-hqktIo6JEX",
        "outputId": "0e62eb65-0ce9-4511-fae4-fa46af906a02"
      },
      "execution_count": 31,
      "outputs": [
        {
          "output_type": "stream",
          "name": "stdout",
          "text": [
            "Model: \"model_with_residual_blocks\"\n",
            "__________________________________________________________________________________________________\n",
            " Layer (type)                   Output Shape         Param #     Connected to                     \n",
            "==================================================================================================\n",
            " input_10 (InputLayer)          [(None, 28, 28, 1)]  0           []                               \n",
            "                                                                                                  \n",
            " conv2d_128 (Conv2D)            (None, 28, 28, 16)   144         ['input_10[0][0]']               \n",
            "                                                                                                  \n",
            " batch_normalization_97 (BatchN  (None, 28, 28, 16)  64          ['conv2d_128[0][0]']             \n",
            " ormalization)                                                                                    \n",
            "                                                                                                  \n",
            " activation_96 (Activation)     (None, 28, 28, 16)   0           ['batch_normalization_97[0][0]'] \n",
            "                                                                                                  \n",
            " max_pooling2d_32 (MaxPooling2D  (None, 14, 14, 16)  0           ['activation_96[0][0]']          \n",
            " )                                                                                                \n",
            "                                                                                                  \n",
            " separable_conv2d (SeparableCon  (None, 14, 14, 32)  656         ['max_pooling2d_32[0][0]']       \n",
            " v2D)                                                                                             \n",
            "                                                                                                  \n",
            " batch_normalization_98 (BatchN  (None, 14, 14, 32)  128         ['separable_conv2d[0][0]']       \n",
            " ormalization)                                                                                    \n",
            "                                                                                                  \n",
            " activation_97 (Activation)     (None, 14, 14, 32)   0           ['batch_normalization_98[0][0]'] \n",
            "                                                                                                  \n",
            " separable_conv2d_1 (SeparableC  (None, 14, 14, 32)  1312        ['activation_97[0][0]']          \n",
            " onv2D)                                                                                           \n",
            "                                                                                                  \n",
            " batch_normalization_99 (BatchN  (None, 14, 14, 32)  128         ['separable_conv2d_1[0][0]']     \n",
            " ormalization)                                                                                    \n",
            "                                                                                                  \n",
            " activation_98 (Activation)     (None, 14, 14, 32)   0           ['batch_normalization_99[0][0]'] \n",
            "                                                                                                  \n",
            " separable_conv2d_2 (SeparableC  (None, 14, 14, 32)  1312        ['activation_98[0][0]']          \n",
            " onv2D)                                                                                           \n",
            "                                                                                                  \n",
            " batch_normalization_100 (Batch  (None, 14, 14, 32)  128         ['separable_conv2d_2[0][0]']     \n",
            " Normalization)                                                                                   \n",
            "                                                                                                  \n",
            " activation_99 (Activation)     (None, 14, 14, 32)   0           ['batch_normalization_100[0][0]']\n",
            "                                                                                                  \n",
            " max_pooling2d_33 (MaxPooling2D  (None, 7, 7, 32)    0           ['activation_99[0][0]']          \n",
            " )                                                                                                \n",
            "                                                                                                  \n",
            " conv2d_129 (Conv2D)            (None, 7, 7, 32)     544         ['max_pooling2d_32[0][0]']       \n",
            "                                                                                                  \n",
            " add_31 (Add)                   (None, 7, 7, 32)     0           ['max_pooling2d_33[0][0]',       \n",
            "                                                                  'conv2d_129[0][0]']             \n",
            "                                                                                                  \n",
            " separable_conv2d_3 (SeparableC  (None, 7, 7, 64)    2336        ['add_31[0][0]']                 \n",
            " onv2D)                                                                                           \n",
            "                                                                                                  \n",
            " batch_normalization_101 (Batch  (None, 7, 7, 64)    256         ['separable_conv2d_3[0][0]']     \n",
            " Normalization)                                                                                   \n",
            "                                                                                                  \n",
            " activation_100 (Activation)    (None, 7, 7, 64)     0           ['batch_normalization_101[0][0]']\n",
            "                                                                                                  \n",
            " separable_conv2d_4 (SeparableC  (None, 7, 7, 64)    4672        ['activation_100[0][0]']         \n",
            " onv2D)                                                                                           \n",
            "                                                                                                  \n",
            " batch_normalization_102 (Batch  (None, 7, 7, 64)    256         ['separable_conv2d_4[0][0]']     \n",
            " Normalization)                                                                                   \n",
            "                                                                                                  \n",
            " activation_101 (Activation)    (None, 7, 7, 64)     0           ['batch_normalization_102[0][0]']\n",
            "                                                                                                  \n",
            " separable_conv2d_5 (SeparableC  (None, 7, 7, 64)    4672        ['activation_101[0][0]']         \n",
            " onv2D)                                                                                           \n",
            "                                                                                                  \n",
            " batch_normalization_103 (Batch  (None, 7, 7, 64)    256         ['separable_conv2d_5[0][0]']     \n",
            " Normalization)                                                                                   \n",
            "                                                                                                  \n",
            " activation_102 (Activation)    (None, 7, 7, 64)     0           ['batch_normalization_103[0][0]']\n",
            "                                                                                                  \n",
            " max_pooling2d_34 (MaxPooling2D  (None, 4, 4, 64)    0           ['activation_102[0][0]']         \n",
            " )                                                                                                \n",
            "                                                                                                  \n",
            " conv2d_130 (Conv2D)            (None, 4, 4, 64)     2112        ['add_31[0][0]']                 \n",
            "                                                                                                  \n",
            " add_32 (Add)                   (None, 4, 4, 64)     0           ['max_pooling2d_34[0][0]',       \n",
            "                                                                  'conv2d_130[0][0]']             \n",
            "                                                                                                  \n",
            " separable_conv2d_6 (SeparableC  (None, 4, 4, 128)   8768        ['add_32[0][0]']                 \n",
            " onv2D)                                                                                           \n",
            "                                                                                                  \n",
            " batch_normalization_104 (Batch  (None, 4, 4, 128)   512         ['separable_conv2d_6[0][0]']     \n",
            " Normalization)                                                                                   \n",
            "                                                                                                  \n",
            " activation_103 (Activation)    (None, 4, 4, 128)    0           ['batch_normalization_104[0][0]']\n",
            "                                                                                                  \n",
            " separable_conv2d_7 (SeparableC  (None, 4, 4, 128)   17536       ['activation_103[0][0]']         \n",
            " onv2D)                                                                                           \n",
            "                                                                                                  \n",
            " batch_normalization_105 (Batch  (None, 4, 4, 128)   512         ['separable_conv2d_7[0][0]']     \n",
            " Normalization)                                                                                   \n",
            "                                                                                                  \n",
            " activation_104 (Activation)    (None, 4, 4, 128)    0           ['batch_normalization_105[0][0]']\n",
            "                                                                                                  \n",
            " separable_conv2d_8 (SeparableC  (None, 4, 4, 128)   17536       ['activation_104[0][0]']         \n",
            " onv2D)                                                                                           \n",
            "                                                                                                  \n",
            " batch_normalization_106 (Batch  (None, 4, 4, 128)   512         ['separable_conv2d_8[0][0]']     \n",
            " Normalization)                                                                                   \n",
            "                                                                                                  \n",
            " activation_105 (Activation)    (None, 4, 4, 128)    0           ['batch_normalization_106[0][0]']\n",
            "                                                                                                  \n",
            " max_pooling2d_35 (MaxPooling2D  (None, 2, 2, 128)   0           ['activation_105[0][0]']         \n",
            " )                                                                                                \n",
            "                                                                                                  \n",
            " conv2d_131 (Conv2D)            (None, 2, 2, 128)    8320        ['add_32[0][0]']                 \n",
            "                                                                                                  \n",
            " add_33 (Add)                   (None, 2, 2, 128)    0           ['max_pooling2d_35[0][0]',       \n",
            "                                                                  'conv2d_131[0][0]']             \n",
            "                                                                                                  \n",
            " separable_conv2d_9 (SeparableC  (None, 2, 2, 256)   33920       ['add_33[0][0]']                 \n",
            " onv2D)                                                                                           \n",
            "                                                                                                  \n",
            " batch_normalization_107 (Batch  (None, 2, 2, 256)   1024        ['separable_conv2d_9[0][0]']     \n",
            " Normalization)                                                                                   \n",
            "                                                                                                  \n",
            " activation_106 (Activation)    (None, 2, 2, 256)    0           ['batch_normalization_107[0][0]']\n",
            "                                                                                                  \n",
            " separable_conv2d_10 (Separable  (None, 2, 2, 256)   67840       ['activation_106[0][0]']         \n",
            " Conv2D)                                                                                          \n",
            "                                                                                                  \n",
            " batch_normalization_108 (Batch  (None, 2, 2, 256)   1024        ['separable_conv2d_10[0][0]']    \n",
            " Normalization)                                                                                   \n",
            "                                                                                                  \n",
            " activation_107 (Activation)    (None, 2, 2, 256)    0           ['batch_normalization_108[0][0]']\n",
            "                                                                                                  \n",
            " separable_conv2d_11 (Separable  (None, 2, 2, 256)   67840       ['activation_107[0][0]']         \n",
            " Conv2D)                                                                                          \n",
            "                                                                                                  \n",
            " batch_normalization_109 (Batch  (None, 2, 2, 256)   1024        ['separable_conv2d_11[0][0]']    \n",
            " Normalization)                                                                                   \n",
            "                                                                                                  \n",
            " activation_108 (Activation)    (None, 2, 2, 256)    0           ['batch_normalization_109[0][0]']\n",
            "                                                                                                  \n",
            " max_pooling2d_36 (MaxPooling2D  (None, 1, 1, 256)   0           ['activation_108[0][0]']         \n",
            " )                                                                                                \n",
            "                                                                                                  \n",
            " conv2d_132 (Conv2D)            (None, 1, 1, 256)    33024       ['add_33[0][0]']                 \n",
            "                                                                                                  \n",
            " add_34 (Add)                   (None, 1, 1, 256)    0           ['max_pooling2d_36[0][0]',       \n",
            "                                                                  'conv2d_132[0][0]']             \n",
            "                                                                                                  \n",
            " separable_conv2d_12 (Separable  (None, 1, 1, 512)   133376      ['add_34[0][0]']                 \n",
            " Conv2D)                                                                                          \n",
            "                                                                                                  \n",
            " batch_normalization_110 (Batch  (None, 1, 1, 512)   2048        ['separable_conv2d_12[0][0]']    \n",
            " Normalization)                                                                                   \n",
            "                                                                                                  \n",
            " activation_109 (Activation)    (None, 1, 1, 512)    0           ['batch_normalization_110[0][0]']\n",
            "                                                                                                  \n",
            " separable_conv2d_13 (Separable  (None, 1, 1, 512)   266752      ['activation_109[0][0]']         \n",
            " Conv2D)                                                                                          \n",
            "                                                                                                  \n",
            " batch_normalization_111 (Batch  (None, 1, 1, 512)   2048        ['separable_conv2d_13[0][0]']    \n",
            " Normalization)                                                                                   \n",
            "                                                                                                  \n",
            " activation_110 (Activation)    (None, 1, 1, 512)    0           ['batch_normalization_111[0][0]']\n",
            "                                                                                                  \n",
            " separable_conv2d_14 (Separable  (None, 1, 1, 512)   266752      ['activation_110[0][0]']         \n",
            " Conv2D)                                                                                          \n",
            "                                                                                                  \n",
            " batch_normalization_112 (Batch  (None, 1, 1, 512)   2048        ['separable_conv2d_14[0][0]']    \n",
            " Normalization)                                                                                   \n",
            "                                                                                                  \n",
            " activation_111 (Activation)    (None, 1, 1, 512)    0           ['batch_normalization_112[0][0]']\n",
            "                                                                                                  \n",
            " max_pooling2d_37 (MaxPooling2D  (None, 1, 1, 512)   0           ['activation_111[0][0]']         \n",
            " )                                                                                                \n",
            "                                                                                                  \n",
            " conv2d_133 (Conv2D)            (None, 1, 1, 512)    131584      ['add_34[0][0]']                 \n",
            "                                                                                                  \n",
            " add_35 (Add)                   (None, 1, 1, 512)    0           ['max_pooling2d_37[0][0]',       \n",
            "                                                                  'conv2d_133[0][0]']             \n",
            "                                                                                                  \n",
            " flatten_5 (Flatten)            (None, 512)          0           ['add_35[0][0]']                 \n",
            "                                                                                                  \n",
            " dense_10 (Dense)               (None, 512)          262656      ['flatten_5[0][0]']              \n",
            "                                                                                                  \n",
            " dropout_5 (Dropout)            (None, 512)          0           ['dense_10[0][0]']               \n",
            "                                                                                                  \n",
            " dense_11 (Dense)               (None, 10)           5130        ['dropout_5[0][0]']              \n",
            "                                                                                                  \n",
            "==================================================================================================\n",
            "Total params: 1,350,762\n",
            "Trainable params: 1,344,778\n",
            "Non-trainable params: 5,984\n",
            "__________________________________________________________________________________________________\n"
          ]
        }
      ]
    },
    {
      "cell_type": "markdown",
      "source": [
        "# Compiling the model"
      ],
      "metadata": {
        "id": "Ee5AjQdY8y0o"
      }
    },
    {
      "cell_type": "code",
      "source": [
        "optimizer = keras.optimizers.SGD(learning_rate=0.0001, momentum=0.9)\n",
        "loss = \"sparse_categorical_crossentropy\"\n",
        "metrics = [\"accuracy\"]\n",
        "\n",
        "model_with_residual_blocks.compile(optimizer=optimizer, loss=loss, metrics=metrics)\n"
      ],
      "metadata": {
        "id": "PCckkvS18NuG"
      },
      "execution_count": 32,
      "outputs": []
    },
    {
      "cell_type": "markdown",
      "source": [
        "# Setting up some callbacks"
      ],
      "metadata": {
        "id": "vG_KCOb-81yg"
      }
    },
    {
      "cell_type": "code",
      "source": [
        "callbacks = [\n",
        "             keras.callbacks.ModelCheckpoint(\"/content/drive/MyDrive/fashion_mnist/fashion_mnist_model_with_residual_blocks\", \n",
        "                                             save_best_only=True, \n",
        "                                             monitor =\"val_loss\"), \n",
        "             keras.callbacks.EarlyStopping(patience=10), \n",
        "             keras.callbacks.ReduceLROnPlateau(monitor='val_loss', factor=0.1, patience=5)\n",
        "]"
      ],
      "metadata": {
        "id": "qO-_FIMS89Kb"
      },
      "execution_count": 33,
      "outputs": []
    },
    {
      "cell_type": "code",
      "source": [
        "history_model_with_residual_blocks= model_with_residual_blocks.fit(x=x_train, \n",
        "                        y=y_train, \n",
        "                        batch_size=128, \n",
        "                        epochs=100, \n",
        "                        callbacks=callbacks, \n",
        "                        validation_data=(x_val, y_val)\n",
        "                        )"
      ],
      "metadata": {
        "colab": {
          "base_uri": "https://localhost:8080/"
        },
        "id": "aSvPfEDO9Ekg",
        "outputId": "4b43f0f9-2778-42cb-9799-514bd3876735"
      },
      "execution_count": 34,
      "outputs": [
        {
          "output_type": "stream",
          "name": "stdout",
          "text": [
            "Epoch 1/100\n",
            "391/391 [==============================] - ETA: 0s - loss: 0.7540 - accuracy: 0.7399INFO:tensorflow:Assets written to: /content/drive/MyDrive/fashion_mnist/fashion_mnist_model_with_residual_blocks/assets\n",
            "391/391 [==============================] - 192s 485ms/step - loss: 0.7540 - accuracy: 0.7399 - val_loss: 2.1907 - val_accuracy: 0.1303 - lr: 0.0010\n",
            "Epoch 2/100\n",
            "391/391 [==============================] - ETA: 0s - loss: 0.4143 - accuracy: 0.8516INFO:tensorflow:Assets written to: /content/drive/MyDrive/fashion_mnist/fashion_mnist_model_with_residual_blocks/assets\n",
            "391/391 [==============================] - 189s 485ms/step - loss: 0.4143 - accuracy: 0.8516 - val_loss: 0.3891 - val_accuracy: 0.8565 - lr: 0.0010\n",
            "Epoch 3/100\n",
            "391/391 [==============================] - ETA: 0s - loss: 0.3556 - accuracy: 0.8706INFO:tensorflow:Assets written to: /content/drive/MyDrive/fashion_mnist/fashion_mnist_model_with_residual_blocks/assets\n",
            "391/391 [==============================] - 191s 488ms/step - loss: 0.3556 - accuracy: 0.8706 - val_loss: 0.3488 - val_accuracy: 0.8701 - lr: 0.0010\n",
            "Epoch 4/100\n",
            "391/391 [==============================] - ETA: 0s - loss: 0.3200 - accuracy: 0.8840INFO:tensorflow:Assets written to: /content/drive/MyDrive/fashion_mnist/fashion_mnist_model_with_residual_blocks/assets\n",
            "391/391 [==============================] - 191s 488ms/step - loss: 0.3200 - accuracy: 0.8840 - val_loss: 0.3440 - val_accuracy: 0.8721 - lr: 0.0010\n",
            "Epoch 5/100\n",
            "391/391 [==============================] - ETA: 0s - loss: 0.2939 - accuracy: 0.8928INFO:tensorflow:Assets written to: /content/drive/MyDrive/fashion_mnist/fashion_mnist_model_with_residual_blocks/assets\n",
            "391/391 [==============================] - 189s 484ms/step - loss: 0.2939 - accuracy: 0.8928 - val_loss: 0.3121 - val_accuracy: 0.8835 - lr: 0.0010\n",
            "Epoch 6/100\n",
            "391/391 [==============================] - ETA: 0s - loss: 0.2760 - accuracy: 0.8995INFO:tensorflow:Assets written to: /content/drive/MyDrive/fashion_mnist/fashion_mnist_model_with_residual_blocks/assets\n",
            "391/391 [==============================] - 190s 485ms/step - loss: 0.2760 - accuracy: 0.8995 - val_loss: 0.3033 - val_accuracy: 0.8885 - lr: 0.0010\n",
            "Epoch 7/100\n",
            "391/391 [==============================] - 182s 466ms/step - loss: 0.2625 - accuracy: 0.9046 - val_loss: 0.3072 - val_accuracy: 0.8873 - lr: 0.0010\n",
            "Epoch 8/100\n",
            "391/391 [==============================] - ETA: 0s - loss: 0.2467 - accuracy: 0.9100INFO:tensorflow:Assets written to: /content/drive/MyDrive/fashion_mnist/fashion_mnist_model_with_residual_blocks/assets\n",
            "391/391 [==============================] - 190s 487ms/step - loss: 0.2467 - accuracy: 0.9100 - val_loss: 0.2953 - val_accuracy: 0.8949 - lr: 0.0010\n",
            "Epoch 9/100\n",
            "391/391 [==============================] - 183s 467ms/step - loss: 0.2369 - accuracy: 0.9137 - val_loss: 0.3115 - val_accuracy: 0.8873 - lr: 0.0010\n",
            "Epoch 10/100\n",
            "391/391 [==============================] - 183s 467ms/step - loss: 0.2253 - accuracy: 0.9170 - val_loss: 0.2957 - val_accuracy: 0.8940 - lr: 0.0010\n",
            "Epoch 11/100\n",
            "391/391 [==============================] - ETA: 0s - loss: 0.2155 - accuracy: 0.9203INFO:tensorflow:Assets written to: /content/drive/MyDrive/fashion_mnist/fashion_mnist_model_with_residual_blocks/assets\n",
            "391/391 [==============================] - 190s 487ms/step - loss: 0.2155 - accuracy: 0.9203 - val_loss: 0.2831 - val_accuracy: 0.8990 - lr: 0.0010\n",
            "Epoch 12/100\n",
            "391/391 [==============================] - 182s 467ms/step - loss: 0.2062 - accuracy: 0.9244 - val_loss: 0.2991 - val_accuracy: 0.8907 - lr: 0.0010\n",
            "Epoch 13/100\n",
            "391/391 [==============================] - 182s 466ms/step - loss: 0.1999 - accuracy: 0.9278 - val_loss: 0.3048 - val_accuracy: 0.8936 - lr: 0.0010\n",
            "Epoch 14/100\n",
            "391/391 [==============================] - 182s 465ms/step - loss: 0.1904 - accuracy: 0.9291 - val_loss: 0.2850 - val_accuracy: 0.8976 - lr: 0.0010\n",
            "Epoch 15/100\n",
            "391/391 [==============================] - 182s 466ms/step - loss: 0.1831 - accuracy: 0.9328 - val_loss: 0.2876 - val_accuracy: 0.8963 - lr: 0.0010\n",
            "Epoch 16/100\n",
            "391/391 [==============================] - 183s 467ms/step - loss: 0.1776 - accuracy: 0.9345 - val_loss: 0.3088 - val_accuracy: 0.8927 - lr: 0.0010\n",
            "Epoch 17/100\n",
            "391/391 [==============================] - ETA: 0s - loss: 0.1462 - accuracy: 0.9473INFO:tensorflow:Assets written to: /content/drive/MyDrive/fashion_mnist/fashion_mnist_model_with_residual_blocks/assets\n",
            "391/391 [==============================] - 191s 489ms/step - loss: 0.1462 - accuracy: 0.9473 - val_loss: 0.2736 - val_accuracy: 0.9044 - lr: 1.0000e-04\n",
            "Epoch 18/100\n",
            "391/391 [==============================] - 183s 467ms/step - loss: 0.1293 - accuracy: 0.9545 - val_loss: 0.2758 - val_accuracy: 0.9062 - lr: 1.0000e-04\n",
            "Epoch 19/100\n",
            "391/391 [==============================] - 183s 467ms/step - loss: 0.1229 - accuracy: 0.9568 - val_loss: 0.2792 - val_accuracy: 0.9049 - lr: 1.0000e-04\n",
            "Epoch 20/100\n",
            "391/391 [==============================] - 183s 468ms/step - loss: 0.1165 - accuracy: 0.9600 - val_loss: 0.2809 - val_accuracy: 0.9044 - lr: 1.0000e-04\n",
            "Epoch 21/100\n",
            "391/391 [==============================] - 182s 466ms/step - loss: 0.1134 - accuracy: 0.9606 - val_loss: 0.2877 - val_accuracy: 0.9047 - lr: 1.0000e-04\n",
            "Epoch 22/100\n",
            "391/391 [==============================] - 182s 465ms/step - loss: 0.1107 - accuracy: 0.9618 - val_loss: 0.2895 - val_accuracy: 0.9024 - lr: 1.0000e-04\n",
            "Epoch 23/100\n",
            "391/391 [==============================] - 182s 466ms/step - loss: 0.1056 - accuracy: 0.9640 - val_loss: 0.2881 - val_accuracy: 0.9028 - lr: 1.0000e-05\n",
            "Epoch 24/100\n",
            "391/391 [==============================] - 182s 466ms/step - loss: 0.1054 - accuracy: 0.9636 - val_loss: 0.2886 - val_accuracy: 0.9030 - lr: 1.0000e-05\n",
            "Epoch 25/100\n",
            "391/391 [==============================] - 183s 467ms/step - loss: 0.1042 - accuracy: 0.9658 - val_loss: 0.2884 - val_accuracy: 0.9036 - lr: 1.0000e-05\n",
            "Epoch 26/100\n",
            "391/391 [==============================] - 183s 469ms/step - loss: 0.1041 - accuracy: 0.9650 - val_loss: 0.2888 - val_accuracy: 0.9024 - lr: 1.0000e-05\n",
            "Epoch 27/100\n",
            "391/391 [==============================] - 184s 470ms/step - loss: 0.1040 - accuracy: 0.9644 - val_loss: 0.2893 - val_accuracy: 0.9028 - lr: 1.0000e-05\n"
          ]
        }
      ]
    },
    {
      "cell_type": "markdown",
      "source": [
        "# Plotting the results"
      ],
      "metadata": {
        "id": "rCO_Tp7kQPny"
      }
    },
    {
      "cell_type": "code",
      "source": [
        "history = history_model_with_residual_blocks.history\n",
        "\n",
        "train_loss = history[\"loss\"]\n",
        "val_loss = history[\"val_loss\"]\n",
        "\n",
        "train_acc = history[\"accuracy\"]\n",
        "val_acc = history[\"val_accuracy\"]\n",
        "\n",
        "epochs = range(1, len(train_loss) + 1)\n",
        "\n",
        "plt.plot(epochs, train_loss, linestyle=\"solid\", color=\"green\", label=\"Training loss\")\n",
        "plt.plot(epochs, val_loss, linestyle=\"solid\", color=\"red\", label=\"Validation loss\")\n",
        "plt.xlabel(\"Epochs\")\n",
        "plt.ylabel(\"Loss\")\n",
        "plt.title(\"Training and validation loss\")\n",
        "plt.legend()\n",
        "plt.show()"
      ],
      "metadata": {
        "colab": {
          "base_uri": "https://localhost:8080/",
          "height": 295
        },
        "id": "0FckXamXQTTm",
        "outputId": "72db0b15-2e11-4ab1-8ab4-049d69604f0d"
      },
      "execution_count": 36,
      "outputs": [
        {
          "output_type": "display_data",
          "data": {
            "text/plain": [
              "<Figure size 432x288 with 1 Axes>"
            ],
            "image/png": "[encoded data removed]"
          },
          "metadata": {
            "needs_background": "light"
          }
        }
      ]
    },
    {
      "cell_type": "code",
      "source": [
        "plt.clf()\n",
        "\n",
        "plt.plot(epochs, train_acc, linestyle=\"solid\", color=\"green\", label=\"Training accuracy\")\n",
        "plt.plot(epochs, val_acc, linestyle=\"solid\", color=\"red\", label=\"Validation accuracy\")\n",
        "plt.xlabel(\"Epochs\")\n",
        "plt.ylabel(\"Accuracy\")\n",
        "plt.title(\"Training and validation accuracy\")\n",
        "plt.legend()\n",
        "plt.show()"
      ],
      "metadata": {
        "colab": {
          "base_uri": "https://localhost:8080/",
          "height": 295
        },
        "id": "jKcC2a-DSJab",
        "outputId": "580acf8a-bf94-4ddf-e5cf-0a3ac2f39881"
      },
      "execution_count": 37,
      "outputs": [
        {
          "output_type": "display_data",
          "data": {
            "text/plain": [
              "<Figure size 432x288 with 1 Axes>"
            ],
            "image/png": "[encoded data removed]"
          },
          "metadata": {
            "needs_background": "light"
          }
        }
      ]
    },
    {
      "cell_type": "code",
      "source": [
        "model = keras.models.load_model(\"/content/drive/MyDrive/fashion_mnist/fashion_mnist_model_with_residual_blocks\")"
      ],
      "metadata": {
        "id": "WuSkT6M9TVaD"
      },
      "execution_count": 40,
      "outputs": []
    },
    {
      "cell_type": "code",
      "source": [
        "test_loss, test_acc = model.evaluate(x=x_test, y=y_test)\n",
        "print(f\"The test accuracy on new unseen data is {test_acc}\")"
      ],
      "metadata": {
        "colab": {
          "base_uri": "https://localhost:8080/"
        },
        "id": "c2ind3EXSxXY",
        "outputId": "af0518e5-9a30-449e-d649-20ddcf72199f"
      },
      "execution_count": 41,
      "outputs": [
        {
          "output_type": "stream",
          "name": "stdout",
          "text": [
            "313/313 [==============================] - 7s 22ms/step - loss: 0.3022 - accuracy: 0.8972\n",
            "The test accuracy on new unseen data is 0.8971999883651733\n"
          ]
        }
      ]
    }
  ]
}